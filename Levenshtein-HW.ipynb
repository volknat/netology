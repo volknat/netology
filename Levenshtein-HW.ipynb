{
 "cells": [
  {
   "cell_type": "markdown",
   "metadata": {},
   "source": [
    "# Поиск наиболее близкого имени участника"
   ]
  },
  {
   "cell_type": "code",
   "execution_count": 1,
   "metadata": {},
   "outputs": [
    {
     "ename": "ModuleNotFoundError",
     "evalue": "No module named 'Levenshtein'",
     "output_type": "error",
     "traceback": [
      "\u001b[1;31m---------------------------------------------------------------------------\u001b[0m",
      "\u001b[1;31mModuleNotFoundError\u001b[0m                       Traceback (most recent call last)",
      "\u001b[1;32m<ipython-input-1-b505a2d7ef3c>\u001b[0m in \u001b[0;36m<module>\u001b[1;34m()\u001b[0m\n\u001b[0;32m      2\u001b[0m \u001b[1;31m# или pip install python-levenshtein\u001b[0m\u001b[1;33m\u001b[0m\u001b[1;33m\u001b[0m\u001b[0m\n\u001b[0;32m      3\u001b[0m \u001b[1;33m\u001b[0m\u001b[0m\n\u001b[1;32m----> 4\u001b[1;33m \u001b[1;32mimport\u001b[0m \u001b[0mLevenshtein\u001b[0m\u001b[1;33m\u001b[0m\u001b[0m\n\u001b[0m",
      "\u001b[1;31mModuleNotFoundError\u001b[0m: No module named 'Levenshtein'"
     ]
    }
   ],
   "source": [
    "# conda install -c conda-forge python-levenshtein\n",
    "# или pip install python-levenshtein\n",
    "\n",
    "import Levenshtein"
   ]
  },
  {
   "cell_type": "code",
   "execution_count": null,
   "metadata": {},
   "outputs": [],
   "source": [
    "# что было написано в заявке\n",
    "\n",
    "claim_list = [\n",
    "    'Шехавцова Анна',\n",
    "    'Гречихина Наталья',\n",
    "    'Козлова Алена',\n",
    "    'Груздева Алина',\n",
    "    'Кущенко Анна',\n",
    "    'Чистякова Анастасия'\n",
    "]"
   ]
  },
  {
   "cell_type": "code",
   "execution_count": null,
   "metadata": {},
   "outputs": [],
   "source": [
    "# результат расшифровки речи диктора\n",
    "\n",
    "speech_recognition = [\n",
    "    'кучменко она',\n",
    "    'кущенко оксана',\n",
    "    'груздь алина',\n",
    "    'рычихина наталья',\n",
    "    'шиховцева на',\n",
    "    'чистова анастасия'\n",
    "]"
   ]
  },
  {
   "cell_type": "code",
   "execution_count": null,
   "metadata": {},
   "outputs": [],
   "source": [
    "for recognized_name in speech_recognition:\n",
    "    res1=[]\n",
    "    res2=[]\n",
    "    for real_name in claim_list:\n",
    "        res1.append(real_name)\n",
    "        res2.append(Levenshtein.distance(recognized_name, real_name))\n",
    "    '{}:{}'.format(reconized_name, res1[res2.index(min(res2))])"
   ]
  },
  {
   "cell_type": "code",
   "execution_count": null,
   "metadata": {},
   "outputs": [],
   "source": []
  }
 ],
 "metadata": {
  "kernelspec": {
   "display_name": "Python 3",
   "language": "python",
   "name": "python3"
  },
  "language_info": {
   "codemirror_mode": {
    "name": "ipython",
    "version": 3
   },
   "file_extension": ".py",
   "mimetype": "text/x-python",
   "name": "python",
   "nbconvert_exporter": "python",
   "pygments_lexer": "ipython3",
   "version": "3.7.0"
  }
 },
 "nbformat": 4,
 "nbformat_minor": 2
}
