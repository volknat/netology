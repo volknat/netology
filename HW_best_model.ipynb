{
 "cells": [
  {
   "cell_type": "code",
   "execution_count": 1,
   "metadata": {},
   "outputs": [],
   "source": [
    "from sklearn import datasets\n",
    "boston = datasets.load_boston()"
   ]
  },
  {
   "cell_type": "code",
   "execution_count": 2,
   "metadata": {},
   "outputs": [],
   "source": [
    "X=boston['data']\n",
    "Y=boston['target']"
   ]
  },
  {
   "cell_type": "code",
   "execution_count": 3,
   "metadata": {},
   "outputs": [],
   "source": [
    "from sklearn.model_selection import train_test_split"
   ]
  },
  {
   "cell_type": "code",
   "execution_count": 4,
   "metadata": {},
   "outputs": [],
   "source": [
    "X_train, X_test, Y_train, Y_test = train_test_split(X, Y, test_size=0.2)"
   ]
  },
  {
   "cell_type": "code",
   "execution_count": 5,
   "metadata": {},
   "outputs": [],
   "source": [
    "from sklearn.model_selection import GridSearchCV\n",
    "from sklearn.model_selection import RandomizedSearchCV"
   ]
  },
  {
   "cell_type": "code",
   "execution_count": 6,
   "metadata": {},
   "outputs": [],
   "source": [
    "#SVR"
   ]
  },
  {
   "cell_type": "code",
   "execution_count": 7,
   "metadata": {},
   "outputs": [],
   "source": [
    "from sklearn.svm import SVR"
   ]
  },
  {
   "cell_type": "code",
   "execution_count": 8,
   "metadata": {},
   "outputs": [],
   "source": [
    "svr_params = {'C': [0.001, 0.01, 0.1, 0.25, 0.5],'kernel': ['linear', 'rbf']}"
   ]
  },
  {
   "cell_type": "code",
   "execution_count": 9,
   "metadata": {},
   "outputs": [
    {
     "name": "stderr",
     "output_type": "stream",
     "text": [
      "C:\\Users\\volko\\Anaconda3\\lib\\site-packages\\sklearn\\model_selection\\_search.py:841: DeprecationWarning: The default of the `iid` parameter will change from True to False in version 0.22 and will be removed in 0.24. This will change numeric results when test-set sizes are unequal.\n",
      "  DeprecationWarning)\n"
     ]
    },
    {
     "data": {
      "text/plain": [
       "RandomizedSearchCV(cv=10, error_score='raise-deprecating',\n",
       "          estimator=SVR(C=1.0, cache_size=200, coef0=0.0, degree=3, epsilon=0.1, gamma='auto',\n",
       "  kernel='rbf', max_iter=-1, shrinking=True, tol=0.001, verbose=False),\n",
       "          fit_params=None, iid='warn', n_iter=10, n_jobs=-1,\n",
       "          param_distributions={'C': [0.001, 0.01, 0.1, 0.25, 0.5], 'kernel': ['linear', 'rbf']},\n",
       "          pre_dispatch='2*n_jobs', random_state=5, refit=True,\n",
       "          return_train_score='warn', scoring='neg_mean_squared_error',\n",
       "          verbose=0)"
      ]
     },
     "execution_count": 9,
     "metadata": {},
     "output_type": "execute_result"
    }
   ],
   "source": [
    "svr = SVR(gamma='auto')\n",
    "rand_svr = RandomizedSearchCV(svr, svr_params, scoring='neg_mean_squared_error', cv=10, n_jobs=-1, n_iter=10, random_state=5)\n",
    "rand_svr.fit(X_train, Y_train)"
   ]
  },
  {
   "cell_type": "code",
   "execution_count": 10,
   "metadata": {},
   "outputs": [
    {
     "name": "stdout",
     "output_type": "stream",
     "text": [
      "{'kernel': 'linear', 'C': 0.5}\n",
      "25.126123696160736\n",
      "SVR(C=0.5, cache_size=200, coef0=0.0, degree=3, epsilon=0.1, gamma='auto',\n",
      "  kernel='linear', max_iter=-1, shrinking=True, tol=0.001, verbose=False)\n",
      "{'mean_fit_time': array([0.06538174, 0.06004484, 0.17787564, 0.06377463, 1.35271809,\n",
      "       0.06838789, 3.52892568, 0.06938684, 7.30876296, 0.06666899]), 'std_fit_time': array([2.79101346e-02, 1.91361848e-02, 3.07909650e-02, 1.09946156e-02,\n",
      "       3.85742721e-01, 3.30712088e-03, 1.18421809e+00, 7.19696212e-03,\n",
      "       3.61716285e+00, 3.12701006e-03]), 'mean_score_time': array([0.00519338, 0.00623636, 0.00040014, 0.00790589, 0.0008132 ,\n",
      "       0.00331483, 0.00150115, 0.0080689 , 0.00819314, 0.01016302]), 'std_score_time': array([0.01172133, 0.01110092, 0.00120041, 0.01186883, 0.00116823,\n",
      "       0.00134238, 0.00174575, 0.01471761, 0.01749596, 0.01463958]), 'param_kernel': masked_array(data=['linear', 'rbf', 'linear', 'rbf', 'linear', 'rbf',\n",
      "                   'linear', 'rbf', 'linear', 'rbf'],\n",
      "             mask=[False, False, False, False, False, False, False, False,\n",
      "                   False, False],\n",
      "       fill_value='?',\n",
      "            dtype=object), 'param_C': masked_array(data=[0.001, 0.001, 0.01, 0.01, 0.1, 0.1, 0.25, 0.25, 0.5,\n",
      "                   0.5],\n",
      "             mask=[False, False, False, False, False, False, False, False,\n",
      "                   False, False],\n",
      "       fill_value='?',\n",
      "            dtype=object), 'params': [{'kernel': 'linear', 'C': 0.001}, {'kernel': 'rbf', 'C': 0.001}, {'kernel': 'linear', 'C': 0.01}, {'kernel': 'rbf', 'C': 0.01}, {'kernel': 'linear', 'C': 0.1}, {'kernel': 'rbf', 'C': 0.1}, {'kernel': 'linear', 'C': 0.25}, {'kernel': 'rbf', 'C': 0.25}, {'kernel': 'linear', 'C': 0.5}, {'kernel': 'rbf', 'C': 0.5}], 'split0_test_score': array([-36.22247285, -68.93652659, -23.58946343, -68.93367648,\n",
      "       -17.80577827, -68.89433086, -16.8918155 , -68.78145193,\n",
      "       -16.75661207, -68.48386109]), 'split1_test_score': array([ -46.10991208, -104.83541837,  -33.69078281, -104.83745126,\n",
      "        -25.63802019, -104.77370744,  -23.0768154 , -104.42160899,\n",
      "        -22.60584109, -103.81074685]), 'split2_test_score': array([-36.86675181, -84.57924727, -26.36564452, -84.56577586,\n",
      "       -23.22274782, -84.38251001, -22.91622977, -83.92447282,\n",
      "       -22.19807143, -83.14394781]), 'split3_test_score': array([-55.20471344, -98.23766075, -41.31390312, -98.24605405,\n",
      "       -34.60849273, -98.2735755 , -32.81908206, -98.04805992,\n",
      "       -32.04160217, -97.3678072 ]), 'split4_test_score': array([-22.90972165, -55.95209956, -17.00174762, -55.95011423,\n",
      "       -14.21203701, -55.90913017, -12.97473069, -55.74282053,\n",
      "       -12.11795377, -55.36447468]), 'split5_test_score': array([-59.77159892, -94.45638117, -46.85619252, -94.42787725,\n",
      "       -42.71875757, -94.1625902 , -43.36423299, -93.7700014 ,\n",
      "       -43.8685362 , -93.17262995]), 'split6_test_score': array([-22.09835829, -63.04256972, -14.21128089, -63.04403053,\n",
      "       -10.92761605, -62.99060113, -10.46068468, -62.69753131,\n",
      "       -10.22914808, -62.14686542]), 'split7_test_score': array([ -51.59270283, -103.45310953,  -40.38389198, -103.42930681,\n",
      "        -31.38439349, -103.19052889,  -27.73830351, -102.98427633,\n",
      "        -26.26556932, -102.48581172]), 'split8_test_score': array([-61.67545647, -91.43337812, -42.873549  , -91.44576517,\n",
      "       -40.86173532, -91.47805771, -44.84294318, -91.28639149,\n",
      "       -47.66678006, -90.87121208]), 'split9_test_score': array([-23.86295267, -66.70550535, -20.43113958, -66.68924857,\n",
      "       -18.45041586, -66.53042125, -17.68752189, -66.28438242,\n",
      "       -17.68368198, -65.8977618 ]), 'mean_test_score': array([-41.65096409, -83.2224374 , -30.67738518, -83.21622516,\n",
      "       -25.9764228 , -83.11817389, -25.26385725, -82.85350366,\n",
      "       -25.1261237 , -82.33319581]), 'std_test_score': array([14.55773727, 17.08330572, 11.18556204, 17.08209542, 10.46127288,\n",
      "       17.06278363, 11.2819324 , 17.02917611, 11.95411064, 16.95428656]), 'rank_test_score': array([ 5, 10,  4,  9,  3,  8,  2,  7,  1,  6]), 'split0_train_score': array([-41.35331693, -84.73388131, -30.55924088, -84.60745207,\n",
      "       -25.79262707, -83.33838689, -24.9740863 , -81.19989869,\n",
      "       -24.8735948 , -77.62337731]), 'split1_train_score': array([-41.00798618, -80.67982861, -30.60912301, -80.5646459 ,\n",
      "       -25.55578202, -79.37995934, -24.81286293, -77.31811602,\n",
      "       -24.79400612, -73.99611898]), 'split2_train_score': array([-41.26074449, -82.96747997, -29.73695708, -82.85636537,\n",
      "       -24.88593928, -81.68082376, -24.28137617, -79.53462366,\n",
      "       -23.8579458 , -76.04896098]), 'split3_train_score': array([-39.42857209, -81.42486525, -28.70429216, -81.3080775 ,\n",
      "       -23.95756474, -80.12828983, -23.14103862, -78.08727379,\n",
      "       -22.81151456, -74.68224572]), 'split4_train_score': array([-42.19426715, -85.54801948, -30.90383731, -85.39292168,\n",
      "       -25.95225127, -83.90591143, -25.0530129 , -81.6640006 ,\n",
      "       -24.67619199, -78.2458922 ]), 'split5_train_score': array([-39.45369001, -81.31731804, -28.51296293, -81.18033634,\n",
      "       -22.69220478, -79.85587854, -21.78624086, -77.77763191,\n",
      "       -21.6250494 , -74.51195983]), 'split6_train_score': array([-43.52848705, -85.33838609, -32.72618795, -85.21976225,\n",
      "       -27.35910714, -83.99852492, -26.5223303 , -81.86617053,\n",
      "       -25.96765026, -78.38730735]), 'split7_train_score': array([-39.81194205, -81.55033453, -28.0364583 , -81.41028125,\n",
      "       -24.51040294, -80.02123262, -24.21247717, -77.88056009,\n",
      "       -24.00360121, -74.35509148]), 'split8_train_score': array([-38.64643335, -82.21854897, -28.42453607, -82.09657212,\n",
      "       -22.8588241 , -80.84570811, -21.89359871, -78.69174357,\n",
      "       -21.49687839, -75.18848094]), 'split9_train_score': array([-42.36170643, -84.93580781, -30.67652997, -84.80802775,\n",
      "       -25.28268895, -83.53174425, -24.42846675, -81.38272985,\n",
      "       -24.11906829, -77.94097364]), 'mean_train_score': array([-40.90471457, -83.07144701, -29.88901257, -82.94444422,\n",
      "       -24.88473923, -81.66864597, -24.11054907, -79.54027487,\n",
      "       -23.82255008, -76.09804084]), 'std_train_score': array([1.46925404, 1.79086624, 1.3987218 , 1.7872931 , 1.36404994,\n",
      "       1.76014538, 1.39074581, 1.72336287, 1.36968929, 1.68472087])}\n"
     ]
    }
   ],
   "source": [
    "print(rand_svr.best_params_)\n",
    "print(-rand_svr.best_score_)\n",
    "print(rand_svr.best_estimator_)\n",
    "print(rand_svr.cv_results_)"
   ]
  },
  {
   "cell_type": "code",
   "execution_count": 11,
   "metadata": {},
   "outputs": [
    {
     "name": "stderr",
     "output_type": "stream",
     "text": [
      "C:\\Users\\volko\\Anaconda3\\lib\\site-packages\\sklearn\\model_selection\\_search.py:841: DeprecationWarning: The default of the `iid` parameter will change from True to False in version 0.22 and will be removed in 0.24. This will change numeric results when test-set sizes are unequal.\n",
      "  DeprecationWarning)\n"
     ]
    },
    {
     "data": {
      "text/plain": [
       "GridSearchCV(cv=10, error_score='raise-deprecating',\n",
       "       estimator=SVR(C=1.0, cache_size=200, coef0=0.0, degree=3, epsilon=0.1, gamma='auto',\n",
       "  kernel='rbf', max_iter=-1, shrinking=True, tol=0.001, verbose=False),\n",
       "       fit_params=None, iid='warn', n_jobs=-1,\n",
       "       param_grid={'C': [0.001, 0.01, 0.1, 0.25, 0.5], 'kernel': ['linear', 'rbf']},\n",
       "       pre_dispatch='2*n_jobs', refit=True, return_train_score='warn',\n",
       "       scoring='neg_mean_squared_error', verbose=0)"
      ]
     },
     "execution_count": 11,
     "metadata": {},
     "output_type": "execute_result"
    }
   ],
   "source": [
    "grid_svr = GridSearchCV(svr, svr_params, scoring='neg_mean_squared_error', cv=10, n_jobs=-1)\n",
    "grid_svr.fit(X_train, Y_train)"
   ]
  },
  {
   "cell_type": "code",
   "execution_count": 12,
   "metadata": {},
   "outputs": [
    {
     "name": "stdout",
     "output_type": "stream",
     "text": [
      "{'C': 0.5, 'kernel': 'linear'}\n",
      "-25.126123696160736\n",
      "SVR(C=0.5, cache_size=200, coef0=0.0, degree=3, epsilon=0.1, gamma='auto',\n",
      "  kernel='linear', max_iter=-1, shrinking=True, tol=0.001, verbose=False)\n"
     ]
    }
   ],
   "source": [
    "print(grid_svr.best_params_)\n",
    "print(grid_svr.best_score_)\n",
    "print(grid_svr.best_estimator_)"
   ]
  },
  {
   "cell_type": "code",
   "execution_count": 13,
   "metadata": {},
   "outputs": [],
   "source": [
    "#kmeans"
   ]
  },
  {
   "cell_type": "code",
   "execution_count": 14,
   "metadata": {},
   "outputs": [],
   "source": [
    "from sklearn.neighbors import KNeighborsRegressor"
   ]
  },
  {
   "cell_type": "code",
   "execution_count": 19,
   "metadata": {},
   "outputs": [],
   "source": [
    "kmr_params = {'n_neighbors':[4,5,6],'algorithm': ['auto', 'ball_tree', 'kd_tree', 'brute']}"
   ]
  },
  {
   "cell_type": "code",
   "execution_count": 20,
   "metadata": {},
   "outputs": [
    {
     "name": "stderr",
     "output_type": "stream",
     "text": [
      "C:\\Users\\volko\\Anaconda3\\lib\\site-packages\\sklearn\\model_selection\\_search.py:841: DeprecationWarning: The default of the `iid` parameter will change from True to False in version 0.22 and will be removed in 0.24. This will change numeric results when test-set sizes are unequal.\n",
      "  DeprecationWarning)\n"
     ]
    },
    {
     "data": {
      "text/plain": [
       "GridSearchCV(cv=10, error_score='raise-deprecating',\n",
       "       estimator=KNeighborsRegressor(algorithm='auto', leaf_size=30, metric='minkowski',\n",
       "          metric_params=None, n_jobs=None, n_neighbors=5, p=2,\n",
       "          weights='uniform'),\n",
       "       fit_params=None, iid='warn', n_jobs=-1,\n",
       "       param_grid={'n_neighbors': [4, 5, 6], 'algorithm': ['auto', 'ball_tree', 'kd_tree', 'brute']},\n",
       "       pre_dispatch='2*n_jobs', refit=True, return_train_score='warn',\n",
       "       scoring='neg_mean_squared_error', verbose=0)"
      ]
     },
     "execution_count": 20,
     "metadata": {},
     "output_type": "execute_result"
    }
   ],
   "source": [
    "kmr=KNeighborsRegressor()\n",
    "grid_kmr = GridSearchCV(kmr, kmr_params, scoring='neg_mean_squared_error', cv=10, n_jobs=-1)\n",
    "grid_kmr.fit(X_train, Y_train)"
   ]
  },
  {
   "cell_type": "code",
   "execution_count": 23,
   "metadata": {},
   "outputs": [
    {
     "name": "stdout",
     "output_type": "stream",
     "text": [
      "{'algorithm': 'auto', 'n_neighbors': 4}\n",
      "39.77655167079208\n",
      "KNeighborsRegressor(algorithm='auto', leaf_size=30, metric='minkowski',\n",
      "          metric_params=None, n_jobs=None, n_neighbors=4, p=2,\n",
      "          weights='uniform')\n"
     ]
    }
   ],
   "source": [
    "print(grid_kmr.best_params_)\n",
    "print(-grid_kmr.best_score_)\n",
    "print(grid_kmr.best_estimator_)"
   ]
  },
  {
   "cell_type": "code",
   "execution_count": 24,
   "metadata": {},
   "outputs": [],
   "source": [
    "from sklearn.tree import DecisionTreeRegressor"
   ]
  },
  {
   "cell_type": "code",
   "execution_count": 25,
   "metadata": {},
   "outputs": [],
   "source": [
    "dtr_params = {'max_depth':[4,5,6,7,8,9],'max_features': [0.2, 0.33, 0.5, 0.75, 1]}"
   ]
  },
  {
   "cell_type": "code",
   "execution_count": 26,
   "metadata": {},
   "outputs": [
    {
     "name": "stderr",
     "output_type": "stream",
     "text": [
      "C:\\Users\\volko\\Anaconda3\\lib\\site-packages\\sklearn\\model_selection\\_search.py:841: DeprecationWarning: The default of the `iid` parameter will change from True to False in version 0.22 and will be removed in 0.24. This will change numeric results when test-set sizes are unequal.\n",
      "  DeprecationWarning)\n"
     ]
    },
    {
     "data": {
      "text/plain": [
       "GridSearchCV(cv=10, error_score='raise-deprecating',\n",
       "       estimator=DecisionTreeRegressor(criterion='mse', max_depth=None, max_features=None,\n",
       "           max_leaf_nodes=None, min_impurity_decrease=0.0,\n",
       "           min_impurity_split=None, min_samples_leaf=1,\n",
       "           min_samples_split=2, min_weight_fraction_leaf=0.0,\n",
       "           presort=False, random_state=None, splitter='best'),\n",
       "       fit_params=None, iid='warn', n_jobs=-1,\n",
       "       param_grid={'max_depth': [4, 5, 6, 7, 8, 9], 'max_features': [0.2, 0.33, 0.5, 0.75, 1]},\n",
       "       pre_dispatch='2*n_jobs', refit=True, return_train_score='warn',\n",
       "       scoring='neg_mean_squared_error', verbose=0)"
      ]
     },
     "execution_count": 26,
     "metadata": {},
     "output_type": "execute_result"
    }
   ],
   "source": [
    "dtr=DecisionTreeRegressor(criterion='mse')\n",
    "grid_dtr = GridSearchCV(dtr, dtr_params, scoring='neg_mean_squared_error', cv=10, n_jobs=-1)\n",
    "grid_dtr.fit(X_train, Y_train)"
   ]
  },
  {
   "cell_type": "code",
   "execution_count": 28,
   "metadata": {},
   "outputs": [
    {
     "name": "stdout",
     "output_type": "stream",
     "text": [
      "{'max_depth': 9, 'max_features': 0.75}\n",
      "17.53761501841181\n",
      "DecisionTreeRegressor(criterion='mse', max_depth=9, max_features=0.75,\n",
      "           max_leaf_nodes=None, min_impurity_decrease=0.0,\n",
      "           min_impurity_split=None, min_samples_leaf=1,\n",
      "           min_samples_split=2, min_weight_fraction_leaf=0.0,\n",
      "           presort=False, random_state=None, splitter='best')\n"
     ]
    }
   ],
   "source": [
    "print(grid_dtr.best_params_)\n",
    "print(-grid_dtr.best_score_)\n",
    "print(grid_dtr.best_estimator_)"
   ]
  },
  {
   "cell_type": "code",
   "execution_count": 29,
   "metadata": {},
   "outputs": [],
   "source": [
    "from sklearn.ensemble import RandomForestRegressor"
   ]
  },
  {
   "cell_type": "code",
   "execution_count": 31,
   "metadata": {},
   "outputs": [
    {
     "name": "stderr",
     "output_type": "stream",
     "text": [
      "C:\\Users\\volko\\Anaconda3\\lib\\site-packages\\sklearn\\model_selection\\_search.py:841: DeprecationWarning: The default of the `iid` parameter will change from True to False in version 0.22 and will be removed in 0.24. This will change numeric results when test-set sizes are unequal.\n",
      "  DeprecationWarning)\n",
      "C:\\Users\\volko\\Anaconda3\\lib\\site-packages\\sklearn\\ensemble\\forest.py:246: FutureWarning: The default value of n_estimators will change from 10 in version 0.20 to 100 in 0.22.\n",
      "  \"10 in version 0.20 to 100 in 0.22.\", FutureWarning)\n"
     ]
    },
    {
     "data": {
      "text/plain": [
       "GridSearchCV(cv=10, error_score='raise-deprecating',\n",
       "       estimator=RandomForestRegressor(bootstrap=True, criterion='mse', max_depth=None,\n",
       "           max_features='auto', max_leaf_nodes=None,\n",
       "           min_impurity_decrease=0.0, min_impurity_split=None,\n",
       "           min_samples_leaf=1, min_samples_split=2,\n",
       "           min_weight_fraction_leaf=0.0, n_estimators='warn', n_jobs=None,\n",
       "           oob_score=False, random_state=None, verbose=0, warm_start=False),\n",
       "       fit_params=None, iid='warn', n_jobs=-1,\n",
       "       param_grid={'max_depth': [4, 5, 6, 7, 8, 9], 'max_features': [0.2, 0.33, 0.5, 0.75, 1]},\n",
       "       pre_dispatch='2*n_jobs', refit=True, return_train_score='warn',\n",
       "       scoring='neg_mean_squared_error', verbose=0)"
      ]
     },
     "execution_count": 31,
     "metadata": {},
     "output_type": "execute_result"
    }
   ],
   "source": [
    "rfr=RandomForestRegressor(criterion='mse')\n",
    "grid_rfr = GridSearchCV(rfr, dtr_params, scoring='neg_mean_squared_error', cv=10, n_jobs=-1)\n",
    "grid_rfr.fit(X_train, Y_train)"
   ]
  },
  {
   "cell_type": "code",
   "execution_count": 32,
   "metadata": {},
   "outputs": [
    {
     "name": "stdout",
     "output_type": "stream",
     "text": [
      "{'max_depth': 6, 'max_features': 0.75}\n",
      "13.25127664166951\n",
      "RandomForestRegressor(bootstrap=True, criterion='mse', max_depth=6,\n",
      "           max_features=0.75, max_leaf_nodes=None,\n",
      "           min_impurity_decrease=0.0, min_impurity_split=None,\n",
      "           min_samples_leaf=1, min_samples_split=2,\n",
      "           min_weight_fraction_leaf=0.0, n_estimators=10, n_jobs=None,\n",
      "           oob_score=False, random_state=None, verbose=0, warm_start=False)\n"
     ]
    }
   ],
   "source": [
    "print(grid_rfr.best_params_)\n",
    "print(-grid_rfr.best_score_)\n",
    "print(grid_rfr.best_estimator_)"
   ]
  },
  {
   "cell_type": "code",
   "execution_count": 33,
   "metadata": {},
   "outputs": [],
   "source": [
    "import xgboost"
   ]
  },
  {
   "cell_type": "code",
   "execution_count": 34,
   "metadata": {},
   "outputs": [],
   "source": [
    "xgbr = xgboost.XGBRegressor()"
   ]
  },
  {
   "cell_type": "code",
   "execution_count": 36,
   "metadata": {},
   "outputs": [],
   "source": [
    "xgbr_params = {'gamma':[0,0.03,0.1,0.3],'min_child_weight':[1.5,6,10],'learning_rate':[0.1,0.07],'max_depth':[3,5],'reg_alpha':[1e-5, 1e-2,  0.75],'reg_lambda':[1e-5, 1e-2, 0.45]}\n"
   ]
  },
  {
   "cell_type": "code",
   "execution_count": 37,
   "metadata": {},
   "outputs": [
    {
     "name": "stderr",
     "output_type": "stream",
     "text": [
      "C:\\Users\\volko\\Anaconda3\\lib\\site-packages\\sklearn\\model_selection\\_search.py:841: DeprecationWarning: The default of the `iid` parameter will change from True to False in version 0.22 and will be removed in 0.24. This will change numeric results when test-set sizes are unequal.\n",
      "  DeprecationWarning)\n"
     ]
    },
    {
     "data": {
      "text/plain": [
       "GridSearchCV(cv=10, error_score='raise-deprecating',\n",
       "       estimator=XGBRegressor(base_score=0.5, booster='gbtree', colsample_bylevel=1,\n",
       "       colsample_bytree=1, gamma=0, learning_rate=0.1, max_delta_step=0,\n",
       "       max_depth=3, min_child_weight=1, missing=None, n_estimators=100,\n",
       "       n_jobs=1, nthread=None, objective='reg:linear', random_state=0,\n",
       "       reg_alpha=0, reg_lambda=1, scale_pos_weight=1, seed=None,\n",
       "       silent=True, subsample=1),\n",
       "       fit_params=None, iid='warn', n_jobs=-1,\n",
       "       param_grid={'gamma': [0, 0.03, 0.1, 0.3], 'min_child_weight': [1.5, 6, 10], 'learning_rate': [0.1, 0.07], 'max_depth': [3, 5], 'reg_alpha': [1e-05, 0.01, 0.75], 'reg_lambda': [1e-05, 0.01, 0.45]},\n",
       "       pre_dispatch='2*n_jobs', refit=True, return_train_score='warn',\n",
       "       scoring='neg_mean_squared_error', verbose=0)"
      ]
     },
     "execution_count": 37,
     "metadata": {},
     "output_type": "execute_result"
    }
   ],
   "source": [
    "grid_xgbr = GridSearchCV(xgbr, xgbr_params, scoring='neg_mean_squared_error', cv=10, n_jobs=-1)\n",
    "grid_xgbr.fit(X_train, Y_train)"
   ]
  },
  {
   "cell_type": "code",
   "execution_count": 38,
   "metadata": {},
   "outputs": [
    {
     "name": "stdout",
     "output_type": "stream",
     "text": [
      "{'gamma': 0.03, 'learning_rate': 0.1, 'max_depth': 3, 'min_child_weight': 1.5, 'reg_alpha': 0.75, 'reg_lambda': 0.01}\n",
      "10.516276528735641\n",
      "XGBRegressor(base_score=0.5, booster='gbtree', colsample_bylevel=1,\n",
      "       colsample_bytree=1, gamma=0.03, learning_rate=0.1, max_delta_step=0,\n",
      "       max_depth=3, min_child_weight=1.5, missing=None, n_estimators=100,\n",
      "       n_jobs=1, nthread=None, objective='reg:linear', random_state=0,\n",
      "       reg_alpha=0.75, reg_lambda=0.01, scale_pos_weight=1, seed=None,\n",
      "       silent=True, subsample=1)\n"
     ]
    }
   ],
   "source": [
    "print(grid_xgbr.best_params_)\n",
    "print(-grid_xgbr.best_score_)\n",
    "print(grid_xgbr.best_estimator_)"
   ]
  },
  {
   "cell_type": "code",
   "execution_count": 39,
   "metadata": {},
   "outputs": [],
   "source": [
    "#лучшая модель-xgboost"
   ]
  },
  {
   "cell_type": "code",
   "execution_count": 40,
   "metadata": {},
   "outputs": [],
   "source": [
    "from sklearn.metrics import mean_squared_error"
   ]
  },
  {
   "cell_type": "code",
   "execution_count": 41,
   "metadata": {},
   "outputs": [],
   "source": [
    "model=grid_xgbr.best_estimator_.fit(X_train, Y_train)"
   ]
  },
  {
   "cell_type": "code",
   "execution_count": 42,
   "metadata": {},
   "outputs": [],
   "source": [
    "y_pred_test=model.predict(X_test)"
   ]
  },
  {
   "cell_type": "code",
   "execution_count": 43,
   "metadata": {},
   "outputs": [
    {
     "data": {
      "text/plain": [
       "7.216449782175874"
      ]
     },
     "execution_count": 43,
     "metadata": {},
     "output_type": "execute_result"
    }
   ],
   "source": [
    "mean_squared_error(Y_test, y_pred_test)"
   ]
  },
  {
   "cell_type": "code",
   "execution_count": null,
   "metadata": {},
   "outputs": [],
   "source": []
  }
 ],
 "metadata": {
  "kernelspec": {
   "display_name": "Python 3",
   "language": "python",
   "name": "python3"
  },
  "language_info": {
   "codemirror_mode": {
    "name": "ipython",
    "version": 3
   },
   "file_extension": ".py",
   "mimetype": "text/x-python",
   "name": "python",
   "nbconvert_exporter": "python",
   "pygments_lexer": "ipython3",
   "version": "3.7.1"
  }
 },
 "nbformat": 4,
 "nbformat_minor": 2
}
