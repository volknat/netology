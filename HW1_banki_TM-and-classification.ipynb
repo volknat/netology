{
 "cells": [
  {
   "cell_type": "code",
   "execution_count": 1,
   "metadata": {},
   "outputs": [],
   "source": [
    "import json\n",
    "\n",
    "import bz2\n",
    "import regex\n",
    "from tqdm import tqdm\n",
    "from scipy import sparse"
   ]
  },
  {
   "cell_type": "code",
   "execution_count": 2,
   "metadata": {},
   "outputs": [
    {
     "name": "stdout",
     "output_type": "stream",
     "text": [
      "Populating the interactive namespace from numpy and matplotlib\n"
     ]
    }
   ],
   "source": [
    "import pandas as pd\n",
    "import numpy as np\n",
    "import nltk\n",
    "import matplotlib.pyplot as plt\n",
    "import seaborn as sns\n",
    "%matplotlib inline\n",
    "%pylab inline"
   ]
  },
  {
   "cell_type": "code",
   "execution_count": 3,
   "metadata": {
    "scrolled": true
   },
   "outputs": [
    {
     "name": "stderr",
     "output_type": "stream",
     "text": [
      "201030it [03:32, 946.14it/s] \n"
     ]
    }
   ],
   "source": [
    "responses = []\n",
    "with bz2.BZ2File('banki_responses.json.bz2', 'r') as thefile:\n",
    "    for row in tqdm(thefile):\n",
    "        resp = json.loads(row)\n",
    "        if not resp['rating_not_checked'] and (len(resp['text'].split()) > 0):\n",
    "            responses.append(resp)"
   ]
  },
  {
   "cell_type": "markdown",
   "metadata": {},
   "source": [
    "#  Домашнее задание по NLP # 1 [100 баллов]\n",
    "## Классификация по тональности \n",
    "\n",
    "В этом домашнем задании вам предстоит классифицировать по тональности отзывы на банки с сайта banki.ru.\n",
    "\n",
    "Данные содержат непосредственно тексты отзывов, некоторую дополнительную информацию, а также оценку по шкале от 1 до 5. \n",
    "\n",
    "Тексты хранятся в json-ах в массиве responses.\n",
    "\n",
    "Посмотрим на пример отзыва:"
   ]
  },
  {
   "cell_type": "code",
   "execution_count": 4,
   "metadata": {},
   "outputs": [
    {
     "data": {
      "text/plain": [
       "{'city': 'г. Москва',\n",
       " 'rating_not_checked': False,\n",
       " 'title': 'Двойное списание за один товар.',\n",
       " 'num_comments': 1,\n",
       " 'bank_license': 'лицензия № 2562',\n",
       " 'author': 'Vladimir84',\n",
       " 'bank_name': 'Бинбанк',\n",
       " 'datetime': '2015-06-05 20:14:28',\n",
       " 'text': 'Здравствуйте! \\xa0Дублирую свое заявление от 03.06.2015 в ДО \"Можайский\". \\xa002.06.2015 мною, по моей дебетовой карте была совершена покупка в интернет-магазине \\xa0на сумму 3028 руб., но с карты произошло двойное списание (два раза по 3028 руб.) то есть 6056 руб. (о чем имеются смс сообщения от банка). Интернет-магазин подтвердил только один платеж 3028 руб. , товар был получен 05.06.2015. Прошу разобраться в ситуации и вернуть мне на счет ошибочно списанную сумму в размере 3028 руб.!  \\xa0С уважением, давний клиент Вашего банка Владимир. Номер карты указан в моем заявлении в\\xa0ДО \"Можайский\".',\n",
       " 'rating_grade': None}"
      ]
     },
     "execution_count": 4,
     "metadata": {},
     "output_type": "execute_result"
    }
   ],
   "source": [
    "responses[2]"
   ]
  },
  {
   "cell_type": "markdown",
   "metadata": {},
   "source": [
    "## Часть 1. Анализ текстов [40/100]\n",
    "\n",
    "1. Посчитайте количество отзывов в разных городах и на разные банки\n",
    "2. Постройте гистограмы длин слов в символах и в словах\n",
    "3. Найдите 10 самых частых:\n",
    "    * слов\n",
    "    * слов без стоп-слов\n",
    "    * лемм \n",
    "* существительных\n",
    "4. Постройте кривые Ципфа и Хипса\n",
    "5. Ответьте на следующие вопросы:\n",
    "    * какое слово встречается чаще, \"сотрудник\" или \"клиент\"?\n",
    "    * сколько раз встречается слова \"мошенничество\" и \"доверие\"?\n",
    "6. В поле \"rating_grade\" записана оценка отзыва по шкале от 1 до 5. Используйте меру $tf-idf$, для того, чтобы найти ключевые слова и биграмы для положительных отзывов (с оценкой 5) и отрицательных отзывов (с оценкой 1)"
   ]
  },
  {
   "cell_type": "markdown",
   "metadata": {},
   "source": [
    "## Часть 2. Тематическое моделирование [20/100]\n",
    "\n",
    "1. Постройте несколько тематических моделей коллекции документов с разным числом тем. Приведите примеры понятных (интерпретируемых) тем.\n",
    "2. Найдите темы, в которых упомянуты конкретные банки (Сбербанк, ВТБ, другой банк). Можете ли вы их прокомментировать / объяснить?\n",
    "\n",
    "Эта часть задания может быть сделана с использованием gensim. "
   ]
  },
  {
   "cell_type": "markdown",
   "metadata": {},
   "source": [
    "## Часть 3. Классификация текстов [40/100]\n",
    "\n",
    "Сформулируем для простоты задачу бинарной классификации: будем классифицировать на два класса, то есть, различать резко отрицательные отзывы (с оценкой 1) и положительные отзывы (с оценкой 5). \n",
    "\n",
    "1.  Составьте обучающее и тестовое множество: выберите из всего набора данных N1 отзывов с оценкой 1 и N2 отзывов с оценкой 5 (значение N1 и N2 – на ваше усмотрение). Используйте ```sklearn.model_selection.train_test_split``` для разделения множества отобранных документов на обучающее и тестовое. \n",
    "2. Используйте любой известный вам алгоритм классификации текстов для решения задачи и получите baseline. Сравните разные варианты векторизации текста: использование только униграм, пар или троек слов или с использованием символьных $n$-грам. \n",
    "3. Сравните, как изменяется качество решения задачи при использовании скрытых тем в качестве признаков:\n",
    "* 1-ый вариант: $tf-idf$ преобразование (```sklearn.feature_extraction.text.TfidfTransformer```) и сингулярное разложение (оно же – латентый семантический анализ) (```sklearn.decomposition.TruncatedSVD```), \n",
    "* 2-ой вариант: тематические модели LDA (```sklearn.decomposition.LatentDirichletAllocation```). \n",
    "\n",
    "Используйте accuracy и F-measure для оценки качества классификации. \n",
    "\n",
    "Ниже написан примерный Pipeline для классификации текстов. \n",
    "\n",
    "Эта часть задания может быть сделана с использованием sklearn. "
   ]
  },
  {
   "cell_type": "markdown",
   "metadata": {},
   "source": [
    "1.1 Количество отзывов для разных банков"
   ]
  },
  {
   "cell_type": "code",
   "execution_count": 5,
   "metadata": {},
   "outputs": [],
   "source": [
    "banks=[]\n",
    "for i in range(len(responses)):\n",
    "    banks.append(responses[i]['bank_name'])"
   ]
  },
  {
   "cell_type": "code",
   "execution_count": 6,
   "metadata": {},
   "outputs": [
    {
     "data": {
      "text/plain": [
       "Сбербанк России              26327\n",
       "Альфа-Банк                   10224\n",
       "ВТБ 24                        8185\n",
       "Русский Стандарт              7943\n",
       "Хоум Кредит Банк              7549\n",
       "Тинькофф Банк                 5387\n",
       "Национальный Банк «Траст»     4607\n",
       "Ренессанс Кредит              3849\n",
       "Связной Банк                  3775\n",
       "ОТП Банк                      3237\n",
       "Name: 0, dtype: int64"
      ]
     },
     "execution_count": 6,
     "metadata": {},
     "output_type": "execute_result"
    }
   ],
   "source": [
    "pd.DataFrame(banks)[0].value_counts()[:10]"
   ]
  },
  {
   "cell_type": "markdown",
   "metadata": {},
   "source": [
    "1.2. Количество отзывов из разных городов"
   ]
  },
  {
   "cell_type": "code",
   "execution_count": 7,
   "metadata": {},
   "outputs": [],
   "source": [
    "cities=[]\n",
    "for i in range(len(responses)):\n",
    "    cities.append(responses[i]['city'])"
   ]
  },
  {
   "cell_type": "code",
   "execution_count": 8,
   "metadata": {},
   "outputs": [
    {
     "data": {
      "text/plain": [
       "г. Москва             55354\n",
       "г. Санкт-Петербург    14342\n",
       "г. Екатеринбург        2337\n",
       "г. Новосибирск         2300\n",
       "г. Нижний Новгород     1976\n",
       "г. Ростов-на-Дону      1891\n",
       "г. Самара              1731\n",
       "г. Челябинск           1507\n",
       "г. Казань              1440\n",
       "г. Краснодар           1262\n",
       "Name: 0, dtype: int64"
      ]
     },
     "execution_count": 8,
     "metadata": {},
     "output_type": "execute_result"
    }
   ],
   "source": [
    "pd.DataFrame(cities)[0].value_counts()[:10]"
   ]
  },
  {
   "cell_type": "markdown",
   "metadata": {},
   "source": [
    "1.2.1. Длина текста в символах"
   ]
  },
  {
   "cell_type": "code",
   "execution_count": 9,
   "metadata": {},
   "outputs": [],
   "source": [
    "symbol_count=[]\n",
    "for i in range(len(responses)):\n",
    "    symbol_count.append(len(responses[i]['text']))"
   ]
  },
  {
   "cell_type": "code",
   "execution_count": 10,
   "metadata": {},
   "outputs": [
    {
     "data": {
      "image/png": "[encoded data removed]",
      "text/plain": [
       "<Figure size 432x288 with 1 Axes>"
      ]
     },
     "metadata": {
      "needs_background": "light"
     },
     "output_type": "display_data"
    }
   ],
   "source": [
    "fig, ax = plt.subplots()\n",
    "n, bins, patches = ax.hist(symbol_count)"
   ]
  },
  {
   "cell_type": "markdown",
   "metadata": {},
   "source": [
    "1.2.2. Длина текста в словах"
   ]
  },
  {
   "cell_type": "code",
   "execution_count": 11,
   "metadata": {},
   "outputs": [],
   "source": [
    "import re\n",
    "regex = re.compile(\"[А-Яа-я]+\")\n",
    "\n",
    "def words_only(text, regex=regex):\n",
    "    try:\n",
    "        return \" \".join(regex.findall(text))\n",
    "    except:\n",
    "        return \"\""
   ]
  },
  {
   "cell_type": "code",
   "execution_count": 12,
   "metadata": {},
   "outputs": [],
   "source": [
    "feedback=[]\n",
    "for i in range(len(responses)):\n",
    "    feedback.append(responses[i]['text'])\n",
    "feedback_for_an=[words_only(x.lower()) for x in feedback]"
   ]
  },
  {
   "cell_type": "code",
   "execution_count": 13,
   "metadata": {},
   "outputs": [
    {
     "data": {
      "text/plain": [
       "'доброго дня являюсь держателем зарплатной карты выданной сбербанком россии в году сменила фамилию предоставила в банк документы копию нового паспорта свидетельства о браке мне перевыпустили карту на фамилию мужа токарева мария александровна девичья секлетина возникла необходимость подключить услугу сбербанк онлайн не получилось на главной странице на отображались мои карты связалась с техническим специалистом отделения сбербанка в котором обслуживалась он пояснил что в базе банка я все ещ под девичьей фамилией секлетина предложил выслать сканы необходимых документов выслала оставив контакты звонка так и не дождалась ч з некоторое время звоню сама объясняю ситуацию меня пробивают по базе опять числюсь секлетиной хотя карту уже перевыпустили еще раз на фамилию токарева в связи с истечением срока обслуживания высылаю документы копию паспорта и свидетельства о браке результат ноль прошу помочь разобраться в этой ситуации с уважением токарева мария александровна'"
      ]
     },
     "execution_count": 13,
     "metadata": {},
     "output_type": "execute_result"
    }
   ],
   "source": [
    "feedback_for_an[1]"
   ]
  },
  {
   "cell_type": "code",
   "execution_count": 14,
   "metadata": {},
   "outputs": [],
   "source": [
    "words_length=[x.replace(' ',',').split(',') for x in feedback_for_an]"
   ]
  },
  {
   "cell_type": "code",
   "execution_count": 15,
   "metadata": {},
   "outputs": [],
   "source": [
    "words_count=[]\n",
    "for i in range(len(responses)):\n",
    "    words_count.append(len(words_length[i]))"
   ]
  },
  {
   "cell_type": "code",
   "execution_count": 16,
   "metadata": {},
   "outputs": [
    {
     "data": {
      "image/png": "[encoded data removed]",
      "text/plain": [
       "<Figure size 432x288 with 1 Axes>"
      ]
     },
     "metadata": {
      "needs_background": "light"
     },
     "output_type": "display_data"
    }
   ],
   "source": [
    "fig, ax = plt.subplots()\n",
    "n, bins, patches = ax.hist(words_count)"
   ]
  },
  {
   "cell_type": "markdown",
   "metadata": {},
   "source": [
    "1.3.1 10 самых частых слов"
   ]
  },
  {
   "cell_type": "code",
   "execution_count": 17,
   "metadata": {},
   "outputs": [],
   "source": [
    "words_length2=[x.replace(' ',',') for x in feedback_for_an]"
   ]
  },
  {
   "cell_type": "code",
   "execution_count": 18,
   "metadata": {},
   "outputs": [],
   "source": [
    "words=','.join(words_length2)"
   ]
  },
  {
   "cell_type": "code",
   "execution_count": 19,
   "metadata": {},
   "outputs": [],
   "source": [
    "words=words.split(',')"
   ]
  },
  {
   "cell_type": "code",
   "execution_count": 20,
   "metadata": {},
   "outputs": [],
   "source": [
    "import collections"
   ]
  },
  {
   "cell_type": "code",
   "execution_count": 21,
   "metadata": {},
   "outputs": [
    {
     "data": {
      "text/plain": [
       "[('в', 1330550),\n",
       " ('и', 1058997),\n",
       " ('не', 855335),\n",
       " ('на', 707935),\n",
       " ('что', 640057),\n",
       " ('я', 577500),\n",
       " ('с', 464037),\n",
       " ('по', 372769),\n",
       " ('мне', 320958),\n",
       " ('банка', 275906)]"
      ]
     },
     "execution_count": 21,
     "metadata": {},
     "output_type": "execute_result"
    }
   ],
   "source": [
    "collections.Counter(words).most_common(10)"
   ]
  },
  {
   "cell_type": "markdown",
   "metadata": {},
   "source": [
    "1.3.2 10 самых частых слов без стоп-слов"
   ]
  },
  {
   "cell_type": "code",
   "execution_count": 22,
   "metadata": {},
   "outputs": [],
   "source": [
    "from nltk.corpus import stopwords"
   ]
  },
  {
   "cell_type": "code",
   "execution_count": 23,
   "metadata": {},
   "outputs": [],
   "source": [
    "noise = stopwords.words('russian')\n",
    "#Нужно было бы расширить список стоп-слов, и добавить \"это\", тк это потом пригодится\n",
    "noise=noise+['наш' ,'это', 'тыс', 'млн', 'млрд', 'также',  'т', 'д']\n",
    "words2=[x for x in words if x not in noise]"
   ]
  },
  {
   "cell_type": "code",
   "execution_count": 24,
   "metadata": {},
   "outputs": [
    {
     "data": {
      "text/plain": [
       "[('банка', 275906),\n",
       " ('банк', 215426),\n",
       " ('деньги', 131201),\n",
       " ('карту', 105829),\n",
       " ('карты', 101821),\n",
       " ('кредит', 81136),\n",
       " ('день', 76552),\n",
       " ('банке', 72169),\n",
       " ('заявление', 70423),\n",
       " ('очень', 66824)]"
      ]
     },
     "execution_count": 24,
     "metadata": {},
     "output_type": "execute_result"
    }
   ],
   "source": [
    "collections.Counter(words2).most_common(10)"
   ]
  },
  {
   "cell_type": "code",
   "execution_count": 25,
   "metadata": {},
   "outputs": [],
   "source": [
    "words2=[x for x in words2 if len(x)>2]"
   ]
  },
  {
   "cell_type": "markdown",
   "metadata": {},
   "source": [
    "1.3.3 10 самых частых лемм"
   ]
  },
  {
   "cell_type": "code",
   "execution_count": 26,
   "metadata": {},
   "outputs": [],
   "source": [
    "count_l=collections.Counter(words2).most_common(100)"
   ]
  },
  {
   "cell_type": "code",
   "execution_count": 27,
   "metadata": {},
   "outputs": [],
   "source": [
    "from pymystem3 import Mystem\n",
    "mystem_analyzer = Mystem()"
   ]
  },
  {
   "cell_type": "markdown",
   "metadata": {},
   "source": [
    "Mystem очень сложная для винды библиотека, поэтому я возьму 100 самых используемых слов, приеобразую их в леммы и найду топ 10 лемм"
   ]
  },
  {
   "cell_type": "markdown",
   "metadata": {},
   "source": [
    "В этом случае он не сможет использовать контекст"
   ]
  },
  {
   "cell_type": "code",
   "execution_count": 28,
   "metadata": {},
   "outputs": [],
   "source": [
    "top100words_tab=pd.DataFrame(count_l)"
   ]
  },
  {
   "cell_type": "code",
   "execution_count": 29,
   "metadata": {},
   "outputs": [],
   "source": [
    "top100words=' '.join(top100words_tab[0].values.tolist())"
   ]
  },
  {
   "cell_type": "code",
   "execution_count": 30,
   "metadata": {},
   "outputs": [],
   "source": [
    "top100words_lemm=mystem_analyzer.lemmatize(top100words)"
   ]
  },
  {
   "cell_type": "code",
   "execution_count": 31,
   "metadata": {},
   "outputs": [],
   "source": [
    "top100words_lemm=[x for x in top100words_lemm if x!=' ']"
   ]
  },
  {
   "cell_type": "code",
   "execution_count": 32,
   "metadata": {},
   "outputs": [],
   "source": [
    "top100words_lemm=['банк'  if x=='банка' else x for x in top100words_lemm]"
   ]
  },
  {
   "cell_type": "code",
   "execution_count": 33,
   "metadata": {},
   "outputs": [],
   "source": [
    "top100words_lemm.remove('\\n')"
   ]
  },
  {
   "cell_type": "code",
   "execution_count": 34,
   "metadata": {},
   "outputs": [],
   "source": [
    "top100words_tab[0]=top100words_lemm"
   ]
  },
  {
   "cell_type": "code",
   "execution_count": 35,
   "metadata": {},
   "outputs": [],
   "source": [
    "top100words_tab=top100words_tab.groupby([0]).sum().sort_values(by=[1],ascending=False)"
   ]
  },
  {
   "cell_type": "code",
   "execution_count": 36,
   "metadata": {},
   "outputs": [],
   "source": [
    "top10lemm=top100words_tab[:10]"
   ]
  },
  {
   "cell_type": "code",
   "execution_count": 37,
   "metadata": {},
   "outputs": [
    {
     "data": {
      "text/html": [
       "<div>\n",
       "<style scoped>\n",
       "    .dataframe tbody tr th:only-of-type {\n",
       "        vertical-align: middle;\n",
       "    }\n",
       "\n",
       "    .dataframe tbody tr th {\n",
       "        vertical-align: top;\n",
       "    }\n",
       "\n",
       "    .dataframe thead th {\n",
       "        text-align: right;\n",
       "    }\n",
       "</style>\n",
       "<table border=\"1\" class=\"dataframe\">\n",
       "  <thead>\n",
       "    <tr style=\"text-align: right;\">\n",
       "      <th></th>\n",
       "      <th>1</th>\n",
       "    </tr>\n",
       "    <tr>\n",
       "      <th>0</th>\n",
       "      <th></th>\n",
       "    </tr>\n",
       "  </thead>\n",
       "  <tbody>\n",
       "    <tr>\n",
       "      <th>банк</th>\n",
       "      <td>631568</td>\n",
       "    </tr>\n",
       "    <tr>\n",
       "      <th>карта</th>\n",
       "      <td>293839</td>\n",
       "    </tr>\n",
       "    <tr>\n",
       "      <th>деньги</th>\n",
       "      <td>173346</td>\n",
       "    </tr>\n",
       "    <tr>\n",
       "      <th>день</th>\n",
       "      <td>163710</td>\n",
       "    </tr>\n",
       "    <tr>\n",
       "      <th>отделение</th>\n",
       "      <td>131658</td>\n",
       "    </tr>\n",
       "    <tr>\n",
       "      <th>кредит</th>\n",
       "      <td>118149</td>\n",
       "    </tr>\n",
       "    <tr>\n",
       "      <th>счет</th>\n",
       "      <td>96344</td>\n",
       "    </tr>\n",
       "    <tr>\n",
       "      <th>сотрудник</th>\n",
       "      <td>95357</td>\n",
       "    </tr>\n",
       "    <tr>\n",
       "      <th>время</th>\n",
       "      <td>91586</td>\n",
       "    </tr>\n",
       "    <tr>\n",
       "      <th>мой</th>\n",
       "      <td>89606</td>\n",
       "    </tr>\n",
       "  </tbody>\n",
       "</table>\n",
       "</div>"
      ],
      "text/plain": [
       "                1\n",
       "0                \n",
       "банк       631568\n",
       "карта      293839\n",
       "деньги     173346\n",
       "день       163710\n",
       "отделение  131658\n",
       "кредит     118149\n",
       "счет        96344\n",
       "сотрудник   95357\n",
       "время       91586\n",
       "мой         89606"
      ]
     },
     "execution_count": 37,
     "metadata": {},
     "output_type": "execute_result"
    }
   ],
   "source": [
    "top10lemm"
   ]
  },
  {
   "cell_type": "markdown",
   "metadata": {},
   "source": [
    "PS RNN predictor не смог импортироваться на моем компе, mystem не считался в колабе (не знаю почему), но mystem на компе сделал лучше результат,чем rnn в колабе. Поэтому исп mystem"
   ]
  },
  {
   "cell_type": "markdown",
   "metadata": {},
   "source": [
    "1.4. top 10 существительных"
   ]
  },
  {
   "cell_type": "markdown",
   "metadata": {},
   "source": [
    "почти все слова в топ 10 лемм существительные, можно взять 30 лематизированных слов из top100words и выбрать из них существительные"
   ]
  },
  {
   "cell_type": "code",
   "execution_count": 38,
   "metadata": {},
   "outputs": [],
   "source": [
    "words_for_an=top100words_tab.index.tolist()[:30]"
   ]
  },
  {
   "cell_type": "code",
   "execution_count": 39,
   "metadata": {},
   "outputs": [],
   "source": [
    "nouns=[x for x in words_for_an if 'S' in mystem_analyzer.analyze('молоко')[0]['analysis'][0]['gr']]"
   ]
  },
  {
   "cell_type": "code",
   "execution_count": 40,
   "metadata": {},
   "outputs": [
    {
     "data": {
      "text/plain": [
       "['банк',\n",
       " 'карта',\n",
       " 'деньги',\n",
       " 'день',\n",
       " 'отделение',\n",
       " 'кредит',\n",
       " 'счет',\n",
       " 'сотрудник',\n",
       " 'время',\n",
       " 'мой']"
      ]
     },
     "execution_count": 40,
     "metadata": {},
     "output_type": "execute_result"
    }
   ],
   "source": [
    "nouns[:10]"
   ]
  },
  {
   "cell_type": "code",
   "execution_count": 41,
   "metadata": {},
   "outputs": [],
   "source": [
    "nouns.remove('мой')"
   ]
  },
  {
   "cell_type": "code",
   "execution_count": 42,
   "metadata": {},
   "outputs": [
    {
     "data": {
      "text/plain": [
       "['банк',\n",
       " 'карта',\n",
       " 'деньги',\n",
       " 'день',\n",
       " 'отделение',\n",
       " 'кредит',\n",
       " 'счет',\n",
       " 'сотрудник',\n",
       " 'время',\n",
       " 'сумма']"
      ]
     },
     "execution_count": 42,
     "metadata": {},
     "output_type": "execute_result"
    }
   ],
   "source": [
    "nouns[:10]"
   ]
  },
  {
   "cell_type": "markdown",
   "metadata": {},
   "source": [
    "1.5.Постройте кривые Ципфа и Хипса"
   ]
  },
  {
   "cell_type": "code",
   "execution_count": 43,
   "metadata": {},
   "outputs": [
    {
     "data": {
      "image/png": "[encoded data removed]",
      "text/plain": [
       "<Figure size 432x288 with 1 Axes>"
      ]
     },
     "metadata": {
      "needs_background": "light"
     },
     "output_type": "display_data"
    }
   ],
   "source": [
    "#Ципф\n",
    "freqs = list(collections.Counter(words).values())\n",
    "freqs = sorted(freqs, reverse = True)\n",
    "\n",
    "fig, ax = plt.subplots()\n",
    "ax.plot(freqs[:200], range(200))\n",
    "plt.show()"
   ]
  },
  {
   "cell_type": "code",
   "execution_count": 44,
   "metadata": {},
   "outputs": [],
   "source": [
    "n_tokens=words_count"
   ]
  },
  {
   "cell_type": "code",
   "execution_count": 45,
   "metadata": {},
   "outputs": [],
   "source": [
    "n_types=[len(collections.Counter(x)) for x in words_length]"
   ]
  },
  {
   "cell_type": "code",
   "execution_count": 46,
   "metadata": {},
   "outputs": [
    {
     "data": {
      "image/png": "[encoded data removed]",
      "text/plain": [
       "<Figure size 432x288 with 1 Axes>"
      ]
     },
     "metadata": {
      "needs_background": "light"
     },
     "output_type": "display_data"
    }
   ],
   "source": [
    "#Xипс\n",
    "fig, ax = plt.subplots()\n",
    "ax.scatter(n_tokens, n_types)\n",
    "plt.show()"
   ]
  },
  {
   "cell_type": "markdown",
   "metadata": {},
   "source": [
    "1.6.1.Клиент или сотрудник?"
   ]
  },
  {
   "cell_type": "code",
   "execution_count": 47,
   "metadata": {},
   "outputs": [],
   "source": [
    "dict_w=dict(collections.Counter(words2))"
   ]
  },
  {
   "cell_type": "code",
   "execution_count": 48,
   "metadata": {},
   "outputs": [
    {
     "data": {
      "text/html": [
       "<div>\n",
       "<style scoped>\n",
       "    .dataframe tbody tr th:only-of-type {\n",
       "        vertical-align: middle;\n",
       "    }\n",
       "\n",
       "    .dataframe tbody tr th {\n",
       "        vertical-align: top;\n",
       "    }\n",
       "\n",
       "    .dataframe thead th {\n",
       "        text-align: right;\n",
       "    }\n",
       "</style>\n",
       "<table border=\"1\" class=\"dataframe\">\n",
       "  <thead>\n",
       "    <tr style=\"text-align: right;\">\n",
       "      <th></th>\n",
       "      <th>1</th>\n",
       "    </tr>\n",
       "    <tr>\n",
       "      <th>0</th>\n",
       "      <th></th>\n",
       "    </tr>\n",
       "  </thead>\n",
       "  <tbody>\n",
       "    <tr>\n",
       "      <th>сотрудник</th>\n",
       "      <td>95357</td>\n",
       "    </tr>\n",
       "  </tbody>\n",
       "</table>\n",
       "</div>"
      ],
      "text/plain": [
       "               1\n",
       "0               \n",
       "сотрудник  95357"
      ]
     },
     "execution_count": 48,
     "metadata": {},
     "output_type": "execute_result"
    }
   ],
   "source": [
    "top100words_tab[top100words_tab.index=='сотрудник']"
   ]
  },
  {
   "cell_type": "code",
   "execution_count": 49,
   "metadata": {},
   "outputs": [
    {
     "data": {
      "text/html": [
       "<div>\n",
       "<style scoped>\n",
       "    .dataframe tbody tr th:only-of-type {\n",
       "        vertical-align: middle;\n",
       "    }\n",
       "\n",
       "    .dataframe tbody tr th {\n",
       "        vertical-align: top;\n",
       "    }\n",
       "\n",
       "    .dataframe thead th {\n",
       "        text-align: right;\n",
       "    }\n",
       "</style>\n",
       "<table border=\"1\" class=\"dataframe\">\n",
       "  <thead>\n",
       "    <tr style=\"text-align: right;\">\n",
       "      <th></th>\n",
       "      <th>1</th>\n",
       "    </tr>\n",
       "    <tr>\n",
       "      <th>0</th>\n",
       "      <th></th>\n",
       "    </tr>\n",
       "  </thead>\n",
       "  <tbody>\n",
       "    <tr>\n",
       "      <th>клиент</th>\n",
       "      <td>56673</td>\n",
       "    </tr>\n",
       "  </tbody>\n",
       "</table>\n",
       "</div>"
      ],
      "text/plain": [
       "            1\n",
       "0            \n",
       "клиент  56673"
      ]
     },
     "execution_count": 49,
     "metadata": {},
     "output_type": "execute_result"
    }
   ],
   "source": [
    "top100words_tab[top100words_tab.index=='клиент']"
   ]
  },
  {
   "cell_type": "code",
   "execution_count": 50,
   "metadata": {},
   "outputs": [
    {
     "data": {
      "text/plain": [
       "136892"
      ]
     },
     "execution_count": 50,
     "metadata": {},
     "output_type": "execute_result"
    }
   ],
   "source": [
    "dict_w['клиент']+dict_w['клиенту']+dict_w['клиенте']+dict_w['клиентом']+dict_w['клиента']+dict_w['клиенты']+dict_w['клиентов']+dict_w['клиентам']+dict_w['клиентами']+dict_w['клиентах']"
   ]
  },
  {
   "cell_type": "code",
   "execution_count": 51,
   "metadata": {},
   "outputs": [
    {
     "data": {
      "text/plain": [
       "129166"
      ]
     },
     "execution_count": 51,
     "metadata": {},
     "output_type": "execute_result"
    }
   ],
   "source": [
    "dict_w['сотрудник']+dict_w['сотруднике']+dict_w['сотрудника']+dict_w['сотрудником']+dict_w['сотрудники']+dict_w['сотрудников']+dict_w['сотрудникам']+dict_w['сотрудниками']+dict_w['сотрудниках']"
   ]
  },
  {
   "cell_type": "markdown",
   "metadata": {},
   "source": [
    "По леммам получается неверно, тк использовали топ100 частых слов, надо было больше лемматизировать, плюс могли быть ошибки в самих леммах"
   ]
  },
  {
   "cell_type": "markdown",
   "metadata": {},
   "source": [
    "клиент"
   ]
  },
  {
   "cell_type": "markdown",
   "metadata": {},
   "source": [
    "1.6.2.Доверие или мошенничество?"
   ]
  },
  {
   "cell_type": "code",
   "execution_count": 52,
   "metadata": {},
   "outputs": [
    {
     "data": {
      "text/plain": [
       "2107"
      ]
     },
     "execution_count": 52,
     "metadata": {},
     "output_type": "execute_result"
    }
   ],
   "source": [
    "dict_w['доверие']+dict_w['доверия']+dict_w['доверию']+dict_w['доверием']+dict_w['доверии']"
   ]
  },
  {
   "cell_type": "code",
   "execution_count": 53,
   "metadata": {},
   "outputs": [
    {
     "data": {
      "text/plain": [
       "1951"
      ]
     },
     "execution_count": 53,
     "metadata": {},
     "output_type": "execute_result"
    }
   ],
   "source": [
    "dict_w['мошенничество']+dict_w['мошеничества']+dict_w['мошенничеству']+dict_w['мошенничеством']+dict_w['мошенничестве']"
   ]
  },
  {
   "cell_type": "markdown",
   "metadata": {},
   "source": [
    "доверие"
   ]
  },
  {
   "cell_type": "markdown",
   "metadata": {},
   "source": [
    "1.7.ключевые слова и биграммы с помощью tf-idf"
   ]
  },
  {
   "cell_type": "code",
   "execution_count": 54,
   "metadata": {},
   "outputs": [],
   "source": [
    "#возьмем 500 положительных отзывов"
   ]
  },
  {
   "cell_type": "code",
   "execution_count": 55,
   "metadata": {},
   "outputs": [],
   "source": [
    "grade5=[x['text'] for x in responses if x['rating_grade']==5][:500]"
   ]
  },
  {
   "cell_type": "code",
   "execution_count": 56,
   "metadata": {},
   "outputs": [],
   "source": [
    "grade5=[words_only(x.lower()) for x in grade5]"
   ]
  },
  {
   "cell_type": "code",
   "execution_count": 57,
   "metadata": {},
   "outputs": [],
   "source": [
    "words_grade5=[x.replace(' ',',') for x in grade5]"
   ]
  },
  {
   "cell_type": "code",
   "execution_count": 58,
   "metadata": {},
   "outputs": [],
   "source": [
    "words_grade5=','.join(words_grade5)"
   ]
  },
  {
   "cell_type": "code",
   "execution_count": 59,
   "metadata": {},
   "outputs": [],
   "source": [
    "words_grade5=words_grade5.split(',')"
   ]
  },
  {
   "cell_type": "code",
   "execution_count": 60,
   "metadata": {},
   "outputs": [],
   "source": [
    "grade5=[x for x in words_grade5 if x not in noise]"
   ]
  },
  {
   "cell_type": "code",
   "execution_count": 61,
   "metadata": {},
   "outputs": [],
   "source": [
    "grade5=[x for x in grade5 if len(x)>2]"
   ]
  },
  {
   "cell_type": "code",
   "execution_count": 62,
   "metadata": {},
   "outputs": [
    {
     "data": {
      "text/plain": [
       "56166"
      ]
     },
     "execution_count": 62,
     "metadata": {},
     "output_type": "execute_result"
    }
   ],
   "source": [
    "len(grade5)"
   ]
  },
  {
   "cell_type": "code",
   "execution_count": 63,
   "metadata": {},
   "outputs": [
    {
     "name": "stdout",
     "output_type": "stream",
     "text": [
      "0\n",
      "100\n",
      "200\n",
      "300\n",
      "400\n",
      "500\n",
      "600\n",
      "700\n",
      "800\n",
      "900\n",
      "1000\n",
      "1100\n",
      "1200\n",
      "1300\n",
      "1400\n",
      "1500\n",
      "1600\n",
      "1700\n",
      "1800\n",
      "1900\n",
      "2000\n",
      "2100\n",
      "2200\n",
      "2300\n",
      "2400\n",
      "2500\n",
      "2600\n",
      "2700\n",
      "2800\n",
      "2900\n",
      "3000\n",
      "3100\n",
      "3200\n",
      "3300\n",
      "3400\n",
      "3500\n",
      "3600\n",
      "3700\n",
      "3800\n",
      "3900\n",
      "4000\n",
      "4100\n",
      "4200\n",
      "4300\n",
      "4400\n",
      "4500\n",
      "4600\n",
      "4700\n",
      "4800\n",
      "4900\n",
      "5000\n",
      "5100\n",
      "5200\n",
      "5300\n",
      "5400\n",
      "5500\n",
      "5600\n",
      "5700\n",
      "5800\n",
      "5900\n",
      "6000\n",
      "6100\n",
      "6200\n",
      "6300\n",
      "6400\n",
      "6500\n",
      "6600\n",
      "6700\n",
      "6800\n",
      "6900\n",
      "7000\n",
      "7100\n",
      "7200\n",
      "7300\n",
      "7400\n",
      "7500\n",
      "7600\n",
      "7700\n",
      "7800\n",
      "7900\n",
      "8000\n",
      "8100\n",
      "8200\n",
      "8300\n",
      "8400\n",
      "8500\n",
      "8600\n",
      "8700\n",
      "8800\n",
      "8900\n",
      "9000\n",
      "9100\n",
      "9200\n",
      "9300\n",
      "9400\n",
      "9500\n",
      "9600\n",
      "9700\n",
      "9800\n",
      "9900\n",
      "10000\n",
      "10100\n",
      "10200\n",
      "10300\n",
      "10400\n",
      "10500\n",
      "10600\n",
      "10700\n",
      "10800\n",
      "10900\n",
      "11000\n",
      "11100\n",
      "11200\n",
      "11300\n",
      "11400\n",
      "11500\n",
      "11600\n",
      "11700\n",
      "11800\n",
      "11900\n",
      "12000\n",
      "12100\n",
      "12200\n",
      "12300\n",
      "12400\n",
      "12500\n",
      "12600\n",
      "12700\n",
      "12800\n",
      "12900\n",
      "13000\n",
      "13100\n",
      "13200\n",
      "13300\n",
      "13400\n",
      "13500\n",
      "13600\n",
      "13700\n",
      "13800\n",
      "13900\n",
      "14000\n",
      "14100\n",
      "14200\n",
      "14300\n",
      "14400\n",
      "14500\n",
      "14600\n",
      "14700\n",
      "14800\n",
      "14900\n",
      "15000\n",
      "15100\n",
      "15200\n",
      "15300\n",
      "15400\n",
      "15500\n",
      "15600\n",
      "15700\n",
      "15800\n",
      "15900\n",
      "16000\n",
      "16100\n",
      "16200\n",
      "16300\n",
      "16400\n",
      "16500\n",
      "16600\n",
      "16700\n",
      "16800\n",
      "16900\n",
      "17000\n",
      "17100\n",
      "17200\n",
      "17300\n",
      "17400\n",
      "17500\n",
      "17600\n",
      "17700\n",
      "17800\n",
      "17900\n",
      "18000\n",
      "18100\n",
      "18200\n",
      "18300\n",
      "18400\n",
      "18500\n",
      "18600\n",
      "18700\n",
      "18800\n",
      "18900\n",
      "19000\n",
      "19100\n",
      "19200\n",
      "19300\n",
      "19400\n",
      "19500\n",
      "19600\n",
      "19700\n",
      "19800\n",
      "19900\n",
      "20000\n",
      "20100\n",
      "20200\n",
      "20300\n",
      "20400\n",
      "20500\n",
      "20600\n",
      "20700\n",
      "20800\n",
      "20900\n",
      "21000\n",
      "21100\n",
      "21200\n",
      "21300\n",
      "21400\n",
      "21500\n",
      "21600\n",
      "21700\n",
      "21800\n",
      "21900\n",
      "22000\n",
      "22100\n",
      "22200\n",
      "22300\n",
      "22400\n",
      "22500\n",
      "22600\n",
      "22700\n",
      "22800\n",
      "22900\n",
      "23000\n",
      "23100\n",
      "23200\n",
      "23300\n",
      "23400\n",
      "23500\n",
      "23600\n",
      "23700\n",
      "23800\n",
      "23900\n",
      "24000\n",
      "24100\n",
      "24200\n",
      "24300\n",
      "24400\n",
      "24500\n",
      "24600\n",
      "24700\n",
      "24800\n",
      "24900\n",
      "25000\n",
      "25100\n",
      "25200\n",
      "25300\n",
      "25400\n",
      "25500\n",
      "25600\n",
      "25700\n",
      "25800\n",
      "25900\n",
      "26000\n",
      "26100\n",
      "26200\n",
      "26300\n",
      "26400\n",
      "26500\n",
      "26600\n",
      "26700\n",
      "26800\n",
      "26900\n",
      "27000\n",
      "27100\n",
      "27200\n",
      "27300\n",
      "27400\n",
      "27500\n",
      "27600\n",
      "27700\n",
      "27800\n",
      "27900\n",
      "28000\n",
      "28100\n",
      "28200\n",
      "28300\n",
      "28400\n",
      "28500\n",
      "28600\n",
      "28700\n",
      "28800\n",
      "28900\n",
      "29000\n",
      "29100\n",
      "29200\n",
      "29300\n",
      "29400\n",
      "29500\n",
      "29600\n",
      "29700\n",
      "29800\n",
      "29900\n",
      "30000\n",
      "30100\n",
      "30200\n",
      "30300\n",
      "30400\n",
      "30500\n",
      "30600\n",
      "30700\n",
      "30800\n",
      "30900\n",
      "31000\n",
      "31100\n",
      "31200\n",
      "31300\n",
      "31400\n",
      "31500\n",
      "31600\n",
      "31700\n",
      "31800\n",
      "31900\n",
      "32000\n",
      "32100\n",
      "32200\n",
      "32300\n",
      "32400\n",
      "32500\n",
      "32600\n",
      "32700\n",
      "32800\n",
      "32900\n",
      "33000\n",
      "33100\n",
      "33200\n",
      "33300\n",
      "33400\n",
      "33500\n",
      "33600\n",
      "33700\n",
      "33800\n",
      "33900\n",
      "34000\n",
      "34100\n",
      "34200\n",
      "34300\n",
      "34400\n",
      "34500\n",
      "34600\n",
      "34700\n",
      "34800\n",
      "34900\n",
      "35000\n",
      "35100\n",
      "35200\n",
      "35300\n",
      "35400\n",
      "35500\n",
      "35600\n",
      "35700\n",
      "35800\n",
      "35900\n",
      "36000\n",
      "36100\n",
      "36200\n",
      "36300\n",
      "36400\n",
      "36500\n",
      "36600\n",
      "36700\n",
      "36800\n",
      "36900\n",
      "37000\n",
      "37100\n",
      "37200\n",
      "37300\n",
      "37400\n",
      "37500\n",
      "37600\n",
      "37700\n",
      "37800\n",
      "37900\n",
      "38000\n",
      "38100\n",
      "38200\n",
      "38300\n",
      "38400\n",
      "38500\n",
      "38600\n",
      "38700\n",
      "38800\n",
      "38900\n",
      "39000\n",
      "39100\n",
      "39200\n",
      "39300\n",
      "39400\n",
      "39500\n",
      "39600\n",
      "39700\n",
      "39800\n",
      "39900\n",
      "40000\n",
      "40100\n",
      "40200\n",
      "40300\n",
      "40400\n",
      "40500\n",
      "40600\n",
      "40700\n",
      "40800\n",
      "40900\n",
      "41000\n",
      "41100\n",
      "41200\n",
      "41300\n",
      "41400\n",
      "41500\n",
      "41600\n",
      "41700\n",
      "41800\n",
      "41900\n",
      "42000\n",
      "42100\n",
      "42200\n",
      "42300\n",
      "42400\n",
      "42500\n",
      "42600\n",
      "42700\n",
      "42800\n",
      "42900\n",
      "43000\n",
      "43100\n",
      "43200\n",
      "43300\n",
      "43400\n",
      "43500\n",
      "43600\n",
      "43700\n",
      "43800\n",
      "43900\n",
      "44000\n",
      "44100\n",
      "44200\n",
      "44300\n",
      "44400\n",
      "44500\n",
      "44600\n",
      "44700\n",
      "44800\n",
      "44900\n",
      "45000\n",
      "45100\n",
      "45200\n",
      "45300\n",
      "45400\n",
      "45500\n",
      "45600\n",
      "45700\n",
      "45800\n",
      "45900\n",
      "46000\n",
      "46100\n",
      "46200\n",
      "46300\n",
      "46400\n",
      "46500\n",
      "46600\n",
      "46700\n",
      "46800\n",
      "46900\n",
      "47000\n",
      "47100\n",
      "47200\n",
      "47300\n",
      "47400\n",
      "47500\n",
      "47600\n",
      "47700\n",
      "47800\n",
      "47900\n",
      "48000\n",
      "48100\n",
      "48200\n",
      "48300\n",
      "48400\n",
      "48500\n",
      "48600\n",
      "48700\n",
      "48800\n",
      "48900\n",
      "49000\n",
      "49100\n",
      "49200\n",
      "49300\n",
      "49400\n",
      "49500\n",
      "49600\n",
      "49700\n",
      "49800\n",
      "49900\n",
      "50000\n",
      "50100\n",
      "50200\n",
      "50300\n",
      "50400\n",
      "50500\n",
      "50600\n",
      "50700\n",
      "50800\n",
      "50900\n",
      "51000\n",
      "51100\n",
      "51200\n",
      "51300\n",
      "51400\n",
      "51500\n",
      "51600\n",
      "51700\n",
      "51800\n",
      "51900\n",
      "52000\n",
      "52100\n",
      "52200\n",
      "52300\n",
      "52400\n",
      "52500\n",
      "52600\n",
      "52700\n",
      "52800\n",
      "52900\n",
      "53000\n",
      "53100\n",
      "53200\n",
      "53300\n",
      "53400\n",
      "53500\n",
      "53600\n",
      "53700\n",
      "53800\n",
      "53900\n",
      "54000\n",
      "54100\n",
      "54200\n",
      "54300\n",
      "54400\n",
      "54500\n",
      "54600\n",
      "54700\n",
      "54800\n",
      "54900\n",
      "55000\n",
      "55100\n",
      "55200\n",
      "55300\n",
      "55400\n",
      "55500\n",
      "55600\n",
      "55700\n",
      "55800\n",
      "55900\n",
      "56000\n",
      "56100\n"
     ]
    }
   ],
   "source": [
    "i=0\n",
    "grade5_lem=[]\n",
    "while i<len(grade5):\n",
    "    print(i)\n",
    "    grade=' '.join(grade5[i:(i+100)])\n",
    "    grade5_for_lem=mystem_analyzer.lemmatize(grade)\n",
    "    grade5_lem=grade5_lem+grade5_for_lem\n",
    "    i=i+100"
   ]
  },
  {
   "cell_type": "code",
   "execution_count": 64,
   "metadata": {},
   "outputs": [
    {
     "data": {
      "text/plain": [
       "112332"
      ]
     },
     "execution_count": 64,
     "metadata": {},
     "output_type": "execute_result"
    }
   ],
   "source": [
    "len(grade5_lem)"
   ]
  },
  {
   "cell_type": "code",
   "execution_count": 65,
   "metadata": {},
   "outputs": [],
   "source": [
    "grade5_lem=[x for x in grade5_lem if x!=' ']"
   ]
  },
  {
   "cell_type": "code",
   "execution_count": 66,
   "metadata": {},
   "outputs": [],
   "source": [
    "grade5_lem=[x for x in grade5_lem if x!='\\n']"
   ]
  },
  {
   "cell_type": "code",
   "execution_count": 67,
   "metadata": {},
   "outputs": [
    {
     "data": {
      "text/plain": [
       "56166"
      ]
     },
     "execution_count": 67,
     "metadata": {},
     "output_type": "execute_result"
    }
   ],
   "source": [
    "len(grade5_lem)"
   ]
  },
  {
   "cell_type": "code",
   "execution_count": 68,
   "metadata": {},
   "outputs": [],
   "source": [
    "#возьмем 500 отрицательных отзывов"
   ]
  },
  {
   "cell_type": "code",
   "execution_count": 69,
   "metadata": {},
   "outputs": [],
   "source": [
    "grade1=[x['text'] for x in responses if x['rating_grade']==1][:500]"
   ]
  },
  {
   "cell_type": "code",
   "execution_count": 70,
   "metadata": {},
   "outputs": [],
   "source": [
    "grade1=[words_only(x.lower()) for x in grade1]"
   ]
  },
  {
   "cell_type": "code",
   "execution_count": 71,
   "metadata": {},
   "outputs": [],
   "source": [
    "words_grade1=[x.replace(' ',',') for x in grade1]"
   ]
  },
  {
   "cell_type": "code",
   "execution_count": 72,
   "metadata": {},
   "outputs": [],
   "source": [
    "words_grade1=','.join(words_grade1)"
   ]
  },
  {
   "cell_type": "code",
   "execution_count": 73,
   "metadata": {},
   "outputs": [],
   "source": [
    "words_grade1=words_grade1.split(',')"
   ]
  },
  {
   "cell_type": "code",
   "execution_count": 74,
   "metadata": {},
   "outputs": [],
   "source": [
    "grade1=[x for x in words_grade1 if x not in noise]"
   ]
  },
  {
   "cell_type": "code",
   "execution_count": 75,
   "metadata": {},
   "outputs": [],
   "source": [
    "grade1=[x for x in grade1 if len(x)>2]"
   ]
  },
  {
   "cell_type": "code",
   "execution_count": 76,
   "metadata": {},
   "outputs": [
    {
     "data": {
      "text/plain": [
       "74397"
      ]
     },
     "execution_count": 76,
     "metadata": {},
     "output_type": "execute_result"
    }
   ],
   "source": [
    "len(grade1)"
   ]
  },
  {
   "cell_type": "code",
   "execution_count": 77,
   "metadata": {},
   "outputs": [
    {
     "name": "stdout",
     "output_type": "stream",
     "text": [
      "0\n",
      "100\n",
      "200\n",
      "300\n",
      "400\n",
      "500\n",
      "600\n",
      "700\n",
      "800\n",
      "900\n",
      "1000\n",
      "1100\n",
      "1200\n",
      "1300\n",
      "1400\n",
      "1500\n",
      "1600\n",
      "1700\n",
      "1800\n",
      "1900\n",
      "2000\n",
      "2100\n",
      "2200\n",
      "2300\n",
      "2400\n",
      "2500\n",
      "2600\n",
      "2700\n",
      "2800\n",
      "2900\n",
      "3000\n",
      "3100\n",
      "3200\n",
      "3300\n",
      "3400\n",
      "3500\n",
      "3600\n",
      "3700\n",
      "3800\n",
      "3900\n",
      "4000\n",
      "4100\n",
      "4200\n",
      "4300\n",
      "4400\n",
      "4500\n",
      "4600\n",
      "4700\n",
      "4800\n",
      "4900\n",
      "5000\n",
      "5100\n",
      "5200\n",
      "5300\n",
      "5400\n",
      "5500\n",
      "5600\n",
      "5700\n",
      "5800\n",
      "5900\n",
      "6000\n",
      "6100\n",
      "6200\n",
      "6300\n",
      "6400\n",
      "6500\n",
      "6600\n",
      "6700\n",
      "6800\n",
      "6900\n",
      "7000\n",
      "7100\n",
      "7200\n",
      "7300\n",
      "7400\n",
      "7500\n",
      "7600\n",
      "7700\n",
      "7800\n",
      "7900\n",
      "8000\n",
      "8100\n",
      "8200\n",
      "8300\n",
      "8400\n",
      "8500\n",
      "8600\n",
      "8700\n",
      "8800\n",
      "8900\n",
      "9000\n",
      "9100\n",
      "9200\n",
      "9300\n",
      "9400\n",
      "9500\n",
      "9600\n",
      "9700\n",
      "9800\n",
      "9900\n",
      "10000\n",
      "10100\n",
      "10200\n",
      "10300\n",
      "10400\n",
      "10500\n",
      "10600\n",
      "10700\n",
      "10800\n",
      "10900\n",
      "11000\n",
      "11100\n",
      "11200\n",
      "11300\n",
      "11400\n",
      "11500\n",
      "11600\n",
      "11700\n",
      "11800\n",
      "11900\n",
      "12000\n",
      "12100\n",
      "12200\n",
      "12300\n",
      "12400\n",
      "12500\n",
      "12600\n",
      "12700\n",
      "12800\n",
      "12900\n",
      "13000\n",
      "13100\n",
      "13200\n",
      "13300\n",
      "13400\n",
      "13500\n",
      "13600\n",
      "13700\n",
      "13800\n",
      "13900\n",
      "14000\n",
      "14100\n",
      "14200\n",
      "14300\n",
      "14400\n",
      "14500\n",
      "14600\n",
      "14700\n",
      "14800\n",
      "14900\n",
      "15000\n",
      "15100\n",
      "15200\n",
      "15300\n",
      "15400\n",
      "15500\n",
      "15600\n",
      "15700\n",
      "15800\n",
      "15900\n",
      "16000\n",
      "16100\n",
      "16200\n",
      "16300\n",
      "16400\n",
      "16500\n",
      "16600\n",
      "16700\n",
      "16800\n",
      "16900\n",
      "17000\n",
      "17100\n",
      "17200\n",
      "17300\n",
      "17400\n",
      "17500\n",
      "17600\n",
      "17700\n",
      "17800\n",
      "17900\n",
      "18000\n",
      "18100\n",
      "18200\n",
      "18300\n",
      "18400\n",
      "18500\n",
      "18600\n",
      "18700\n",
      "18800\n",
      "18900\n",
      "19000\n",
      "19100\n",
      "19200\n",
      "19300\n",
      "19400\n",
      "19500\n",
      "19600\n",
      "19700\n",
      "19800\n",
      "19900\n",
      "20000\n",
      "20100\n",
      "20200\n",
      "20300\n",
      "20400\n",
      "20500\n",
      "20600\n",
      "20700\n",
      "20800\n",
      "20900\n",
      "21000\n",
      "21100\n",
      "21200\n",
      "21300\n",
      "21400\n",
      "21500\n",
      "21600\n",
      "21700\n",
      "21800\n",
      "21900\n",
      "22000\n",
      "22100\n",
      "22200\n",
      "22300\n",
      "22400\n",
      "22500\n",
      "22600\n",
      "22700\n",
      "22800\n",
      "22900\n",
      "23000\n",
      "23100\n",
      "23200\n",
      "23300\n",
      "23400\n",
      "23500\n",
      "23600\n",
      "23700\n",
      "23800\n",
      "23900\n",
      "24000\n",
      "24100\n",
      "24200\n",
      "24300\n",
      "24400\n",
      "24500\n",
      "24600\n",
      "24700\n",
      "24800\n",
      "24900\n",
      "25000\n",
      "25100\n",
      "25200\n",
      "25300\n",
      "25400\n",
      "25500\n",
      "25600\n",
      "25700\n",
      "25800\n",
      "25900\n",
      "26000\n",
      "26100\n",
      "26200\n",
      "26300\n",
      "26400\n",
      "26500\n",
      "26600\n",
      "26700\n",
      "26800\n",
      "26900\n",
      "27000\n",
      "27100\n",
      "27200\n",
      "27300\n",
      "27400\n",
      "27500\n",
      "27600\n",
      "27700\n",
      "27800\n",
      "27900\n",
      "28000\n",
      "28100\n",
      "28200\n",
      "28300\n",
      "28400\n",
      "28500\n",
      "28600\n",
      "28700\n",
      "28800\n",
      "28900\n",
      "29000\n",
      "29100\n",
      "29200\n",
      "29300\n",
      "29400\n",
      "29500\n",
      "29600\n",
      "29700\n",
      "29800\n",
      "29900\n",
      "30000\n",
      "30100\n",
      "30200\n",
      "30300\n",
      "30400\n",
      "30500\n",
      "30600\n",
      "30700\n",
      "30800\n",
      "30900\n",
      "31000\n",
      "31100\n",
      "31200\n",
      "31300\n",
      "31400\n",
      "31500\n",
      "31600\n",
      "31700\n",
      "31800\n",
      "31900\n",
      "32000\n",
      "32100\n",
      "32200\n",
      "32300\n",
      "32400\n",
      "32500\n",
      "32600\n",
      "32700\n",
      "32800\n",
      "32900\n",
      "33000\n",
      "33100\n",
      "33200\n",
      "33300\n",
      "33400\n",
      "33500\n",
      "33600\n",
      "33700\n",
      "33800\n",
      "33900\n",
      "34000\n",
      "34100\n",
      "34200\n",
      "34300\n",
      "34400\n",
      "34500\n",
      "34600\n",
      "34700\n",
      "34800\n",
      "34900\n",
      "35000\n",
      "35100\n",
      "35200\n",
      "35300\n",
      "35400\n",
      "35500\n",
      "35600\n",
      "35700\n",
      "35800\n",
      "35900\n",
      "36000\n",
      "36100\n",
      "36200\n",
      "36300\n",
      "36400\n",
      "36500\n",
      "36600\n",
      "36700\n",
      "36800\n",
      "36900\n",
      "37000\n",
      "37100\n",
      "37200\n",
      "37300\n",
      "37400\n",
      "37500\n",
      "37600\n",
      "37700\n",
      "37800\n",
      "37900\n",
      "38000\n",
      "38100\n",
      "38200\n",
      "38300\n",
      "38400\n",
      "38500\n",
      "38600\n",
      "38700\n",
      "38800\n",
      "38900\n",
      "39000\n",
      "39100\n",
      "39200\n",
      "39300\n",
      "39400\n",
      "39500\n",
      "39600\n",
      "39700\n",
      "39800\n",
      "39900\n",
      "40000\n",
      "40100\n",
      "40200\n",
      "40300\n",
      "40400\n",
      "40500\n",
      "40600\n",
      "40700\n",
      "40800\n",
      "40900\n",
      "41000\n",
      "41100\n",
      "41200\n",
      "41300\n",
      "41400\n",
      "41500\n",
      "41600\n",
      "41700\n",
      "41800\n",
      "41900\n",
      "42000\n",
      "42100\n",
      "42200\n",
      "42300\n",
      "42400\n",
      "42500\n",
      "42600\n",
      "42700\n",
      "42800\n",
      "42900\n",
      "43000\n",
      "43100\n",
      "43200\n",
      "43300\n",
      "43400\n",
      "43500\n",
      "43600\n",
      "43700\n",
      "43800\n",
      "43900\n",
      "44000\n",
      "44100\n",
      "44200\n",
      "44300\n",
      "44400\n",
      "44500\n",
      "44600\n",
      "44700\n",
      "44800\n",
      "44900\n",
      "45000\n",
      "45100\n",
      "45200\n",
      "45300\n",
      "45400\n",
      "45500\n",
      "45600\n",
      "45700\n",
      "45800\n",
      "45900\n",
      "46000\n",
      "46100\n",
      "46200\n",
      "46300\n",
      "46400\n",
      "46500\n",
      "46600\n",
      "46700\n",
      "46800\n",
      "46900\n",
      "47000\n",
      "47100\n",
      "47200\n",
      "47300\n",
      "47400\n",
      "47500\n",
      "47600\n",
      "47700\n",
      "47800\n",
      "47900\n",
      "48000\n",
      "48100\n",
      "48200\n",
      "48300\n",
      "48400\n",
      "48500\n",
      "48600\n",
      "48700\n",
      "48800\n",
      "48900\n",
      "49000\n",
      "49100\n",
      "49200\n",
      "49300\n",
      "49400\n",
      "49500\n",
      "49600\n",
      "49700\n",
      "49800\n",
      "49900\n",
      "50000\n",
      "50100\n",
      "50200\n",
      "50300\n",
      "50400\n",
      "50500\n",
      "50600\n",
      "50700\n",
      "50800\n",
      "50900\n",
      "51000\n",
      "51100\n",
      "51200\n",
      "51300\n",
      "51400\n",
      "51500\n",
      "51600\n",
      "51700\n",
      "51800\n",
      "51900\n",
      "52000\n",
      "52100\n",
      "52200\n",
      "52300\n",
      "52400\n",
      "52500\n",
      "52600\n",
      "52700\n",
      "52800\n",
      "52900\n",
      "53000\n",
      "53100\n",
      "53200\n",
      "53300\n",
      "53400\n",
      "53500\n",
      "53600\n",
      "53700\n",
      "53800\n",
      "53900\n",
      "54000\n",
      "54100\n",
      "54200\n",
      "54300\n",
      "54400\n",
      "54500\n",
      "54600\n",
      "54700\n",
      "54800\n",
      "54900\n",
      "55000\n",
      "55100\n",
      "55200\n",
      "55300\n",
      "55400\n",
      "55500\n",
      "55600\n",
      "55700\n",
      "55800\n",
      "55900\n",
      "56000\n",
      "56100\n",
      "56200\n",
      "56300\n",
      "56400\n",
      "56500\n",
      "56600\n",
      "56700\n",
      "56800\n",
      "56900\n",
      "57000\n",
      "57100\n",
      "57200\n",
      "57300\n",
      "57400\n",
      "57500\n",
      "57600\n",
      "57700\n",
      "57800\n",
      "57900\n",
      "58000\n",
      "58100\n",
      "58200\n",
      "58300\n",
      "58400\n",
      "58500\n",
      "58600\n",
      "58700\n",
      "58800\n",
      "58900\n",
      "59000\n",
      "59100\n",
      "59200\n",
      "59300\n",
      "59400\n",
      "59500\n",
      "59600\n",
      "59700\n",
      "59800\n",
      "59900\n",
      "60000\n",
      "60100\n",
      "60200\n",
      "60300\n",
      "60400\n",
      "60500\n",
      "60600\n",
      "60700\n",
      "60800\n",
      "60900\n",
      "61000\n",
      "61100\n",
      "61200\n",
      "61300\n",
      "61400\n",
      "61500\n",
      "61600\n",
      "61700\n",
      "61800\n",
      "61900\n",
      "62000\n",
      "62100\n",
      "62200\n",
      "62300\n",
      "62400\n",
      "62500\n",
      "62600\n",
      "62700\n",
      "62800\n",
      "62900\n",
      "63000\n",
      "63100\n",
      "63200\n",
      "63300\n",
      "63400\n",
      "63500\n",
      "63600\n",
      "63700\n",
      "63800\n",
      "63900\n",
      "64000\n",
      "64100\n",
      "64200\n",
      "64300\n",
      "64400\n",
      "64500\n",
      "64600\n",
      "64700\n",
      "64800\n",
      "64900\n",
      "65000\n",
      "65100\n",
      "65200\n",
      "65300\n",
      "65400\n",
      "65500\n",
      "65600\n",
      "65700\n",
      "65800\n",
      "65900\n",
      "66000\n",
      "66100\n",
      "66200\n",
      "66300\n",
      "66400\n",
      "66500\n",
      "66600\n",
      "66700\n",
      "66800\n",
      "66900\n",
      "67000\n",
      "67100\n",
      "67200\n",
      "67300\n",
      "67400\n",
      "67500\n",
      "67600\n",
      "67700\n",
      "67800\n",
      "67900\n",
      "68000\n",
      "68100\n",
      "68200\n",
      "68300\n",
      "68400\n",
      "68500\n",
      "68600\n",
      "68700\n",
      "68800\n",
      "68900\n",
      "69000\n",
      "69100\n",
      "69200\n",
      "69300\n",
      "69400\n",
      "69500\n",
      "69600\n",
      "69700\n",
      "69800\n",
      "69900\n",
      "70000\n",
      "70100\n",
      "70200\n",
      "70300\n",
      "70400\n",
      "70500\n",
      "70600\n",
      "70700\n",
      "70800\n",
      "70900\n",
      "71000\n",
      "71100\n",
      "71200\n",
      "71300\n",
      "71400\n",
      "71500\n",
      "71600\n",
      "71700\n",
      "71800\n",
      "71900\n",
      "72000\n",
      "72100\n",
      "72200\n",
      "72300\n",
      "72400\n",
      "72500\n",
      "72600\n",
      "72700\n",
      "72800\n",
      "72900\n",
      "73000\n",
      "73100\n",
      "73200\n",
      "73300\n",
      "73400\n",
      "73500\n",
      "73600\n",
      "73700\n",
      "73800\n",
      "73900\n",
      "74000\n",
      "74100\n",
      "74200\n",
      "74300\n"
     ]
    }
   ],
   "source": [
    "i=0\n",
    "grade1_lem=[]\n",
    "while i<len(grade1):\n",
    "    print(i)\n",
    "    grade=' '.join(grade1[i:(i+100)])\n",
    "    grade1_for_lem=mystem_analyzer.lemmatize(grade)\n",
    "    grade1_lem=grade1_lem+grade1_for_lem\n",
    "    i=i+100"
   ]
  },
  {
   "cell_type": "code",
   "execution_count": 78,
   "metadata": {},
   "outputs": [],
   "source": [
    "grade1_lem=[x for x in grade1_lem if x!=' ']"
   ]
  },
  {
   "cell_type": "code",
   "execution_count": 79,
   "metadata": {},
   "outputs": [],
   "source": [
    "grade1_lem=[x for x in grade1_lem if x!='\\n']"
   ]
  },
  {
   "cell_type": "code",
   "execution_count": 80,
   "metadata": {},
   "outputs": [
    {
     "data": {
      "text/plain": [
       "74397"
      ]
     },
     "execution_count": 80,
     "metadata": {},
     "output_type": "execute_result"
    }
   ],
   "source": [
    "len(grade1_lem)"
   ]
  },
  {
   "cell_type": "code",
   "execution_count": 81,
   "metadata": {},
   "outputs": [],
   "source": [
    "for_keyw=[]\n",
    "for_keyw.append(' '.join(grade5_lem))\n",
    "for_keyw.append(' '.join(grade1_lem))"
   ]
  },
  {
   "cell_type": "code",
   "execution_count": 82,
   "metadata": {},
   "outputs": [],
   "source": [
    "from sklearn.feature_extraction.text import TfidfVectorizer"
   ]
  },
  {
   "cell_type": "code",
   "execution_count": 83,
   "metadata": {},
   "outputs": [],
   "source": [
    "vectorizer = TfidfVectorizer(ngram_range=(1,2))\n",
    "X = vectorizer.fit_transform(for_keyw)"
   ]
  },
  {
   "cell_type": "code",
   "execution_count": 84,
   "metadata": {},
   "outputs": [],
   "source": [
    "tab_grade=pd.concat([pd.DataFrame(vectorizer.get_feature_names()),pd.DataFrame(X[0].toarray()[0]),pd.DataFrame(X[1].toarray()[0])],axis=1)"
   ]
  },
  {
   "cell_type": "code",
   "execution_count": 85,
   "metadata": {},
   "outputs": [],
   "source": [
    "tab_grade.columns=['word','tf_5', 'tf_1']"
   ]
  },
  {
   "cell_type": "code",
   "execution_count": 86,
   "metadata": {},
   "outputs": [
    {
     "data": {
      "text/html": [
       "<div>\n",
       "<style scoped>\n",
       "    .dataframe tbody tr th:only-of-type {\n",
       "        vertical-align: middle;\n",
       "    }\n",
       "\n",
       "    .dataframe tbody tr th {\n",
       "        vertical-align: top;\n",
       "    }\n",
       "\n",
       "    .dataframe thead th {\n",
       "        text-align: right;\n",
       "    }\n",
       "</style>\n",
       "<table border=\"1\" class=\"dataframe\">\n",
       "  <thead>\n",
       "    <tr style=\"text-align: right;\">\n",
       "      <th></th>\n",
       "      <th>word</th>\n",
       "      <th>tf_5</th>\n",
       "      <th>tf_1</th>\n",
       "    </tr>\n",
       "  </thead>\n",
       "  <tbody>\n",
       "    <tr>\n",
       "      <th>1567</th>\n",
       "      <td>банк</td>\n",
       "      <td>0.598212</td>\n",
       "      <td>0.495378</td>\n",
       "    </tr>\n",
       "    <tr>\n",
       "      <th>29065</th>\n",
       "      <td>карта</td>\n",
       "      <td>0.306990</td>\n",
       "      <td>0.338600</td>\n",
       "    </tr>\n",
       "    <tr>\n",
       "      <th>83538</th>\n",
       "      <td>сотрудник</td>\n",
       "      <td>0.148966</td>\n",
       "      <td>0.168298</td>\n",
       "    </tr>\n",
       "    <tr>\n",
       "      <th>55042</th>\n",
       "      <td>очень</td>\n",
       "      <td>0.141585</td>\n",
       "      <td>0.034060</td>\n",
       "    </tr>\n",
       "    <tr>\n",
       "      <th>30685</th>\n",
       "      <td>клиент</td>\n",
       "      <td>0.140914</td>\n",
       "      <td>0.119462</td>\n",
       "    </tr>\n",
       "    <tr>\n",
       "      <th>16382</th>\n",
       "      <td>день</td>\n",
       "      <td>0.136217</td>\n",
       "      <td>0.174309</td>\n",
       "    </tr>\n",
       "    <tr>\n",
       "      <th>38514</th>\n",
       "      <td>мой</td>\n",
       "      <td>0.133197</td>\n",
       "      <td>0.149515</td>\n",
       "    </tr>\n",
       "    <tr>\n",
       "      <th>7597</th>\n",
       "      <td>вклад</td>\n",
       "      <td>0.130177</td>\n",
       "      <td>0.074632</td>\n",
       "    </tr>\n",
       "    <tr>\n",
       "      <th>52057</th>\n",
       "      <td>отделение</td>\n",
       "      <td>0.125816</td>\n",
       "      <td>0.162538</td>\n",
       "    </tr>\n",
       "    <tr>\n",
       "      <th>32730</th>\n",
       "      <td>который</td>\n",
       "      <td>0.124809</td>\n",
       "      <td>0.141751</td>\n",
       "    </tr>\n",
       "    <tr>\n",
       "      <th>13489</th>\n",
       "      <td>год</td>\n",
       "      <td>0.104679</td>\n",
       "      <td>0.089158</td>\n",
       "    </tr>\n",
       "    <tr>\n",
       "      <th>16915</th>\n",
       "      <td>деньги</td>\n",
       "      <td>0.104679</td>\n",
       "      <td>0.166295</td>\n",
       "    </tr>\n",
       "    <tr>\n",
       "      <th>10274</th>\n",
       "      <td>время</td>\n",
       "      <td>0.102666</td>\n",
       "      <td>0.076385</td>\n",
       "    </tr>\n",
       "    <tr>\n",
       "      <th>54274</th>\n",
       "      <td>офис</td>\n",
       "      <td>0.098304</td>\n",
       "      <td>0.075885</td>\n",
       "    </tr>\n",
       "    <tr>\n",
       "      <th>78172</th>\n",
       "      <td>свой</td>\n",
       "      <td>0.097633</td>\n",
       "      <td>0.080142</td>\n",
       "    </tr>\n",
       "    <tr>\n",
       "      <th>9544</th>\n",
       "      <td>вопрос</td>\n",
       "      <td>0.097633</td>\n",
       "      <td>0.078639</td>\n",
       "    </tr>\n",
       "    <tr>\n",
       "      <th>84233</th>\n",
       "      <td>спасибо</td>\n",
       "      <td>0.095955</td>\n",
       "      <td>0.009016</td>\n",
       "    </tr>\n",
       "    <tr>\n",
       "      <th>72194</th>\n",
       "      <td>работа</td>\n",
       "      <td>0.087568</td>\n",
       "      <td>0.043828</td>\n",
       "    </tr>\n",
       "    <tr>\n",
       "      <th>33411</th>\n",
       "      <td>кредит</td>\n",
       "      <td>0.085890</td>\n",
       "      <td>0.132234</td>\n",
       "    </tr>\n",
       "    <tr>\n",
       "      <th>68778</th>\n",
       "      <td>проблема</td>\n",
       "      <td>0.082871</td>\n",
       "      <td>0.055599</td>\n",
       "    </tr>\n",
       "    <tr>\n",
       "      <th>75424</th>\n",
       "      <td>решать</td>\n",
       "      <td>0.080187</td>\n",
       "      <td>0.047835</td>\n",
       "    </tr>\n",
       "    <tr>\n",
       "      <th>88282</th>\n",
       "      <td>счет</td>\n",
       "      <td>0.080187</td>\n",
       "      <td>0.118710</td>\n",
       "    </tr>\n",
       "    <tr>\n",
       "      <th>61779</th>\n",
       "      <td>получать</td>\n",
       "      <td>0.078509</td>\n",
       "      <td>0.100678</td>\n",
       "    </tr>\n",
       "    <tr>\n",
       "      <th>46931</th>\n",
       "      <td>обслуживание</td>\n",
       "      <td>0.077838</td>\n",
       "      <td>0.038067</td>\n",
       "    </tr>\n",
       "    <tr>\n",
       "      <th>95559</th>\n",
       "      <td>хотеть</td>\n",
       "      <td>0.075825</td>\n",
       "      <td>0.031055</td>\n",
       "    </tr>\n",
       "    <tr>\n",
       "      <th>80040</th>\n",
       "      <td>сказать</td>\n",
       "      <td>0.067102</td>\n",
       "      <td>0.109694</td>\n",
       "    </tr>\n",
       "    <tr>\n",
       "      <th>87700</th>\n",
       "      <td>сумма</td>\n",
       "      <td>0.064418</td>\n",
       "      <td>0.101430</td>\n",
       "    </tr>\n",
       "    <tr>\n",
       "      <th>88976</th>\n",
       "      <td>такой</td>\n",
       "      <td>0.064082</td>\n",
       "      <td>0.072378</td>\n",
       "    </tr>\n",
       "    <tr>\n",
       "      <th>33889</th>\n",
       "      <td>кредитный</td>\n",
       "      <td>0.060727</td>\n",
       "      <td>0.062861</td>\n",
       "    </tr>\n",
       "    <tr>\n",
       "      <th>68094</th>\n",
       "      <td>приходить</td>\n",
       "      <td>0.059385</td>\n",
       "      <td>0.093416</td>\n",
       "    </tr>\n",
       "    <tr>\n",
       "      <th>15139</th>\n",
       "      <td>данный</td>\n",
       "      <td>0.058379</td>\n",
       "      <td>0.075885</td>\n",
       "    </tr>\n",
       "    <tr>\n",
       "      <th>20128</th>\n",
       "      <td>другой</td>\n",
       "      <td>0.058043</td>\n",
       "      <td>0.051341</td>\n",
       "    </tr>\n",
       "    <tr>\n",
       "      <th>3013</th>\n",
       "      <td>банка</td>\n",
       "      <td>0.054688</td>\n",
       "      <td>0.041073</td>\n",
       "    </tr>\n",
       "    <tr>\n",
       "      <th>46594</th>\n",
       "      <td>обращаться</td>\n",
       "      <td>0.053346</td>\n",
       "      <td>0.077638</td>\n",
       "    </tr>\n",
       "    <tr>\n",
       "      <th>27272</th>\n",
       "      <td>интернет</td>\n",
       "      <td>0.053346</td>\n",
       "      <td>0.021288</td>\n",
       "    </tr>\n",
       "    <tr>\n",
       "      <th>39412</th>\n",
       "      <td>мочь</td>\n",
       "      <td>0.052675</td>\n",
       "      <td>0.075634</td>\n",
       "    </tr>\n",
       "    <tr>\n",
       "      <th>37995</th>\n",
       "      <td>минута</td>\n",
       "      <td>0.051668</td>\n",
       "      <td>0.034812</td>\n",
       "    </tr>\n",
       "    <tr>\n",
       "      <th>55330</th>\n",
       "      <td>очередь</td>\n",
       "      <td>0.050662</td>\n",
       "      <td>0.025545</td>\n",
       "    </tr>\n",
       "    <tr>\n",
       "      <th>60548</th>\n",
       "      <td>позвонить</td>\n",
       "      <td>0.050326</td>\n",
       "      <td>0.060107</td>\n",
       "    </tr>\n",
       "    <tr>\n",
       "      <th>54751</th>\n",
       "      <td>оформлять</td>\n",
       "      <td>0.050326</td>\n",
       "      <td>0.049087</td>\n",
       "    </tr>\n",
       "    <tr>\n",
       "      <th>5292</th>\n",
       "      <td>быстро</td>\n",
       "      <td>0.049655</td>\n",
       "      <td>0.011020</td>\n",
       "    </tr>\n",
       "    <tr>\n",
       "      <th>52648</th>\n",
       "      <td>отзыв</td>\n",
       "      <td>0.049320</td>\n",
       "      <td>0.018032</td>\n",
       "    </tr>\n",
       "    <tr>\n",
       "      <th>95448</th>\n",
       "      <td>хороший</td>\n",
       "      <td>0.049320</td>\n",
       "      <td>0.008265</td>\n",
       "    </tr>\n",
       "    <tr>\n",
       "      <th>72451</th>\n",
       "      <td>работать</td>\n",
       "      <td>0.048649</td>\n",
       "      <td>0.053094</td>\n",
       "    </tr>\n",
       "    <tr>\n",
       "      <th>79770</th>\n",
       "      <td>ситуация</td>\n",
       "      <td>0.047978</td>\n",
       "      <td>0.052092</td>\n",
       "    </tr>\n",
       "    <tr>\n",
       "      <th>56246</th>\n",
       "      <td>первый</td>\n",
       "      <td>0.046971</td>\n",
       "      <td>0.030053</td>\n",
       "    </tr>\n",
       "    <tr>\n",
       "      <th>53147</th>\n",
       "      <td>открывать</td>\n",
       "      <td>0.046971</td>\n",
       "      <td>0.029552</td>\n",
       "    </tr>\n",
       "    <tr>\n",
       "      <th>18622</th>\n",
       "      <td>документ</td>\n",
       "      <td>0.046636</td>\n",
       "      <td>0.046332</td>\n",
       "    </tr>\n",
       "    <tr>\n",
       "      <th>62321</th>\n",
       "      <td>пользоваться</td>\n",
       "      <td>0.045965</td>\n",
       "      <td>0.025796</td>\n",
       "    </tr>\n",
       "    <tr>\n",
       "      <th>65787</th>\n",
       "      <td>предлагать</td>\n",
       "      <td>0.045294</td>\n",
       "      <td>0.030805</td>\n",
       "    </tr>\n",
       "  </tbody>\n",
       "</table>\n",
       "</div>"
      ],
      "text/plain": [
       "               word      tf_5      tf_1\n",
       "1567           банк  0.598212  0.495378\n",
       "29065         карта  0.306990  0.338600\n",
       "83538     сотрудник  0.148966  0.168298\n",
       "55042         очень  0.141585  0.034060\n",
       "30685        клиент  0.140914  0.119462\n",
       "16382          день  0.136217  0.174309\n",
       "38514           мой  0.133197  0.149515\n",
       "7597          вклад  0.130177  0.074632\n",
       "52057     отделение  0.125816  0.162538\n",
       "32730       который  0.124809  0.141751\n",
       "13489           год  0.104679  0.089158\n",
       "16915        деньги  0.104679  0.166295\n",
       "10274         время  0.102666  0.076385\n",
       "54274          офис  0.098304  0.075885\n",
       "78172          свой  0.097633  0.080142\n",
       "9544         вопрос  0.097633  0.078639\n",
       "84233       спасибо  0.095955  0.009016\n",
       "72194        работа  0.087568  0.043828\n",
       "33411        кредит  0.085890  0.132234\n",
       "68778      проблема  0.082871  0.055599\n",
       "75424        решать  0.080187  0.047835\n",
       "88282          счет  0.080187  0.118710\n",
       "61779      получать  0.078509  0.100678\n",
       "46931  обслуживание  0.077838  0.038067\n",
       "95559        хотеть  0.075825  0.031055\n",
       "80040       сказать  0.067102  0.109694\n",
       "87700         сумма  0.064418  0.101430\n",
       "88976         такой  0.064082  0.072378\n",
       "33889     кредитный  0.060727  0.062861\n",
       "68094     приходить  0.059385  0.093416\n",
       "15139        данный  0.058379  0.075885\n",
       "20128        другой  0.058043  0.051341\n",
       "3013          банка  0.054688  0.041073\n",
       "46594    обращаться  0.053346  0.077638\n",
       "27272      интернет  0.053346  0.021288\n",
       "39412          мочь  0.052675  0.075634\n",
       "37995        минута  0.051668  0.034812\n",
       "55330       очередь  0.050662  0.025545\n",
       "60548     позвонить  0.050326  0.060107\n",
       "54751     оформлять  0.050326  0.049087\n",
       "5292         быстро  0.049655  0.011020\n",
       "52648         отзыв  0.049320  0.018032\n",
       "95448       хороший  0.049320  0.008265\n",
       "72451      работать  0.048649  0.053094\n",
       "79770      ситуация  0.047978  0.052092\n",
       "56246        первый  0.046971  0.030053\n",
       "53147     открывать  0.046971  0.029552\n",
       "18622      документ  0.046636  0.046332\n",
       "62321  пользоваться  0.045965  0.025796\n",
       "65787    предлагать  0.045294  0.030805"
      ]
     },
     "execution_count": 86,
     "metadata": {},
     "output_type": "execute_result"
    }
   ],
   "source": [
    "tab_grade.sort_values(by='tf_5',ascending=False)[:50]"
   ]
  },
  {
   "cell_type": "code",
   "execution_count": 87,
   "metadata": {},
   "outputs": [],
   "source": [
    "tab_grade['%key']=tab_grade['tf_5']/tab_grade['tf_1']"
   ]
  },
  {
   "cell_type": "code",
   "execution_count": 88,
   "metadata": {},
   "outputs": [],
   "source": [
    "positive_words=tab_grade[tab_grade['tf_1']>0].sort_values(by='%key', ascending=False)[:100]['word'].values.tolist()"
   ]
  },
  {
   "cell_type": "code",
   "execution_count": 89,
   "metadata": {},
   "outputs": [
    {
     "data": {
      "text/plain": [
       "['миля',\n",
       " 'хотеть выражать',\n",
       " 'благодарность',\n",
       " 'приятно удивлять',\n",
       " 'приятно',\n",
       " 'понравиться',\n",
       " 'внимательный',\n",
       " 'выражать',\n",
       " 'огромный спасибо',\n",
       " 'приветливый',\n",
       " 'очень удобный',\n",
       " 'спасибо банка',\n",
       " 'рейтинг',\n",
       " 'удача',\n",
       " 'пожелание',\n",
       " 'проявлять',\n",
       " 'балл',\n",
       " 'порадовать',\n",
       " 'очень приятно',\n",
       " 'улыбка',\n",
       " 'пример',\n",
       " 'много',\n",
       " 'профессиональный',\n",
       " 'хотеть сказать',\n",
       " 'сотрудничать',\n",
       " 'очень довольный',\n",
       " 'привлекательный',\n",
       " 'банк спасибо',\n",
       " 'благодарный',\n",
       " 'охранник']"
      ]
     },
     "execution_count": 89,
     "metadata": {},
     "output_type": "execute_result"
    }
   ],
   "source": [
    "positive_words[:30]"
   ]
  },
  {
   "cell_type": "code",
   "execution_count": 90,
   "metadata": {},
   "outputs": [],
   "source": [
    "tab_grade['%key_neg']=tab_grade['tf_1']/tab_grade['tf_5']"
   ]
  },
  {
   "cell_type": "code",
   "execution_count": 91,
   "metadata": {},
   "outputs": [],
   "source": [
    "negative_words=tab_grade[tab_grade['tf_5']>0].sort_values(by='%key_neg', ascending=False)[:100]['word'].values.tolist()"
   ]
  },
  {
   "cell_type": "code",
   "execution_count": 92,
   "metadata": {},
   "outputs": [
    {
     "data": {
      "text/plain": [
       "['росбанк',\n",
       " 'нарушать',\n",
       " 'контактный',\n",
       " 'просить разбираться',\n",
       " 'договор страхование',\n",
       " 'распечатка',\n",
       " 'названивать',\n",
       " 'сумма который',\n",
       " 'заключать',\n",
       " 'соответствие',\n",
       " 'закон',\n",
       " 'уверять',\n",
       " 'обман',\n",
       " 'почему должный',\n",
       " 'ответ банк',\n",
       " 'зарегистрировать',\n",
       " 'нарушение',\n",
       " 'сертификат',\n",
       " 'принадлежать',\n",
       " 'принимать мера',\n",
       " 'книга',\n",
       " 'некомпетентный',\n",
       " 'вынужденный',\n",
       " 'сказать карта',\n",
       " 'отвратительный',\n",
       " 'возмущение',\n",
       " 'заявление выпуск',\n",
       " 'автосалон',\n",
       " 'карта деньги',\n",
       " 'аннулировать']"
      ]
     },
     "execution_count": 92,
     "metadata": {},
     "output_type": "execute_result"
    }
   ],
   "source": [
    "negative_words[:30]"
   ]
  },
  {
   "cell_type": "markdown",
   "metadata": {},
   "source": [
    "2.1 Постройте несколько тематических моделей коллекции документов с разным числом тем. Приведите примеры понятных (интерпретируемых) тем."
   ]
  },
  {
   "cell_type": "code",
   "execution_count": 93,
   "metadata": {},
   "outputs": [],
   "source": [
    "#Возьмем 500 первых отзывов"
   ]
  },
  {
   "cell_type": "code",
   "execution_count": 94,
   "metadata": {},
   "outputs": [],
   "source": [
    "data_for_latterm=[x['text'] for x in responses[:500]]"
   ]
  },
  {
   "cell_type": "code",
   "execution_count": 95,
   "metadata": {},
   "outputs": [],
   "source": [
    "data_for_latterm=[words_only(x.lower()) for x in data_for_latterm]"
   ]
  },
  {
   "cell_type": "code",
   "execution_count": 96,
   "metadata": {},
   "outputs": [],
   "source": [
    "data_for_latterm=[x.replace(' ',',').split(',') for x in data_for_latterm]"
   ]
  },
  {
   "cell_type": "code",
   "execution_count": 97,
   "metadata": {},
   "outputs": [],
   "source": [
    "latterm_wo_stopw=[]\n",
    "for i in data_for_latterm:\n",
    "    latterm_wo_stopw.append(' '.join([x for x in i if x not in noise]))"
   ]
  },
  {
   "cell_type": "code",
   "execution_count": 98,
   "metadata": {},
   "outputs": [
    {
     "data": {
      "text/plain": [
       "'добрый день являюсь клиентом банка поручителем кредитному договору являюсь каким либо другим лицом письменно оформившим отношения банком поводу урегулирования чьей либо задолженности начиная марта года начали приходить бесконечные письма ооо примо коллект адрес город москва уваровский переулок дом квартира угрозами возбуждении уголовного дела отношении гражданина филиппова эдуарда владимировича который уклоняется уплаты взятых кредитов договор года договор года всей ответственностью хочу заверить вышеуказанный гражданин которого разыскиваете знаком моем адресе зарегистрирован каким образом удостоверившись подлинности документов оформили имя кредитный договор меньшей мере понятно почему вашей милости должна переживать бояться свое имущество письма доставляют серьезные неудобства нарушают мои гражданские права нарушают закон защите персональных данных убедительно прошу прекратить посылать адрес письма угрозами вопросам которым имею отношения случае отклонения моей претензии буду вынуждена обратиться жалобами другие органы росспотребнадзор центральный банк службу финансового омбудсмена кроме подано заявление полицию заявление суд возмещение причиненного морального вреда надеюсь скорое решение моего вопроса'"
      ]
     },
     "execution_count": 98,
     "metadata": {},
     "output_type": "execute_result"
    }
   ],
   "source": [
    "latterm_wo_stopw[0]"
   ]
  },
  {
   "cell_type": "code",
   "execution_count": 99,
   "metadata": {},
   "outputs": [],
   "source": [
    "latterm_lem=[mystem_analyzer.lemmatize(x) for x in latterm_wo_stopw]"
   ]
  },
  {
   "cell_type": "code",
   "execution_count": 100,
   "metadata": {},
   "outputs": [
    {
     "name": "stderr",
     "output_type": "stream",
     "text": [
      "100%|██████████████████████████████████████████████████████████████████████████████| 500/500 [00:00<00:00, 8413.61it/s]\n"
     ]
    }
   ],
   "source": [
    "mystoplemmas = ['который','прошлый','сей', 'свой', 'наш', 'мочь', 'такой', ' ', '\\n']\n",
    "latterm=[]\n",
    "for i in tqdm(latterm_lem):\n",
    "    latterm.append([x for x in i if x not in mystoplemmas])"
   ]
  },
  {
   "cell_type": "code",
   "execution_count": 101,
   "metadata": {},
   "outputs": [
    {
     "name": "stderr",
     "output_type": "stream",
     "text": [
      "100%|█████████████████████████████████████████████████████████████████████████████| 500/500 [00:00<00:00, 25424.96it/s]\n"
     ]
    }
   ],
   "source": [
    "latterm2=[]\n",
    "for i in tqdm(latterm_lem):\n",
    "    latterm2.append([x for x in i if len(x)>2])"
   ]
  },
  {
   "cell_type": "code",
   "execution_count": 103,
   "metadata": {},
   "outputs": [],
   "source": [
    "latterm_lem=latterm2"
   ]
  },
  {
   "cell_type": "code",
   "execution_count": 104,
   "metadata": {},
   "outputs": [
    {
     "name": "stderr",
     "output_type": "stream",
     "text": [
      "C:\\Users\\volko\\Anaconda3\\lib\\site-packages\\gensim\\utils.py:1212: UserWarning: detected Windows; aliasing chunkize to chunkize_serial\n",
      "  warnings.warn(\"detected Windows; aliasing chunkize to chunkize_serial\")\n"
     ]
    }
   ],
   "source": [
    "from gensim.corpora import *"
   ]
  },
  {
   "cell_type": "code",
   "execution_count": 105,
   "metadata": {},
   "outputs": [],
   "source": [
    "dictionary = Dictionary(latterm)"
   ]
  },
  {
   "cell_type": "code",
   "execution_count": 106,
   "metadata": {},
   "outputs": [],
   "source": [
    "from gensim.models import  *"
   ]
  },
  {
   "cell_type": "code",
   "execution_count": 107,
   "metadata": {},
   "outputs": [],
   "source": [
    "corpus = [dictionary.doc2bow(x) for x in latterm]"
   ]
  },
  {
   "cell_type": "code",
   "execution_count": 108,
   "metadata": {},
   "outputs": [],
   "source": [
    "tfidf = TfidfModel(corpus)\n",
    "corpus_tfidf = tfidf[corpus]"
   ]
  },
  {
   "cell_type": "code",
   "execution_count": 109,
   "metadata": {},
   "outputs": [
    {
     "name": "stdout",
     "output_type": "stream",
     "text": [
      "Wall time: 9min 34s\n"
     ]
    }
   ],
   "source": [
    "%%time\n",
    "lsi = lsimodel.LsiModel(corpus_tfidf, id2word=dictionary, num_topics=30)"
   ]
  },
  {
   "cell_type": "code",
   "execution_count": 110,
   "metadata": {},
   "outputs": [
    {
     "data": {
      "text/plain": [
       "[(0,\n",
       "  '0.181*\"вклад\" + 0.180*\"карта\" + 0.151*\"кредит\" + 0.108*\"договор\" + 0.106*\"сумма\" + 0.104*\"счет\" + 0.100*\"деньги\" + 0.099*\"мой\" + 0.097*\"сотрудник\" + 0.097*\"ставка\"'),\n",
       " (1,\n",
       "  '0.508*\"вклад\" + 0.327*\"ставка\" + 0.252*\"пополнение\" + 0.193*\"условие\" + 0.133*\"изменение\" + 0.133*\"договор\" + 0.132*\"односторонний\" + 0.127*\"пополнять\" + 0.115*\"процентный\" + -0.114*\"кредит\"'),\n",
       " (2,\n",
       "  '-0.239*\"звонок\" + 0.214*\"карта\" + -0.213*\"номер\" + -0.191*\"телефон\" + -0.164*\"данные\" + -0.155*\"согласие\" + -0.147*\"персональный\" + -0.147*\"удалять\" + -0.145*\"прекращать\" + -0.144*\"звонить\"'),\n",
       " (3,\n",
       "  '-0.425*\"страховка\" + -0.369*\"страхование\" + -0.307*\"кредит\" + 0.186*\"карта\" + -0.155*\"договор\" + -0.145*\"отказываться\" + -0.110*\"документ\" + 0.104*\"номер\" + -0.101*\"отказ\" + 0.098*\"телефон\"'),\n",
       " (4,\n",
       "  '0.266*\"задолженность\" + 0.189*\"объем\" + 0.181*\"форс\" + 0.181*\"мажор\" + 0.172*\"доводить\" + 0.167*\"предполагаться\" + 0.160*\"средство\" + 0.160*\"ответственный\" + 0.155*\"временный\" + 0.154*\"просрочка\"')]"
      ]
     },
     "execution_count": 110,
     "metadata": {},
     "output_type": "execute_result"
    }
   ],
   "source": [
    "lsi.show_topics(5)"
   ]
  },
  {
   "cell_type": "markdown",
   "metadata": {},
   "source": [
    "тема 1 - изменение условий по вкладу в одностороннем порядке\n",
    "тема 4- возникла задолженность по причине форсмажора"
   ]
  },
  {
   "cell_type": "code",
   "execution_count": 111,
   "metadata": {},
   "outputs": [],
   "source": [
    "lsi = lsimodel.LsiModel(corpus_tfidf, id2word=dictionary, num_topics=10)"
   ]
  },
  {
   "cell_type": "code",
   "execution_count": 112,
   "metadata": {},
   "outputs": [
    {
     "data": {
      "text/plain": [
       "[(0,\n",
       "  '0.181*\"вклад\" + 0.180*\"карта\" + 0.151*\"кредит\" + 0.108*\"договор\" + 0.106*\"сумма\" + 0.104*\"счет\" + 0.100*\"деньги\" + 0.099*\"мой\" + 0.097*\"сотрудник\" + 0.097*\"ставка\"'),\n",
       " (1,\n",
       "  '0.507*\"вклад\" + 0.327*\"ставка\" + 0.253*\"пополнение\" + 0.193*\"условие\" + 0.134*\"изменение\" + 0.132*\"договор\" + 0.132*\"односторонний\" + 0.127*\"пополнять\" + 0.115*\"процентный\" + -0.114*\"кредит\"'),\n",
       " (2,\n",
       "  '-0.239*\"звонок\" + -0.215*\"номер\" + 0.215*\"карта\" + -0.193*\"телефон\" + -0.163*\"данные\" + -0.154*\"согласие\" + -0.148*\"персональный\" + -0.145*\"звонить\" + -0.145*\"удалять\" + -0.144*\"прекращать\"'),\n",
       " (3,\n",
       "  '-0.425*\"страховка\" + -0.370*\"страхование\" + -0.306*\"кредит\" + 0.185*\"карта\" + -0.157*\"договор\" + -0.141*\"отказываться\" + 0.106*\"номер\" + -0.105*\"документ\" + -0.100*\"отказ\" + 0.097*\"телефон\"'),\n",
       " (4,\n",
       "  '-0.269*\"задолженность\" + -0.187*\"объем\" + -0.179*\"форс\" + -0.179*\"мажор\" + -0.171*\"доводить\" + -0.163*\"предполагаться\" + -0.162*\"средство\" + -0.159*\"ответственный\" + -0.155*\"просрочка\" + -0.155*\"погашение\"')]"
      ]
     },
     "execution_count": 112,
     "metadata": {},
     "output_type": "execute_result"
    }
   ],
   "source": [
    "lsi.show_topics(5)"
   ]
  },
  {
   "cell_type": "markdown",
   "metadata": {},
   "source": [
    "тема 2- звонили, предлагади карту, нарушение закона о персональных данных"
   ]
  },
  {
   "cell_type": "code",
   "execution_count": 113,
   "metadata": {},
   "outputs": [
    {
     "name": "stdout",
     "output_type": "stream",
     "text": [
      "Wall time: 10.9 s\n"
     ]
    }
   ],
   "source": [
    "%%time\n",
    "lda = ldamodel.LdaModel(corpus=corpus, id2word=dictionary, num_topics=30,\n",
    "                        alpha='auto', eta='auto', iterations = 20, passes = 5)"
   ]
  },
  {
   "cell_type": "code",
   "execution_count": 114,
   "metadata": {},
   "outputs": [
    {
     "data": {
      "text/plain": [
       "[(9,\n",
       "  '0.007*\"мой\" + 0.006*\"окно\" + 0.006*\"квитанция\" + 0.005*\"сотрудник\" + 0.005*\"оплата\" + 0.004*\"банк\" + 0.004*\"знакомый\" + 0.004*\"номер\" + 0.004*\"требовать\" + 0.004*\"человек\"'),\n",
       " (18,\n",
       "  '0.006*\"оператор\" + 0.006*\"сбербанк\" + 0.006*\"депозит\" + 0.005*\"деньги\" + 0.004*\"банк\" + 0.004*\"средство\" + 0.004*\"карточка\" + 0.004*\"просить\" + 0.004*\"звонить\" + 0.004*\"город\"'),\n",
       " (24,\n",
       "  '0.024*\"карта\" + 0.024*\"банк\" + 0.013*\"мой\" + 0.008*\"сумма\" + 0.008*\"отделение\" + 0.008*\"заявление\" + 0.008*\"деньги\" + 0.008*\"получать\" + 0.007*\"кредит\" + 0.007*\"сбербанк\"'),\n",
       " (2,\n",
       "  '0.043*\"банк\" + 0.011*\"карта\" + 0.011*\"мой\" + 0.008*\"кредит\" + 0.008*\"клиент\" + 0.007*\"счет\" + 0.006*\"год\" + 0.006*\"номер\" + 0.006*\"кредитный\" + 0.005*\"получать\"'),\n",
       " (25,\n",
       "  '0.038*\"банк\" + 0.016*\"кредит\" + 0.009*\"сотрудник\" + 0.009*\"мой\" + 0.007*\"клиент\" + 0.007*\"день\" + 0.007*\"ваш\" + 0.007*\"карта\" + 0.006*\"отделение\" + 0.005*\"телефон\"')]"
      ]
     },
     "execution_count": 114,
     "metadata": {},
     "output_type": "execute_result"
    }
   ],
   "source": [
    "lda.show_topics(5)"
   ]
  },
  {
   "cell_type": "code",
   "execution_count": 115,
   "metadata": {},
   "outputs": [
    {
     "name": "stdout",
     "output_type": "stream",
     "text": [
      "Wall time: 7.08 s\n"
     ]
    }
   ],
   "source": [
    "%%time\n",
    "lda = ldamodel.LdaModel(corpus=corpus , id2word=dictionary, num_topics=10,\n",
    "                        alpha='auto', eta='auto', iterations = 20, passes = 5)"
   ]
  },
  {
   "cell_type": "code",
   "execution_count": 116,
   "metadata": {},
   "outputs": [
    {
     "data": {
      "text/plain": [
       "[(3,\n",
       "  '0.016*\"банк\" + 0.006*\"клиент\" + 0.006*\"карта\" + 0.006*\"год\" + 0.005*\"сбербанк\" + 0.004*\"май\" + 0.004*\"сумма\" + 0.004*\"мой\" + 0.004*\"деньги\" + 0.004*\"процент\"'),\n",
       " (9,\n",
       "  '0.017*\"банк\" + 0.007*\"руб\" + 0.007*\"кредит\" + 0.007*\"карта\" + 0.007*\"клиент\" + 0.007*\"мой\" + 0.006*\"бонус\" + 0.004*\"сумма\" + 0.004*\"сказать\" + 0.004*\"долг\"'),\n",
       " (0,\n",
       "  '0.037*\"банк\" + 0.031*\"вклад\" + 0.010*\"условие\" + 0.010*\"ставка\" + 0.009*\"клиент\" + 0.008*\"пополнение\" + 0.008*\"договор\" + 0.006*\"год\" + 0.006*\"деньги\" + 0.006*\"сумма\"'),\n",
       " (1,\n",
       "  '0.033*\"банк\" + 0.017*\"кредит\" + 0.011*\"сотрудник\" + 0.008*\"мой\" + 0.007*\"отделение\" + 0.007*\"клиент\" + 0.007*\"день\" + 0.006*\"карта\" + 0.006*\"получать\" + 0.005*\"данный\"'),\n",
       " (8,\n",
       "  '0.027*\"банк\" + 0.024*\"карта\" + 0.011*\"деньги\" + 0.008*\"кредит\" + 0.007*\"день\" + 0.007*\"мой\" + 0.006*\"клиент\" + 0.006*\"отделение\" + 0.006*\"год\" + 0.006*\"кредитный\"')]"
      ]
     },
     "execution_count": 116,
     "metadata": {},
     "output_type": "execute_result"
    }
   ],
   "source": [
    "lda.show_topics(5)"
   ]
  },
  {
   "cell_type": "code",
   "execution_count": 117,
   "metadata": {},
   "outputs": [
    {
     "name": "stdout",
     "output_type": "stream",
     "text": [
      "(6, '0.275*\"сбербанк\" + 0.248*\"банкомат\" + 0.187*\"страхование\" + 0.176*\"средство\" + 0.174*\"страховка\" + 0.170*\"денежный\" + 0.151*\"микрорайон\" + -0.139*\"кредит\" + 0.118*\"капланово\" + 0.111*\"город\"')\n",
      "(9, '-0.393*\"сбербанк\" + 0.246*\"банкомат\" + 0.121*\"карта\" + -0.114*\"р\" + -0.109*\"операция\" + 0.107*\"отделение\" + -0.103*\"пароль\" + -0.102*\"кредит\" + 0.097*\"г\" + -0.096*\"отправлять\"')\n"
     ]
    }
   ],
   "source": [
    "for i in range(10):\n",
    "    if 'сбербанк' in lsi.show_topics(20)[i][1]:\n",
    "        print (lsi.show_topics(20)[i])"
   ]
  },
  {
   "cell_type": "markdown",
   "metadata": {},
   "source": [
    "если в отзыве был указан сбербанк- что-то с банкоматом"
   ]
  },
  {
   "cell_type": "markdown",
   "metadata": {},
   "source": [
    "3.1 Составьте обучающее и тестовое множество: выберите из всего набора данных N1 отзывов с оценкой 1 и N2 отзывов с оценкой 5 (значение N1 и N2 – на ваше усмотрение). "
   ]
  },
  {
   "cell_type": "code",
   "execution_count": 118,
   "metadata": {},
   "outputs": [],
   "source": [
    "grade1=[x['text'] for x in responses if x['rating_grade']==1][:100]"
   ]
  },
  {
   "cell_type": "code",
   "execution_count": 119,
   "metadata": {},
   "outputs": [],
   "source": [
    "grade1_1=[1]*100"
   ]
  },
  {
   "cell_type": "code",
   "execution_count": 120,
   "metadata": {},
   "outputs": [],
   "source": [
    "data=pd.concat([pd.DataFrame(grade1),pd.DataFrame(grade1_1)], axis=1)"
   ]
  },
  {
   "cell_type": "code",
   "execution_count": 121,
   "metadata": {},
   "outputs": [],
   "source": [
    "data.columns=['text', 'class']"
   ]
  },
  {
   "cell_type": "code",
   "execution_count": 122,
   "metadata": {},
   "outputs": [],
   "source": [
    "grade5=[x['text'] for x in responses if x['rating_grade']==5][:120]"
   ]
  },
  {
   "cell_type": "code",
   "execution_count": 123,
   "metadata": {},
   "outputs": [],
   "source": [
    "grade5_1=[5]*120"
   ]
  },
  {
   "cell_type": "code",
   "execution_count": 124,
   "metadata": {},
   "outputs": [],
   "source": [
    "data1=pd.concat([pd.DataFrame(grade5),pd.DataFrame(grade5_1)], axis=1)"
   ]
  },
  {
   "cell_type": "code",
   "execution_count": 125,
   "metadata": {},
   "outputs": [],
   "source": [
    "data1.columns=['text', 'class']"
   ]
  },
  {
   "cell_type": "code",
   "execution_count": 126,
   "metadata": {},
   "outputs": [],
   "source": [
    "data=pd.concat([data,data1], ignore_index=True)"
   ]
  },
  {
   "cell_type": "code",
   "execution_count": 127,
   "metadata": {},
   "outputs": [
    {
     "data": {
      "text/html": [
       "<div>\n",
       "<style scoped>\n",
       "    .dataframe tbody tr th:only-of-type {\n",
       "        vertical-align: middle;\n",
       "    }\n",
       "\n",
       "    .dataframe tbody tr th {\n",
       "        vertical-align: top;\n",
       "    }\n",
       "\n",
       "    .dataframe thead th {\n",
       "        text-align: right;\n",
       "    }\n",
       "</style>\n",
       "<table border=\"1\" class=\"dataframe\">\n",
       "  <thead>\n",
       "    <tr style=\"text-align: right;\">\n",
       "      <th></th>\n",
       "      <th>text</th>\n",
       "      <th>class</th>\n",
       "    </tr>\n",
       "  </thead>\n",
       "  <tbody>\n",
       "    <tr>\n",
       "      <th>0</th>\n",
       "      <td>Открыт вклад и счет в USD. Плюс к этому есть з...</td>\n",
       "      <td>1</td>\n",
       "    </tr>\n",
       "    <tr>\n",
       "      <th>1</th>\n",
       "      <td>Доброго времени! Вчера мне поступило смс-уведо...</td>\n",
       "      <td>1</td>\n",
       "    </tr>\n",
       "    <tr>\n",
       "      <th>2</th>\n",
       "      <td>05.06.2015г. около 15 часов, пришел в указанны...</td>\n",
       "      <td>1</td>\n",
       "    </tr>\n",
       "    <tr>\n",
       "      <th>3</th>\n",
       "      <td>Для оплаты коммунальных платежей пользуюсь пла...</td>\n",
       "      <td>1</td>\n",
       "    </tr>\n",
       "    <tr>\n",
       "      <th>4</th>\n",
       "      <td>В апреле этого года пришла в отделение сбербан...</td>\n",
       "      <td>1</td>\n",
       "    </tr>\n",
       "  </tbody>\n",
       "</table>\n",
       "</div>"
      ],
      "text/plain": [
       "                                                text  class\n",
       "0  Открыт вклад и счет в USD. Плюс к этому есть з...      1\n",
       "1  Доброго времени! Вчера мне поступило смс-уведо...      1\n",
       "2  05.06.2015г. около 15 часов, пришел в указанны...      1\n",
       "3  Для оплаты коммунальных платежей пользуюсь пла...      1\n",
       "4  В апреле этого года пришла в отделение сбербан...      1"
      ]
     },
     "execution_count": 127,
     "metadata": {},
     "output_type": "execute_result"
    }
   ],
   "source": [
    "data.head()"
   ]
  },
  {
   "cell_type": "code",
   "execution_count": 128,
   "metadata": {},
   "outputs": [],
   "source": [
    "data['text']=[words_only(x.lower()) for x in data['text']]"
   ]
  },
  {
   "cell_type": "code",
   "execution_count": 129,
   "metadata": {},
   "outputs": [],
   "source": [
    "data['text']=[x.replace(' ',',').split(',') for x in data['text']]"
   ]
  },
  {
   "cell_type": "code",
   "execution_count": 130,
   "metadata": {},
   "outputs": [],
   "source": [
    "latterm_wo_stopw=[]\n",
    "for i in data['text']:\n",
    "    latterm_wo_stopw.append(' '.join([x for x in i if x not in noise]))\n",
    "data['text']=latterm_wo_stopw"
   ]
  },
  {
   "cell_type": "code",
   "execution_count": 131,
   "metadata": {},
   "outputs": [],
   "source": [
    "data['text']=[mystem_analyzer.lemmatize(x) for x in data['text']]"
   ]
  },
  {
   "cell_type": "markdown",
   "metadata": {},
   "source": [
    "PS можно было заменить выше написанные 4 строки кода функциями ввиду частого использования, но не захотелось впоследтсвии менять"
   ]
  },
  {
   "cell_type": "code",
   "execution_count": 132,
   "metadata": {},
   "outputs": [
    {
     "name": "stderr",
     "output_type": "stream",
     "text": [
      "100%|█████████████████████████████████████████████████████████████████████████████| 220/220 [00:00<00:00, 13876.10it/s]\n"
     ]
    }
   ],
   "source": [
    "latterm=[]\n",
    "for i in tqdm(data['text']):\n",
    "    latterm.append([x for x in i if x not in mystoplemmas])"
   ]
  },
  {
   "cell_type": "code",
   "execution_count": 133,
   "metadata": {},
   "outputs": [
    {
     "name": "stderr",
     "output_type": "stream",
     "text": [
      "100%|██████████████████████████████████████████████████████████████████████████████| 220/220 [00:00<00:00, 5490.91it/s]\n"
     ]
    }
   ],
   "source": [
    "latterm2=[]\n",
    "for i in tqdm(latterm):\n",
    "    latterm2.append([x for x in i if len(x)>2])"
   ]
  },
  {
   "cell_type": "code",
   "execution_count": 134,
   "metadata": {},
   "outputs": [],
   "source": [
    "data['text']=latterm2"
   ]
  },
  {
   "cell_type": "markdown",
   "metadata": {},
   "source": [
    "3.2 Используйте любой известный вам алгоритм классификации текстов для решения задачи и получите baseline. Сравните разные варианты векторизации текста: использование только униграм, пар или троек слов или с использованием символьных  n -грам. Используйте sklearn.model_selection.train_test_split для разделения множества отобранных документов на обучающее и тестовое."
   ]
  },
  {
   "cell_type": "code",
   "execution_count": 135,
   "metadata": {},
   "outputs": [],
   "source": [
    "from sklearn.feature_extraction.text import CountVectorizer"
   ]
  },
  {
   "cell_type": "code",
   "execution_count": 136,
   "metadata": {},
   "outputs": [],
   "source": [
    "corpus=[]\n",
    "for i in data['text']:\n",
    "    corpus.append(' '.join(i))"
   ]
  },
  {
   "cell_type": "code",
   "execution_count": 137,
   "metadata": {},
   "outputs": [],
   "source": [
    "vectorizer = CountVectorizer(ngram_range=(1,3))\n",
    "X = vectorizer.fit_transform(corpus)"
   ]
  },
  {
   "cell_type": "code",
   "execution_count": 138,
   "metadata": {},
   "outputs": [],
   "source": [
    "y=data['class']"
   ]
  },
  {
   "cell_type": "code",
   "execution_count": 139,
   "metadata": {},
   "outputs": [],
   "source": [
    "from sklearn.model_selection import train_test_split"
   ]
  },
  {
   "cell_type": "code",
   "execution_count": 140,
   "metadata": {},
   "outputs": [],
   "source": [
    "X_train, X_test, y_train, y_test = train_test_split(X, y, stratify=y,test_size=0.2, random_state=42)"
   ]
  },
  {
   "cell_type": "code",
   "execution_count": 141,
   "metadata": {},
   "outputs": [],
   "source": [
    "from sklearn.ensemble import RandomForestClassifier"
   ]
  },
  {
   "cell_type": "code",
   "execution_count": 142,
   "metadata": {},
   "outputs": [],
   "source": [
    "clf_forest = RandomForestClassifier(n_estimators=100)"
   ]
  },
  {
   "cell_type": "code",
   "execution_count": 143,
   "metadata": {},
   "outputs": [
    {
     "data": {
      "text/plain": [
       "RandomForestClassifier(bootstrap=True, class_weight=None, criterion='gini',\n",
       "            max_depth=None, max_features='auto', max_leaf_nodes=None,\n",
       "            min_impurity_decrease=0.0, min_impurity_split=None,\n",
       "            min_samples_leaf=1, min_samples_split=2,\n",
       "            min_weight_fraction_leaf=0.0, n_estimators=100, n_jobs=None,\n",
       "            oob_score=False, random_state=None, verbose=0,\n",
       "            warm_start=False)"
      ]
     },
     "execution_count": 143,
     "metadata": {},
     "output_type": "execute_result"
    }
   ],
   "source": [
    "clf_forest.fit(X_train, y_train)"
   ]
  },
  {
   "cell_type": "code",
   "execution_count": 144,
   "metadata": {},
   "outputs": [],
   "source": [
    "from sklearn.metrics import *"
   ]
  },
  {
   "cell_type": "code",
   "execution_count": 145,
   "metadata": {},
   "outputs": [],
   "source": [
    "y_pred=clf_forest.predict(X_test)"
   ]
  },
  {
   "cell_type": "code",
   "execution_count": 146,
   "metadata": {},
   "outputs": [
    {
     "name": "stdout",
     "output_type": "stream",
     "text": [
      "F1-measure:   0.44\n",
      "Accuracy:   0.66\n"
     ]
    }
   ],
   "source": [
    "print(\"F1-measure: {0:6.2f}\".format(f1_score(y_test, y_pred)))\n",
    "print(\"Accuracy: {0:6.2f}\".format(accuracy_score(y_test, y_pred)))"
   ]
  },
  {
   "cell_type": "code",
   "execution_count": 147,
   "metadata": {},
   "outputs": [],
   "source": [
    "from sklearn.linear_model import LogisticRegression"
   ]
  },
  {
   "cell_type": "code",
   "execution_count": 148,
   "metadata": {},
   "outputs": [],
   "source": [
    "clf_logreg = LogisticRegression(random_state=0, solver='lbfgs',multi_class='multinomial')"
   ]
  },
  {
   "cell_type": "code",
   "execution_count": 149,
   "metadata": {},
   "outputs": [
    {
     "data": {
      "text/plain": [
       "LogisticRegression(C=1.0, class_weight=None, dual=False, fit_intercept=True,\n",
       "          intercept_scaling=1, max_iter=100, multi_class='multinomial',\n",
       "          n_jobs=None, penalty='l2', random_state=0, solver='lbfgs',\n",
       "          tol=0.0001, verbose=0, warm_start=False)"
      ]
     },
     "execution_count": 149,
     "metadata": {},
     "output_type": "execute_result"
    }
   ],
   "source": [
    "clf_logreg.fit(X_train, y_train)"
   ]
  },
  {
   "cell_type": "code",
   "execution_count": 150,
   "metadata": {},
   "outputs": [],
   "source": [
    "y_pred=clf_logreg.predict(X_test)"
   ]
  },
  {
   "cell_type": "code",
   "execution_count": 151,
   "metadata": {},
   "outputs": [
    {
     "name": "stdout",
     "output_type": "stream",
     "text": [
      "F1-measure:   0.81\n",
      "Accuracy:   0.84\n"
     ]
    }
   ],
   "source": [
    "print(\"F1-measure: {0:6.2f}\".format(f1_score(y_test, y_pred)))\n",
    "print(\"Accuracy: {0:6.2f}\".format(accuracy_score(y_test, y_pred)))"
   ]
  },
  {
   "cell_type": "code",
   "execution_count": null,
   "metadata": {},
   "outputs": [],
   "source": [
    "#Логистическая регрессия как baseline сработала гораздо лучше"
   ]
  },
  {
   "cell_type": "code",
   "execution_count": 152,
   "metadata": {},
   "outputs": [],
   "source": [
    "vectorizer_char = CountVectorizer(analyzer='char',ngram_range=(2,4))\n",
    "X_char = vectorizer_char.fit_transform(corpus)"
   ]
  },
  {
   "cell_type": "code",
   "execution_count": 153,
   "metadata": {},
   "outputs": [],
   "source": [
    "X_train_c, X_test_c, y_train, y_test = train_test_split(X_char, y, stratify=y,test_size=0.2, random_state=42)"
   ]
  },
  {
   "cell_type": "code",
   "execution_count": 154,
   "metadata": {},
   "outputs": [
    {
     "name": "stderr",
     "output_type": "stream",
     "text": [
      "C:\\Users\\volko\\Anaconda3\\lib\\site-packages\\sklearn\\linear_model\\logistic.py:758: ConvergenceWarning: lbfgs failed to converge. Increase the number of iterations.\n",
      "  \"of iterations.\", ConvergenceWarning)\n"
     ]
    },
    {
     "data": {
      "text/plain": [
       "LogisticRegression(C=1.0, class_weight=None, dual=False, fit_intercept=True,\n",
       "          intercept_scaling=1, max_iter=100, multi_class='multinomial',\n",
       "          n_jobs=None, penalty='l2', random_state=0, solver='lbfgs',\n",
       "          tol=0.0001, verbose=0, warm_start=False)"
      ]
     },
     "execution_count": 154,
     "metadata": {},
     "output_type": "execute_result"
    }
   ],
   "source": [
    "clf_logreg.fit(X_train_c, y_train)"
   ]
  },
  {
   "cell_type": "code",
   "execution_count": 155,
   "metadata": {},
   "outputs": [],
   "source": [
    "y_pred=clf_logreg.predict(X_test_c)"
   ]
  },
  {
   "cell_type": "code",
   "execution_count": 156,
   "metadata": {},
   "outputs": [
    {
     "name": "stdout",
     "output_type": "stream",
     "text": [
      "F1-measure:   0.81\n",
      "Accuracy:   0.84\n"
     ]
    }
   ],
   "source": [
    "print(\"F1-measure: {0:6.2f}\".format(f1_score(y_test, y_pred)))\n",
    "print(\"Accuracy: {0:6.2f}\".format(accuracy_score(y_test, y_pred)))"
   ]
  },
  {
   "cell_type": "code",
   "execution_count": 157,
   "metadata": {},
   "outputs": [],
   "source": [
    "#На символьных n-граммах модель сработала так же хорошо"
   ]
  },
  {
   "cell_type": "markdown",
   "metadata": {},
   "source": [
    "3.4 Сравните, как изменяется качество решения задачи при использовании скрытых тем в качестве признаков:\n",
    "1-ый вариант:  tf−idf  преобразование (sklearn.feature_extraction.text.TfidfTransformer) и сингулярное разложение (оно же – латентый семантический анализ) (sklearn.decomposition.TruncatedSVD),"
   ]
  },
  {
   "cell_type": "code",
   "execution_count": 158,
   "metadata": {},
   "outputs": [],
   "source": [
    "from sklearn.feature_extraction.text import TfidfTransformer"
   ]
  },
  {
   "cell_type": "code",
   "execution_count": 159,
   "metadata": {},
   "outputs": [],
   "source": [
    "transformer=TfidfTransformer()"
   ]
  },
  {
   "cell_type": "code",
   "execution_count": 187,
   "metadata": {},
   "outputs": [],
   "source": [
    "X_train_tfidf=transformer.fit_transform(X_train)"
   ]
  },
  {
   "cell_type": "code",
   "execution_count": 188,
   "metadata": {},
   "outputs": [],
   "source": [
    "X_test_tfidf=transformer.transform(X_test)"
   ]
  },
  {
   "cell_type": "code",
   "execution_count": 162,
   "metadata": {},
   "outputs": [],
   "source": [
    "from sklearn.decomposition import TruncatedSVD"
   ]
  },
  {
   "cell_type": "code",
   "execution_count": 189,
   "metadata": {},
   "outputs": [],
   "source": [
    "svd = TruncatedSVD(n_components=30, n_iter=7, random_state=42)\n",
    "X_train_tftr=svd.fit_transform(X_train_tfidf)\n",
    "X_test_tftr=svd.transform(X_test_tfidf)"
   ]
  },
  {
   "cell_type": "code",
   "execution_count": 190,
   "metadata": {},
   "outputs": [
    {
     "data": {
      "text/plain": [
       "LogisticRegression(C=1.0, class_weight=None, dual=False, fit_intercept=True,\n",
       "          intercept_scaling=1, max_iter=100, multi_class='multinomial',\n",
       "          n_jobs=None, penalty='l2', random_state=0, solver='lbfgs',\n",
       "          tol=0.0001, verbose=0, warm_start=False)"
      ]
     },
     "execution_count": 190,
     "metadata": {},
     "output_type": "execute_result"
    }
   ],
   "source": [
    "clf_logreg.fit(X_train_tftr, y_train)"
   ]
  },
  {
   "cell_type": "code",
   "execution_count": 191,
   "metadata": {},
   "outputs": [],
   "source": [
    "y_pred=clf_logreg.predict(X_test_tftr)"
   ]
  },
  {
   "cell_type": "code",
   "execution_count": 192,
   "metadata": {},
   "outputs": [
    {
     "name": "stdout",
     "output_type": "stream",
     "text": [
      "F1-measure:   0.18\n",
      "Accuracy:   0.59\n"
     ]
    }
   ],
   "source": [
    "print(\"F1-measure: {0:6.2f}\".format(f1_score(y_test, y_pred)))\n",
    "print(\"Accuracy: {0:6.2f}\".format(accuracy_score(y_test, y_pred)))"
   ]
  },
  {
   "cell_type": "code",
   "execution_count": null,
   "metadata": {},
   "outputs": [],
   "source": [
    "#качество модели стало хуже"
   ]
  },
  {
   "cell_type": "markdown",
   "metadata": {},
   "source": [
    "3.5 2-ой вариант: тематические модели LDA (sklearn.decomposition.LatentDirichletAllocation)."
   ]
  },
  {
   "cell_type": "code",
   "execution_count": 193,
   "metadata": {},
   "outputs": [],
   "source": [
    "from sklearn.decomposition import LatentDirichletAllocation"
   ]
  },
  {
   "cell_type": "code",
   "execution_count": 194,
   "metadata": {},
   "outputs": [],
   "source": [
    "lda = LatentDirichletAllocation(n_components=30, random_state=0)"
   ]
  },
  {
   "cell_type": "code",
   "execution_count": 198,
   "metadata": {},
   "outputs": [],
   "source": [
    "X_train_lda=lda.fit_transform(X_train)"
   ]
  },
  {
   "cell_type": "code",
   "execution_count": 199,
   "metadata": {},
   "outputs": [],
   "source": [
    "X_test_lda=lda.transform(X_test)"
   ]
  },
  {
   "cell_type": "code",
   "execution_count": 200,
   "metadata": {},
   "outputs": [
    {
     "data": {
      "text/plain": [
       "LogisticRegression(C=1.0, class_weight=None, dual=False, fit_intercept=True,\n",
       "          intercept_scaling=1, max_iter=100, multi_class='multinomial',\n",
       "          n_jobs=None, penalty='l2', random_state=0, solver='lbfgs',\n",
       "          tol=0.0001, verbose=0, warm_start=False)"
      ]
     },
     "execution_count": 200,
     "metadata": {},
     "output_type": "execute_result"
    }
   ],
   "source": [
    "clf_logreg.fit(X_train_lda, y_train)"
   ]
  },
  {
   "cell_type": "code",
   "execution_count": 201,
   "metadata": {},
   "outputs": [],
   "source": [
    "y_pred=clf_logreg.predict(X_test_lda)"
   ]
  },
  {
   "cell_type": "code",
   "execution_count": 202,
   "metadata": {},
   "outputs": [
    {
     "name": "stdout",
     "output_type": "stream",
     "text": [
      "F1-measure:   0.31\n",
      "Accuracy:   0.59\n"
     ]
    }
   ],
   "source": [
    "print(\"F1-measure: {0:6.2f}\".format(f1_score(y_test, y_pred)))\n",
    "print(\"Accuracy: {0:6.2f}\".format(accuracy_score(y_test, y_pred)))"
   ]
  },
  {
   "cell_type": "code",
   "execution_count": 298,
   "metadata": {},
   "outputs": [],
   "source": [
    "#lda сработало тоже плохо"
   ]
  },
  {
   "cell_type": "markdown",
   "metadata": {},
   "source": [
    "Использование word2vec для классификации"
   ]
  },
  {
   "cell_type": "code",
   "execution_count": null,
   "metadata": {},
   "outputs": [],
   "source": [
    "start = time\n",
    "import os\n",
    "\n",
    "\n",
    "model = KeyedVectors.load_word2vec_format('downloads/wiki.ru.vec', binary=False)\n",
    "\n",
    "print('Cell took %.2f seconds to run.' % (time() - start))"
   ]
  },
  {
   "cell_type": "code",
   "execution_count": null,
   "metadata": {},
   "outputs": [],
   "source": [
    "positive_words=' '.join(positive_words)"
   ]
  },
  {
   "cell_type": "code",
   "execution_count": null,
   "metadata": {},
   "outputs": [],
   "source": [
    "negative_words=' '.join(negative_words)"
   ]
  },
  {
   "cell_type": "code",
   "execution_count": null,
   "metadata": {},
   "outputs": [],
   "source": [
    "distance_pos=[]\n",
    "for i in tqdm(data['text']):\n",
    "    distance_pos.append(model.wmdistance(i, positive_words))"
   ]
  },
  {
   "cell_type": "code",
   "execution_count": null,
   "metadata": {},
   "outputs": [],
   "source": [
    "distance_neg=[]\n",
    "for i in tqdm(data['text']):\n",
    "    distance_neg.append(model.wmdistance(i, negative_words))"
   ]
  },
  {
   "cell_type": "code",
   "execution_count": null,
   "metadata": {},
   "outputs": [],
   "source": [
    "data['distance_pos']=distance_pos"
   ]
  },
  {
   "cell_type": "code",
   "execution_count": null,
   "metadata": {},
   "outputs": [],
   "source": [
    "data['distance_neg']=distance_neg"
   ]
  },
  {
   "cell_type": "code",
   "execution_count": null,
   "metadata": {},
   "outputs": [],
   "source": [
    "data['dif']=distance_pos-distance_neg"
   ]
  },
  {
   "cell_type": "code",
   "execution_count": null,
   "metadata": {},
   "outputs": [],
   "source": [
    "data['class_pred']=[1. if x>0 else 5. for x in data['dif']]"
   ]
  },
  {
   "cell_type": "code",
   "execution_count": null,
   "metadata": {},
   "outputs": [],
   "source": [
    "y_wmd=data['class_pred']\n",
    "print(\"F1-measure: {0:6.2f}\".format(f1_score(y, y_wmd)))\n",
    "print(\"Accuracy: {0:6.2f}\".format(accuracy_score(y, y_wmd)))"
   ]
  }
 ],
 "metadata": {
  "kernelspec": {
   "display_name": "Python 3",
   "language": "python",
   "name": "python3"
  },
  "language_info": {
   "codemirror_mode": {
    "name": "ipython",
    "version": 3
   },
   "file_extension": ".py",
   "mimetype": "text/x-python",
   "name": "python",
   "nbconvert_exporter": "python",
   "pygments_lexer": "ipython3",
   "version": "3.7.1"
  }
 },
 "nbformat": 4,
 "nbformat_minor": 2
}
