{
 "cells": [
  {
   "cell_type": "markdown",
   "metadata": {},
   "source": [
    "## Digit Recognizer\n",
    "https://www.kaggle.com/c/digit-recognizer"
   ]
  },
  {
   "cell_type": "code",
   "execution_count": 1,
   "metadata": {},
   "outputs": [],
   "source": [
    "%matplotlib inline\n",
    "import cv2\n",
    "import numpy as np\n",
    "import matplotlib.pyplot as plt"
   ]
  },
  {
   "cell_type": "markdown",
   "metadata": {},
   "source": [
    "## Загружаем исходные данные"
   ]
  },
  {
   "cell_type": "code",
   "execution_count": 2,
   "metadata": {},
   "outputs": [],
   "source": [
    "train = np.loadtxt('./data/digit/train.csv', delimiter=',', skiprows=1)\n",
    "test = np.loadtxt('./data/digit/test.csv', delimiter=',', skiprows=1)"
   ]
  },
  {
   "cell_type": "code",
   "execution_count": 3,
   "metadata": {},
   "outputs": [],
   "source": [
    "# сохраняем разметку в отдельную переменную\n",
    "train_label = train[:, 0]\n",
    "# приводим размерность к удобному для обаботки виду\n",
    "train_img = np.resize(train[:, 1:], (train.shape[0], 28, 28))\n",
    "test_img = np.resize(test, (test.shape[0], 28, 28))"
   ]
  },
  {
   "cell_type": "code",
   "execution_count": 4,
   "metadata": {},
   "outputs": [
    {
     "data": {
      "text/plain": [
       "(28000, 28, 28)"
      ]
     },
     "execution_count": 4,
     "metadata": {},
     "output_type": "execute_result"
    }
   ],
   "source": [
    "test_img.shape"
   ]
  },
  {
   "cell_type": "markdown",
   "metadata": {},
   "source": [
    "## Визуализируем исходные данные"
   ]
  },
  {
   "cell_type": "code",
   "execution_count": 5,
   "metadata": {},
   "outputs": [
    {
     "data": {
      "image/png": "[encoded data removed]",
      "text/plain": [
       "<Figure size 1440x720 with 5 Axes>"
      ]
     },
     "metadata": {
      "needs_background": "light"
     },
     "output_type": "display_data"
    }
   ],
   "source": [
    "fig = plt.figure(figsize=(20, 10))\n",
    "for i, img in enumerate(train_img[0:5], 1):\n",
    "    subplot = fig.add_subplot(1, 7, i)\n",
    "    plt.imshow(img, cmap='gray');\n",
    "    subplot.set_title('%s' % train_label[i - 1]);"
   ]
  },
  {
   "cell_type": "code",
   "execution_count": 6,
   "metadata": {},
   "outputs": [
    {
     "name": "stdout",
     "output_type": "stream",
     "text": [
      "n_comp=32 S=0.751\n"
     ]
    }
   ],
   "source": [
    "train_img=train_img.reshape(-1, 28 * 28).astype(np.float32)\n",
    "train_img_mean = train_img.mean(axis=0)\n",
    "train_img -= train_img_mean\n",
    "cov = np.dot(train_img.T, train_img) / train_img.shape[0]\n",
    "U, S, _ = np.linalg.svd(cov)\n",
    "S_cumsum = np.cumsum(S) / np.sum(S)\n",
    "S_thr = 0.75\n",
    "n_comp = np.argmax(np.where(S_cumsum > S_thr, 1, 0))\n",
    "\n",
    "print('n_comp=%d S=%.3f' % (n_comp, S_cumsum[n_comp]))"
   ]
  },
  {
   "cell_type": "code",
   "execution_count": 7,
   "metadata": {},
   "outputs": [],
   "source": [
    "train_img_reduced = np.dot(train_img, U[:, :n_comp])\n",
    "train_img = np.dot(train_img_reduced, U[:,:n_comp].T)"
   ]
  },
  {
   "cell_type": "code",
   "execution_count": 8,
   "metadata": {},
   "outputs": [
    {
     "name": "stdout",
     "output_type": "stream",
     "text": [
      "n_comp=58 S=0.851\n"
     ]
    }
   ],
   "source": [
    "test_img=test_img.reshape(-1, 28 * 28).astype(np.float32)\n",
    "test_img_mean = test_img.mean(axis=0)\n",
    "test_img -= test_img_mean\n",
    "cov = np.dot(test_img.T, test_img) / test_img.shape[0]\n",
    "U, S, _ = np.linalg.svd(cov)\n",
    "S_cumsum = np.cumsum(S) / np.sum(S)\n",
    "S_thr = 0.85\n",
    "n_comp = np.argmax(np.where(S_cumsum > S_thr, 1, 0))\n",
    "\n",
    "print('n_comp=%d S=%.3f' % (n_comp, S_cumsum[n_comp]))"
   ]
  },
  {
   "cell_type": "code",
   "execution_count": 9,
   "metadata": {},
   "outputs": [],
   "source": [
    "test_img_reduced = np.dot(test_img, U[:, :n_comp])\n",
    "test_img = np.dot(test_img_reduced, U[:,:n_comp].T)"
   ]
  },
  {
   "cell_type": "code",
   "execution_count": 10,
   "metadata": {},
   "outputs": [
    {
     "data": {
      "image/png": "[encoded data removed]",
      "text/plain": [
       "<Figure size 1440x720 with 5 Axes>"
      ]
     },
     "metadata": {
      "needs_background": "light"
     },
     "output_type": "display_data"
    }
   ],
   "source": [
    "fig = plt.figure(figsize=(20, 10))\n",
    "for i, img in enumerate(train_img[0:5], 1):\n",
    "    subplot = fig.add_subplot(1, 7, i)\n",
    "    img_ = img + train_img_mean\n",
    "    plt.title('%s' % train_label[i-1])\n",
    "    plt.imshow(img_.reshape((28,28)) + train_img_mean.reshape((28,28)), cmap='gray');"
   ]
  },
  {
   "cell_type": "markdown",
   "metadata": {},
   "source": [
    "## Разбиваем выборку на обучение и валидацию"
   ]
  },
  {
   "cell_type": "code",
   "execution_count": 11,
   "metadata": {},
   "outputs": [],
   "source": [
    "from sklearn.model_selection import train_test_split\n",
    "y_train, y_val, x_train, x_val = train_test_split(\n",
    "    train_label, train_img, test_size=0.2,\n",
    "    random_state=42)"
   ]
  },
  {
   "cell_type": "code",
   "execution_count": 12,
   "metadata": {},
   "outputs": [],
   "source": [
    "from sklearn.neighbors import KNeighborsClassifier\n",
    "model = KNeighborsClassifier(n_neighbors=10)"
   ]
  },
  {
   "cell_type": "code",
   "execution_count": 13,
   "metadata": {},
   "outputs": [
    {
     "data": {
      "text/plain": [
       "KNeighborsClassifier(algorithm='auto', leaf_size=30, metric='minkowski',\n",
       "           metric_params=None, n_jobs=None, n_neighbors=10, p=2,\n",
       "           weights='uniform')"
      ]
     },
     "execution_count": 13,
     "metadata": {},
     "output_type": "execute_result"
    }
   ],
   "source": [
    "model.fit(x_train, y_train)"
   ]
  },
  {
   "cell_type": "code",
   "execution_count": 14,
   "metadata": {},
   "outputs": [],
   "source": [
    "pred_val=model.predict(x_val)"
   ]
  },
  {
   "cell_type": "markdown",
   "metadata": {},
   "source": [
    "## Оцениваем качество решение на валидационной выборке"
   ]
  },
  {
   "cell_type": "code",
   "execution_count": 15,
   "metadata": {},
   "outputs": [
    {
     "name": "stdout",
     "output_type": "stream",
     "text": [
      "Accuracy: 0.9686904761904762\n"
     ]
    }
   ],
   "source": [
    "from sklearn.metrics import accuracy_score\n",
    "print('Accuracy: %s' % accuracy_score(y_val, pred_val))"
   ]
  },
  {
   "cell_type": "code",
   "execution_count": 16,
   "metadata": {},
   "outputs": [
    {
     "name": "stdout",
     "output_type": "stream",
     "text": [
      "              precision    recall  f1-score   support\n",
      "\n",
      "         0.0       0.99      1.00      0.99       816\n",
      "         1.0       0.96      1.00      0.98       909\n",
      "         2.0       0.98      0.97      0.97       846\n",
      "         3.0       0.97      0.95      0.96       937\n",
      "         4.0       0.99      0.96      0.97       839\n",
      "         5.0       0.96      0.96      0.96       702\n",
      "         6.0       0.97      0.99      0.98       785\n",
      "         7.0       0.96      0.96      0.96       893\n",
      "         8.0       0.97      0.96      0.97       835\n",
      "         9.0       0.93      0.95      0.94       838\n",
      "\n",
      "   micro avg       0.97      0.97      0.97      8400\n",
      "   macro avg       0.97      0.97      0.97      8400\n",
      "weighted avg       0.97      0.97      0.97      8400\n",
      "\n"
     ]
    }
   ],
   "source": [
    "from sklearn.metrics import classification_report\n",
    "print(classification_report(y_val, pred_val))"
   ]
  },
  {
   "cell_type": "code",
   "execution_count": 17,
   "metadata": {},
   "outputs": [
    {
     "name": "stdout",
     "output_type": "stream",
     "text": [
      "[[812   0   1   0   0   1   2   0   0   0]\n",
      " [  0 906   0   0   1   0   2   0   0   0]\n",
      " [  3   7 817   3   1   1   1   6   6   1]\n",
      " [  1   4   4 893   0  11   1   6  11   6]\n",
      " [  1   2   0   0 803   0   6   2   0  25]\n",
      " [  0   2   0   7   0 675   9   1   3   5]\n",
      " [  2   1   0   1   0   3 777   0   1   0]\n",
      " [  0  15   3   0   2   1   0 859   0  13]\n",
      " [  1   3   2   8   1   8   3   2 801   6]\n",
      " [  2   2   3   9   7   4   0  16   1 794]]\n"
     ]
    }
   ],
   "source": [
    "from sklearn.metrics import confusion_matrix\n",
    "print(confusion_matrix(y_val, pred_val))"
   ]
  },
  {
   "cell_type": "markdown",
   "metadata": {},
   "source": [
    "## Предсказания на тестовыйх данных"
   ]
  },
  {
   "cell_type": "code",
   "execution_count": null,
   "metadata": {},
   "outputs": [],
   "source": [
    "pred_test = model.predict(test_img)"
   ]
  },
  {
   "cell_type": "markdown",
   "metadata": {},
   "source": [
    "## Визуализируем предсказания"
   ]
  },
  {
   "cell_type": "code",
   "execution_count": null,
   "metadata": {},
   "outputs": [],
   "source": [
    "fig = plt.figure(figsize=(20, 10))\n",
    "for i, img in enumerate(test_img[0:5], 1):\n",
    "    subplot = fig.add_subplot(1, 7, i)\n",
    "    img_ = img + test_img_mean\n",
    "    plt.title('%s' % pred_test[i-1])\n",
    "    plt.imshow(img_.reshape((28,28)) + test_img_mean.reshape((28,28)), cmap='gray');"
   ]
  },
  {
   "cell_type": "markdown",
   "metadata": {},
   "source": [
    "## Готовим файл для отправки"
   ]
  },
  {
   "cell_type": "code",
   "execution_count": null,
   "metadata": {},
   "outputs": [],
   "source": [
    "test_img.shape"
   ]
  },
  {
   "cell_type": "code",
   "execution_count": null,
   "metadata": {},
   "outputs": [],
   "source": [
    "with open('submit.txt', 'w') as dst:\n",
    "    dst.write('ImageId,Label\\n')\n",
    "    for i, p in enumerate(pred_test, 1):\n",
    "        dst.write('%s,%s\\n' % (i, p))"
   ]
  },
  {
   "cell_type": "code",
   "execution_count": null,
   "metadata": {},
   "outputs": [],
   "source": [
    "!head submit.txt"
   ]
  },
  {
   "cell_type": "code",
   "execution_count": null,
   "metadata": {},
   "outputs": [],
   "source": []
  }
 ],
 "metadata": {
  "kernelspec": {
   "display_name": "Python 3",
   "language": "python",
   "name": "python3"
  },
  "language_info": {
   "codemirror_mode": {
    "name": "ipython",
    "version": 3
   },
   "file_extension": ".py",
   "mimetype": "text/x-python",
   "name": "python",
   "nbconvert_exporter": "python",
   "pygments_lexer": "ipython3",
   "version": "3.7.1"
  }
 },
 "nbformat": 4,
 "nbformat_minor": 2
}
