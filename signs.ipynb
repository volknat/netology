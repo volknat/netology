{
  "nbformat": 4,
  "nbformat_minor": 0,
  "metadata": {
    "kernelspec": {
      "name": "python3",
      "display_name": "Python 3"
    },
    "language_info": {
      "codemirror_mode": {
        "name": "ipython",
        "version": 3
      },
      "file_extension": ".py",
      "mimetype": "text/x-python",
      "name": "python",
      "nbconvert_exporter": "python",
      "pygments_lexer": "ipython3",
      "version": "3.7.4"
    },
    "colab": {
      "name": "signs.ipynb",
      "provenance": [],
      "collapsed_sections": [],
      "toc_visible": true
    },
    "accelerator": "GPU"
  },
  "cells": [
    {
      "cell_type": "code",
      "metadata": {
        "id": "-xWARrfG_SAe",
        "colab_type": "code",
        "colab": {}
      },
      "source": [
        "import pandas as pd\n",
        "import numpy as np\n",
        "import torch\n",
        "from torch.utils.data import Dataset\n",
        "import os\n",
        "import glob\n",
        "import skimage\n",
        "from torchvision import transforms\n",
        "import torchvision\n",
        "from torch import nn\n",
        "import time\n",
        "from torchvision.datasets import DatasetFolder"
      ],
      "execution_count": 0,
      "outputs": []
    },
    {
      "cell_type": "code",
      "metadata": {
        "id": "6fgSOuLa_SAu",
        "colab_type": "code",
        "colab": {}
      },
      "source": [
        "dev = torch.device(\"cuda\") if torch.cuda.is_available() else torch.device(\"cpu\")"
      ],
      "execution_count": 0,
      "outputs": []
    },
    {
      "cell_type": "code",
      "metadata": {
        "id": "OmXgWwzzCbZo",
        "colab_type": "code",
        "outputId": "64e2ebc7-4c6f-4a62-8f8b-7729ebf2f491",
        "colab": {
          "base_uri": "https://localhost:8080/",
          "height": 34
        }
      },
      "source": [
        "from google.colab import drive\n",
        "drive.mount('/content/drive')"
      ],
      "execution_count": 0,
      "outputs": [
        {
          "output_type": "stream",
          "text": [
            "Drive already mounted at /content/drive; to attempt to forcibly remount, call drive.mount(\"/content/drive\", force_remount=True).\n"
          ],
          "name": "stdout"
        }
      ]
    },
    {
      "cell_type": "code",
      "metadata": {
        "id": "q1qiQC4m_SA_",
        "colab_type": "code",
        "colab": {}
      },
      "source": [
        "transformations = transforms.Compose([\n",
        "    transforms.Resize((224,224)),\n",
        "    transforms.Grayscale(),\n",
        "    #transforms.RandomResizedCrop((20,20), scale=(0.1, 1.), ratio=(0.5, 2)),\n",
        "    transforms.CenterCrop(180),\n",
        "    #transforms.ColorJitter(brightness=0.7, contrast=0.7, saturation=0.7, hue=0.5),\n",
        "    transforms.RandomRotation((20)),\n",
        "    transforms.ToTensor(),\n",
        "    #transforms.Normalize(mean=[0.485, 0.456, 0.406], std=[0.229, 0.224, 0.225])\n",
        "])"
      ],
      "execution_count": 0,
      "outputs": []
    },
    {
      "cell_type": "code",
      "metadata": {
        "id": "9dX7Qz8WenFH",
        "colab_type": "code",
        "colab": {}
      },
      "source": [
        "# Взято с https://github.com/pytorch/vision/blob/master/torchvision/datasets/folder.py, добавлены таргеты\n",
        "from PIL import Image\n",
        "def default_loader(path):\n",
        "    from torchvision import get_image_backend\n",
        "    if get_image_backend() == 'accimage':\n",
        "        return accimage_loader(path)\n",
        "    else:\n",
        "        return pil_loader(path)\n",
        "\n",
        "def pil_loader(path):\n",
        "    # open path as file to avoid ResourceWarning (https://github.com/python-pillow/Pillow/issues/835)\n",
        "    with open(path, 'rb') as f:\n",
        "        img = Image.open(f)\n",
        "        return img.convert('RGB')      \n",
        "\n",
        "IMG_EXTENSIONS = ('.jpg', '.jpeg', '.png', '.ppm', '.bmp', '.pgm', '.tif', '.tiff', '.webp')\n",
        "\n",
        "class ImageFolder_with_targ(DatasetFolder):\n",
        "    def __init__(self, root, transform=None, target_transform=None, loader=default_loader, is_valid_file=None):\n",
        "        super(ImageFolder_with_targ, self).__init__(root, loader, IMG_EXTENSIONS if is_valid_file is None else None,\n",
        "                                                   transform=transform,\n",
        "                                                   target_transform=target_transform,\n",
        "                                                   is_valid_file=is_valid_file)\n",
        "        self.imgs = self.samples\n",
        "        self.root = root\n",
        "     \n",
        "    def __getitem__(self, index):\n",
        "        \n",
        "        path, target = self.samples[index]\n",
        "        \n",
        "        sample = self.loader(path)\n",
        "        if self.transform is not None:\n",
        "            sample = self.transform(sample)\n",
        "        if self.target_transform is not None:\n",
        "            target = self.target_transform(target)\n",
        "        self.root_new = self.root + '/tsrd/'\n",
        "        target = int(path.replace(self.root_new, '')[:3])\n",
        "        return sample, target\n",
        "\n",
        "    def __len__(self):\n",
        "        return len(self.samples)"
      ],
      "execution_count": 0,
      "outputs": []
    },
    {
      "cell_type": "code",
      "metadata": {
        "id": "Jmx6I6qa_SBE",
        "colab_type": "code",
        "colab": {}
      },
      "source": [
        "train_data = ImageFolder_with_targ('/content/drive/My Drive/dsign', transform=transformations)"
      ],
      "execution_count": 0,
      "outputs": []
    },
    {
      "cell_type": "code",
      "metadata": {
        "id": "Z4BUG6N3INgx",
        "colab_type": "code",
        "outputId": "b6b60ee6-4ac7-41e7-a760-48b76b7d7dea",
        "colab": {
          "base_uri": "https://localhost:8080/",
          "height": 52
        }
      },
      "source": [
        "train_data[100][1]"
      ],
      "execution_count": 0,
      "outputs": [
        {
          "output_type": "stream",
          "text": [
            "/content/drive/My Drive/dsign/tsrd-train/000_1_0041.png\n"
          ],
          "name": "stdout"
        },
        {
          "output_type": "execute_result",
          "data": {
            "text/plain": [
              "0"
            ]
          },
          "metadata": {
            "tags": []
          },
          "execution_count": 134
        }
      ]
    },
    {
      "cell_type": "code",
      "metadata": {
        "id": "tFfIQjCX6ESA",
        "colab_type": "code",
        "outputId": "a379abf0-0ff3-49a2-ecba-46b5f98b281b",
        "colab": {
          "base_uri": "https://localhost:8080/",
          "height": 258
        }
      },
      "source": [
        "train_data[100][0]"
      ],
      "execution_count": 0,
      "outputs": [
        {
          "output_type": "stream",
          "text": [
            "/content/drive/My Drive/dsign/tsrd-train/000_1_0041.png\n"
          ],
          "name": "stdout"
        },
        {
          "output_type": "execute_result",
          "data": {
            "image/png": "[encoded data removed]",
            "text/plain": [
              "<PIL.Image.Image image mode=RGB size=224x224 at 0x7F64CA888E10>"
            ]
          },
          "metadata": {
            "tags": []
          },
          "execution_count": 135
        }
      ]
    },
    {
      "cell_type": "code",
      "metadata": {
        "id": "tOhavrLG_SBI",
        "colab_type": "code",
        "colab": {}
      },
      "source": [
        "test_data = ImageFolder_with_targ('/content/drive/My Drive/dsign_test', transform=transformations)"
      ],
      "execution_count": 0,
      "outputs": []
    },
    {
      "cell_type": "code",
      "metadata": {
        "id": "-jANidI4_SBL",
        "colab_type": "code",
        "colab": {}
      },
      "source": [
        "dataloader_train = torch.utils.data.DataLoader(train_data, batch_size=32, shuffle=True,  drop_last=True)"
      ],
      "execution_count": 0,
      "outputs": []
    },
    {
      "cell_type": "code",
      "metadata": {
        "id": "I0dZZ3CA_SBP",
        "colab_type": "code",
        "colab": {}
      },
      "source": [
        "dataloader_test = torch.utils.data.DataLoader(test_data, batch_size=32, shuffle=False,  drop_last=True)"
      ],
      "execution_count": 0,
      "outputs": []
    },
    {
      "cell_type": "code",
      "metadata": {
        "id": "_-BF5K1Q_SBT",
        "colab_type": "code",
        "colab": {}
      },
      "source": [
        "model = nn.Sequential(nn.Conv2d(1,16,kernel_size = 3),\n",
        "                      #nn.BatchNorm2d(16),\n",
        "                      nn.LeakyReLU(),\n",
        "                      nn.MaxPool2d(2),   \n",
        "                      nn.Conv2d(16,32,kernel_size = 5),\n",
        "                      nn.BatchNorm2d(32),\n",
        "                      nn.LeakyReLU(),\n",
        "                      nn.MaxPool2d(2),   \n",
        "                      nn.Conv2d(32,64,kernel_size = 7),\n",
        "                      #nn.BatchNorm2d(256),\n",
        "                      nn.LeakyReLU(),\n",
        "                      nn.MaxPool2d(2),   \n",
        "                      nn.Conv2d(64,128,kernel_size = 11),\n",
        "                      nn.BatchNorm2d(128),\n",
        "                      nn.LeakyReLU(),                     \n",
        "                      nn.MaxPool2d(2),\n",
        "                      nn.Flatten(),\n",
        "                      nn.Linear(2048, 512),\n",
        "                      nn.LeakyReLU(),\n",
        "                      nn.Linear(512, 58)\n",
        "                       )"
      ],
      "execution_count": 0,
      "outputs": []
    },
    {
      "cell_type": "code",
      "metadata": {
        "id": "W0IvNWte_SBW",
        "colab_type": "code",
        "colab": {}
      },
      "source": [
        "model = model.to(dev)"
      ],
      "execution_count": 0,
      "outputs": []
    },
    {
      "cell_type": "code",
      "metadata": {
        "id": "yzxmO0eo_SBa",
        "colab_type": "code",
        "outputId": "fa648a22-1fb8-4d17-9c11-b7b421f552fb",
        "colab": {
          "base_uri": "https://localhost:8080/",
          "height": 354
        }
      },
      "source": [
        "X = train_data[0][0].to(dev)\n",
        "X = X.reshape(1, 1, 180, 180)\n",
        "print(X.shape)\n",
        "for l in model:\n",
        "    X = l(X)\n",
        "    print(\"Layer {}. X shape: {}\".format(l, X.shape))"
      ],
      "execution_count": 0,
      "outputs": [
        {
          "output_type": "stream",
          "text": [
            "torch.Size([1, 1, 180, 180])\n",
            "Layer Conv2d(1, 16, kernel_size=(3, 3), stride=(1, 1)). X shape: torch.Size([1, 16, 178, 178])\n",
            "Layer LeakyReLU(negative_slope=0.01). X shape: torch.Size([1, 16, 178, 178])\n",
            "Layer MaxPool2d(kernel_size=2, stride=2, padding=0, dilation=1, ceil_mode=False). X shape: torch.Size([1, 16, 89, 89])\n",
            "Layer Conv2d(16, 32, kernel_size=(5, 5), stride=(1, 1)). X shape: torch.Size([1, 32, 85, 85])\n",
            "Layer BatchNorm2d(32, eps=1e-05, momentum=0.1, affine=True, track_running_stats=True). X shape: torch.Size([1, 32, 85, 85])\n",
            "Layer LeakyReLU(negative_slope=0.01). X shape: torch.Size([1, 32, 85, 85])\n",
            "Layer MaxPool2d(kernel_size=2, stride=2, padding=0, dilation=1, ceil_mode=False). X shape: torch.Size([1, 32, 42, 42])\n",
            "Layer Conv2d(32, 64, kernel_size=(7, 7), stride=(1, 1)). X shape: torch.Size([1, 64, 36, 36])\n",
            "Layer LeakyReLU(negative_slope=0.01). X shape: torch.Size([1, 64, 36, 36])\n",
            "Layer MaxPool2d(kernel_size=2, stride=2, padding=0, dilation=1, ceil_mode=False). X shape: torch.Size([1, 64, 18, 18])\n",
            "Layer Conv2d(64, 128, kernel_size=(11, 11), stride=(1, 1)). X shape: torch.Size([1, 128, 8, 8])\n",
            "Layer BatchNorm2d(128, eps=1e-05, momentum=0.1, affine=True, track_running_stats=True). X shape: torch.Size([1, 128, 8, 8])\n",
            "Layer LeakyReLU(negative_slope=0.01). X shape: torch.Size([1, 128, 8, 8])\n",
            "Layer MaxPool2d(kernel_size=2, stride=2, padding=0, dilation=1, ceil_mode=False). X shape: torch.Size([1, 128, 4, 4])\n",
            "Layer Flatten(). X shape: torch.Size([1, 2048])\n",
            "Layer Linear(in_features=2048, out_features=512, bias=True). X shape: torch.Size([1, 512])\n",
            "Layer LeakyReLU(negative_slope=0.01). X shape: torch.Size([1, 512])\n",
            "Layer Linear(in_features=512, out_features=58, bias=True). X shape: torch.Size([1, 58])\n"
          ],
          "name": "stdout"
        }
      ]
    },
    {
      "cell_type": "code",
      "metadata": {
        "id": "q0Uy_BCx_SBe",
        "colab_type": "code",
        "colab": {}
      },
      "source": [
        "def evaluate_accuracy(dataloader_test, model):\n",
        "    acc_sum, n = torch.Tensor([0]), 0\n",
        "    for X, y in dataloader_test:\n",
        "        acc_sum += (model(X.to(dev)).argmax(axis=1) == y.to(dev)).sum()\n",
        "        n += y.shape[0]\n",
        "    return acc_sum.item() / n"
      ],
      "execution_count": 0,
      "outputs": []
    },
    {
      "cell_type": "code",
      "metadata": {
        "id": "PjR_Q8MV_SBh",
        "colab_type": "code",
        "colab": {}
      },
      "source": [
        "def train(net, train_iter, test_iter, trainer, num_epochs):\n",
        "    loss = nn.CrossEntropyLoss(reduction='mean')\n",
        "    for epoch in range(num_epochs):\n",
        "        train_l_sum, train_acc_sum, n, start = 0.0, 0.0, 0, time.time()\n",
        "        for X, y in train_iter:\n",
        "            trainer.zero_grad()\n",
        "            y_hat = net(X.to(dev))\n",
        "            l = loss(y_hat, y.to(dev))\n",
        "            l.backward()\n",
        "            trainer.step()\n",
        "            train_l_sum += l.item()\n",
        "            train_acc_sum += (y_hat.argmax(axis=1) == y.to(dev)).sum().item()\n",
        "            n += y.shape[0]\n",
        "        test_acc = evaluate_accuracy(test_iter, net)\n",
        "        print('epoch %d, loss %.4f, train acc %.3f, test acc %.3f, '\n",
        "              'time %.1f sec'\n",
        "              % (epoch + 1, train_l_sum / n, train_acc_sum / n, test_acc,\n",
        "                 time.time() - start))"
      ],
      "execution_count": 0,
      "outputs": []
    },
    {
      "cell_type": "code",
      "metadata": {
        "id": "qndLf5nV_SBl",
        "colab_type": "code",
        "outputId": "7998d60e-ba58-4cf1-8462-d7440e295f05",
        "colab": {
          "base_uri": "https://localhost:8080/",
          "height": 194
        }
      },
      "source": [
        "lr, num_epochs = 0.0005, 10\n",
        "trainer = torch.optim.SGD(model.parameters(), lr=lr)\n",
        "train(model, dataloader_train, dataloader_test, trainer, num_epochs)"
      ],
      "execution_count": 0,
      "outputs": [
        {
          "output_type": "stream",
          "text": [
            "epoch 1, loss 0.0088, train acc 0.971, test acc 0.618, time 24.4 sec\n",
            "epoch 2, loss 0.0087, train acc 0.968, test acc 0.616, time 24.4 sec\n",
            "epoch 3, loss 0.0083, train acc 0.971, test acc 0.617, time 24.7 sec\n",
            "epoch 4, loss 0.0081, train acc 0.975, test acc 0.616, time 24.6 sec\n",
            "epoch 5, loss 0.0079, train acc 0.975, test acc 0.618, time 24.7 sec\n",
            "epoch 6, loss 0.0077, train acc 0.974, test acc 0.627, time 24.5 sec\n",
            "epoch 7, loss 0.0075, train acc 0.976, test acc 0.631, time 24.5 sec\n",
            "epoch 8, loss 0.0074, train acc 0.977, test acc 0.632, time 25.1 sec\n",
            "epoch 9, loss 0.0071, train acc 0.979, test acc 0.639, time 24.2 sec\n",
            "epoch 10, loss 0.0071, train acc 0.980, test acc 0.639, time 24.8 sec\n"
          ],
          "name": "stdout"
        }
      ]
    },
    {
      "cell_type": "code",
      "metadata": {
        "id": "0QQjcq2SXwjF",
        "colab_type": "code",
        "colab": {}
      },
      "source": [
        ""
      ],
      "execution_count": 0,
      "outputs": []
    },
    {
      "cell_type": "code",
      "metadata": {
        "id": "2hTfMf6A_SBq",
        "colab_type": "code",
        "colab": {}
      },
      "source": [
        "class model_2 (nn.Module):\n",
        "  def __init__(self, n_clusses):\n",
        "    super(model_2, self).__init__()\n",
        "\n",
        "    self.n_clusses = n_clusses\n",
        "    self.conv1 = nn.Conv2d(1,16,kernel_size = 3)\n",
        "    torch.nn.init.xavier_uniform_(self.conv1.weight)\n",
        "    self.conv11 = nn.Conv2d(1,8,kernel_size = 5)\n",
        "    torch.nn.init.xavier_uniform_(self.conv1.weight)   \n",
        "    self.conv2 = nn.Conv2d(16,32,kernel_size = 5)\n",
        "    torch.nn.init.xavier_uniform_(self.conv2.weight)\n",
        "    self.conv3 = nn.Conv2d(32,64,kernel_size = 7)\n",
        "    torch.nn.init.xavier_uniform_(self.conv3.weight)\n",
        "    self.conv4 = nn.Conv2d(64,128,kernel_size = 7)\n",
        "    torch.nn.init.xavier_uniform_(self.conv4.weight)\n",
        "    self.conv5 = nn.Conv2d(1,8,kernel_size = 1)\n",
        "    torch.nn.init.xavier_uniform_(self.conv5.weight) \n",
        "    self.fc1 = nn.Linear(452496, 512)\n",
        "    self.fc2 = nn.Linear(512, n_clusses)\n",
        "    self.activ = nn.LeakyReLU()\n",
        "    self.flat = nn.Flatten()\n",
        "    self.pool = nn.MaxPool2d(2)\n",
        "    self.bn1 = nn.BatchNorm2d(32)\n",
        "    self.bn2 = nn.BatchNorm2d(128)\n",
        "\n",
        "  def forward(self, x):\n",
        "\n",
        "    x_1 = self.conv1(x)\n",
        "    x_1 = self.activ(x_1)\n",
        "    x_1 = self.pool(x_1)\n",
        "    x_2 = self.conv11(x)\n",
        "    x_2 = self.activ(x_2)\n",
        "    x_2 = self.pool(x_2)\n",
        "    x_3 = self.conv5(x)\n",
        "    x_3 = self.activ(x_3)\n",
        "    x_11 = self.conv2(x_1)\n",
        "    x_11 = self.bn1(x_11)\n",
        "    x_11 = self.activ(x_11)\n",
        "    x_11 = self.pool(x_11)\n",
        "    x_11 = self.conv3(x_11)\n",
        "    x_11 = self.activ(x_11)\n",
        "    x_11 = self.pool(x_11)  \n",
        "    x_11 = self.conv4(x_11)\n",
        "    x_11 = self.bn2(x_11)\n",
        "    x_11 = self.activ(x_11)\n",
        "    x_11 = self.pool(x_11)   \n",
        "    inp = torch.cat((self.flat(x_1), self.flat(x_2), self.flat(x_3), self.flat(x_11)), 1)\n",
        "    out_ln1 = self.fc1(inp)  \n",
        "    out = self.fc2(out_ln1) \n",
        "    return out"
      ],
      "execution_count": 0,
      "outputs": []
    },
    {
      "cell_type": "code",
      "metadata": {
        "id": "QEm4LZULYEz9",
        "colab_type": "code",
        "colab": {}
      },
      "source": [
        "transformations = transforms.Compose([\n",
        "    transforms.Resize((255,255)),\n",
        "    transforms.Grayscale(),\n",
        "    #transforms.RandomResizedCrop((20,20), scale=(0.1, 1.), ratio=(0.5, 2)),\n",
        "    transforms.CenterCrop(224),\n",
        "    #transforms.ColorJitter(brightness=0.7, contrast=0.7, saturation=0.7, hue=0.5),\n",
        "    transforms.RandomRotation((45)),\n",
        "    transforms.ToTensor(),\n",
        "    transforms.Normalize(mean=[0.485, 0.456, 0.406], std=[0.229, 0.224, 0.225])\n",
        "])"
      ],
      "execution_count": 0,
      "outputs": []
    },
    {
      "cell_type": "code",
      "metadata": {
        "id": "N-J46ZUbX6_n",
        "colab_type": "code",
        "colab": {}
      },
      "source": [
        "train_data = ImageFolder_with_targ('/content/drive/My Drive/dsign', transform=transformations)\n",
        "test_data = ImageFolder_with_targ('/content/drive/My Drive/dsign_test', transform=transformations)"
      ],
      "execution_count": 0,
      "outputs": []
    },
    {
      "cell_type": "code",
      "metadata": {
        "id": "fbjNu4mqwJW2",
        "colab_type": "code",
        "colab": {}
      },
      "source": [
        "model_2 = model_2(58)\n",
        "model_2 = model_2.to(dev)"
      ],
      "execution_count": 0,
      "outputs": []
    },
    {
      "cell_type": "code",
      "metadata": {
        "id": "D4zdl7VXuRMM",
        "colab_type": "code",
        "outputId": "24729ee3-1fbd-45c4-f19d-cf70b5e5fb32",
        "colab": {
          "base_uri": "https://localhost:8080/",
          "height": 141
        }
      },
      "source": [
        "lr, num_epochs = 0.001, 7\n",
        "trainer = torch.optim.SGD(model_2.parameters(), lr=lr)\n",
        "train(model_2, dataloader_train, dataloader_test, trainer, num_epochs)"
      ],
      "execution_count": 0,
      "outputs": [
        {
          "output_type": "stream",
          "text": [
            "epoch 1, loss 0.0014, train acc 0.997, test acc 0.651, time 33.0 sec\n",
            "epoch 2, loss 0.0014, train acc 0.997, test acc 0.650, time 32.9 sec\n",
            "epoch 3, loss 0.0013, train acc 0.998, test acc 0.649, time 33.3 sec\n",
            "epoch 4, loss 0.0013, train acc 0.997, test acc 0.649, time 32.4 sec\n",
            "epoch 5, loss 0.0012, train acc 0.999, test acc 0.651, time 34.4 sec\n",
            "epoch 6, loss 0.0013, train acc 0.997, test acc 0.658, time 33.1 sec\n",
            "epoch 7, loss 0.0013, train acc 0.998, test acc 0.646, time 32.9 sec\n"
          ],
          "name": "stdout"
        }
      ]
    },
    {
      "cell_type": "code",
      "metadata": {
        "id": "EQzwWQgRYslj",
        "colab_type": "code",
        "colab": {}
      },
      "source": [
        "transformations = transforms.Compose([\n",
        "    transforms.Resize((255,255)),\n",
        "    #transforms.Grayscale(),\n",
        "    #transforms.RandomResizedCrop((20,20), scale=(0.1, 1.), ratio=(0.5, 2)),\n",
        "    transforms.CenterCrop(224),\n",
        "    #transforms.ColorJitter(brightness=0.7, contrast=0.7, saturation=0.7, hue=0.5),\n",
        "    transforms.RandomRotation((30)),\n",
        "    transforms.ToTensor(),\n",
        "    transforms.Normalize(mean=[0.485, 0.456, 0.406], std=[0.229, 0.224, 0.225])\n",
        "])"
      ],
      "execution_count": 0,
      "outputs": []
    },
    {
      "cell_type": "code",
      "metadata": {
        "id": "IIoDcn4bYt4l",
        "colab_type": "code",
        "colab": {}
      },
      "source": [
        "train_data = ImageFolder_with_targ('/content/drive/My Drive/dsign', transform=transformations)\n",
        "test_data = ImageFolder_with_targ('/content/drive/My Drive/dsign_test', transform=transformations)"
      ],
      "execution_count": 0,
      "outputs": []
    },
    {
      "cell_type": "code",
      "metadata": {
        "id": "-gDOfInqg7pP",
        "colab_type": "code",
        "colab": {}
      },
      "source": [
        "dataloader_train = torch.utils.data.DataLoader(train_data, batch_size=256, shuffle=True,  drop_last=True)\n",
        "dataloader_test = torch.utils.data.DataLoader(test_data, batch_size=256, shuffle=False,  drop_last=True)"
      ],
      "execution_count": 0,
      "outputs": []
    },
    {
      "cell_type": "code",
      "metadata": {
        "id": "NqSOJ2Fz8bKw",
        "colab_type": "code",
        "colab": {}
      },
      "source": [
        "from torchvision import  models\n",
        "model_ft = models.resnet18(pretrained=True)\n",
        "num_ftrs = model_ft.fc.in_features\n",
        "#model_ft.conv1.in_channels=1\n",
        "model_ft.fc = nn.Linear(num_ftrs, 58)\n",
        "\n",
        "model_ft = model_ft.to(dev)"
      ],
      "execution_count": 0,
      "outputs": []
    },
    {
      "cell_type": "code",
      "metadata": {
        "id": "fG-1IaN2vKaI",
        "colab_type": "code",
        "outputId": "c5ed53e0-8137-4105-c3f6-aee08395035b",
        "colab": {
          "base_uri": "https://localhost:8080/",
          "height": 1000
        }
      },
      "source": [
        "model_ft"
      ],
      "execution_count": 0,
      "outputs": [
        {
          "output_type": "execute_result",
          "data": {
            "text/plain": [
              "ResNet(\n",
              "  (conv1): Conv2d(3, 64, kernel_size=(7, 7), stride=(2, 2), padding=(3, 3), bias=False)\n",
              "  (bn1): BatchNorm2d(64, eps=1e-05, momentum=0.1, affine=True, track_running_stats=True)\n",
              "  (relu): ReLU(inplace=True)\n",
              "  (maxpool): MaxPool2d(kernel_size=3, stride=2, padding=1, dilation=1, ceil_mode=False)\n",
              "  (layer1): Sequential(\n",
              "    (0): BasicBlock(\n",
              "      (conv1): Conv2d(64, 64, kernel_size=(3, 3), stride=(1, 1), padding=(1, 1), bias=False)\n",
              "      (bn1): BatchNorm2d(64, eps=1e-05, momentum=0.1, affine=True, track_running_stats=True)\n",
              "      (relu): ReLU(inplace=True)\n",
              "      (conv2): Conv2d(64, 64, kernel_size=(3, 3), stride=(1, 1), padding=(1, 1), bias=False)\n",
              "      (bn2): BatchNorm2d(64, eps=1e-05, momentum=0.1, affine=True, track_running_stats=True)\n",
              "    )\n",
              "    (1): BasicBlock(\n",
              "      (conv1): Conv2d(64, 64, kernel_size=(3, 3), stride=(1, 1), padding=(1, 1), bias=False)\n",
              "      (bn1): BatchNorm2d(64, eps=1e-05, momentum=0.1, affine=True, track_running_stats=True)\n",
              "      (relu): ReLU(inplace=True)\n",
              "      (conv2): Conv2d(64, 64, kernel_size=(3, 3), stride=(1, 1), padding=(1, 1), bias=False)\n",
              "      (bn2): BatchNorm2d(64, eps=1e-05, momentum=0.1, affine=True, track_running_stats=True)\n",
              "    )\n",
              "  )\n",
              "  (layer2): Sequential(\n",
              "    (0): BasicBlock(\n",
              "      (conv1): Conv2d(64, 128, kernel_size=(3, 3), stride=(2, 2), padding=(1, 1), bias=False)\n",
              "      (bn1): BatchNorm2d(128, eps=1e-05, momentum=0.1, affine=True, track_running_stats=True)\n",
              "      (relu): ReLU(inplace=True)\n",
              "      (conv2): Conv2d(128, 128, kernel_size=(3, 3), stride=(1, 1), padding=(1, 1), bias=False)\n",
              "      (bn2): BatchNorm2d(128, eps=1e-05, momentum=0.1, affine=True, track_running_stats=True)\n",
              "      (downsample): Sequential(\n",
              "        (0): Conv2d(64, 128, kernel_size=(1, 1), stride=(2, 2), bias=False)\n",
              "        (1): BatchNorm2d(128, eps=1e-05, momentum=0.1, affine=True, track_running_stats=True)\n",
              "      )\n",
              "    )\n",
              "    (1): BasicBlock(\n",
              "      (conv1): Conv2d(128, 128, kernel_size=(3, 3), stride=(1, 1), padding=(1, 1), bias=False)\n",
              "      (bn1): BatchNorm2d(128, eps=1e-05, momentum=0.1, affine=True, track_running_stats=True)\n",
              "      (relu): ReLU(inplace=True)\n",
              "      (conv2): Conv2d(128, 128, kernel_size=(3, 3), stride=(1, 1), padding=(1, 1), bias=False)\n",
              "      (bn2): BatchNorm2d(128, eps=1e-05, momentum=0.1, affine=True, track_running_stats=True)\n",
              "    )\n",
              "  )\n",
              "  (layer3): Sequential(\n",
              "    (0): BasicBlock(\n",
              "      (conv1): Conv2d(128, 256, kernel_size=(3, 3), stride=(2, 2), padding=(1, 1), bias=False)\n",
              "      (bn1): BatchNorm2d(256, eps=1e-05, momentum=0.1, affine=True, track_running_stats=True)\n",
              "      (relu): ReLU(inplace=True)\n",
              "      (conv2): Conv2d(256, 256, kernel_size=(3, 3), stride=(1, 1), padding=(1, 1), bias=False)\n",
              "      (bn2): BatchNorm2d(256, eps=1e-05, momentum=0.1, affine=True, track_running_stats=True)\n",
              "      (downsample): Sequential(\n",
              "        (0): Conv2d(128, 256, kernel_size=(1, 1), stride=(2, 2), bias=False)\n",
              "        (1): BatchNorm2d(256, eps=1e-05, momentum=0.1, affine=True, track_running_stats=True)\n",
              "      )\n",
              "    )\n",
              "    (1): BasicBlock(\n",
              "      (conv1): Conv2d(256, 256, kernel_size=(3, 3), stride=(1, 1), padding=(1, 1), bias=False)\n",
              "      (bn1): BatchNorm2d(256, eps=1e-05, momentum=0.1, affine=True, track_running_stats=True)\n",
              "      (relu): ReLU(inplace=True)\n",
              "      (conv2): Conv2d(256, 256, kernel_size=(3, 3), stride=(1, 1), padding=(1, 1), bias=False)\n",
              "      (bn2): BatchNorm2d(256, eps=1e-05, momentum=0.1, affine=True, track_running_stats=True)\n",
              "    )\n",
              "  )\n",
              "  (layer4): Sequential(\n",
              "    (0): BasicBlock(\n",
              "      (conv1): Conv2d(256, 512, kernel_size=(3, 3), stride=(2, 2), padding=(1, 1), bias=False)\n",
              "      (bn1): BatchNorm2d(512, eps=1e-05, momentum=0.1, affine=True, track_running_stats=True)\n",
              "      (relu): ReLU(inplace=True)\n",
              "      (conv2): Conv2d(512, 512, kernel_size=(3, 3), stride=(1, 1), padding=(1, 1), bias=False)\n",
              "      (bn2): BatchNorm2d(512, eps=1e-05, momentum=0.1, affine=True, track_running_stats=True)\n",
              "      (downsample): Sequential(\n",
              "        (0): Conv2d(256, 512, kernel_size=(1, 1), stride=(2, 2), bias=False)\n",
              "        (1): BatchNorm2d(512, eps=1e-05, momentum=0.1, affine=True, track_running_stats=True)\n",
              "      )\n",
              "    )\n",
              "    (1): BasicBlock(\n",
              "      (conv1): Conv2d(512, 512, kernel_size=(3, 3), stride=(1, 1), padding=(1, 1), bias=False)\n",
              "      (bn1): BatchNorm2d(512, eps=1e-05, momentum=0.1, affine=True, track_running_stats=True)\n",
              "      (relu): ReLU(inplace=True)\n",
              "      (conv2): Conv2d(512, 512, kernel_size=(3, 3), stride=(1, 1), padding=(1, 1), bias=False)\n",
              "      (bn2): BatchNorm2d(512, eps=1e-05, momentum=0.1, affine=True, track_running_stats=True)\n",
              "    )\n",
              "  )\n",
              "  (avgpool): AdaptiveAvgPool2d(output_size=(1, 1))\n",
              "  (fc): Linear(in_features=512, out_features=58, bias=True)\n",
              ")"
            ]
          },
          "metadata": {
            "tags": []
          },
          "execution_count": 70
        }
      ]
    },
    {
      "cell_type": "code",
      "metadata": {
        "id": "ZJoachq22lq-",
        "colab_type": "code",
        "colab": {}
      },
      "source": [
        ""
      ],
      "execution_count": 0,
      "outputs": []
    },
    {
      "cell_type": "code",
      "metadata": {
        "id": "nEA-xuJV9rmo",
        "colab_type": "code",
        "outputId": "1c2c5ca4-bfa1-4cc2-8a78-5e97c62013b9",
        "colab": {
          "base_uri": "https://localhost:8080/",
          "height": 87
        }
      },
      "source": [
        "lr, num_epochs = 0.01, 30\n",
        "model_ft.requires_grad_=False\n",
        "model_ft.layer4.requires_grad_=True\n",
        "model_ft.layer3.requires_grad_=True\n",
        "trainer = torch.optim.SGD(model_ft.parameters(), lr=lr)\n",
        "train(model_ft, dataloader_train, dataloader_test, trainer, num_epochs)"
      ],
      "execution_count": 0,
      "outputs": [
        {
          "output_type": "stream",
          "text": [
            "epoch 1, loss 0.0095, train acc 0.470, test acc 0.151, time 35.4 sec\n",
            "epoch 2, loss 0.0073, train acc 0.628, test acc 0.201, time 35.1 sec\n",
            "epoch 3, loss 0.0059, train acc 0.702, test acc 0.247, time 35.2 sec\n",
            "epoch 4, loss 0.0049, train acc 0.746, test acc 0.275, time 35.2 sec\n"
          ],
          "name": "stdout"
        }
      ]
    },
    {
      "cell_type": "code",
      "metadata": {
        "id": "s-H2WXgvy-BV",
        "colab_type": "code",
        "colab": {}
      },
      "source": [
        ""
      ],
      "execution_count": 0,
      "outputs": []
    },
    {
      "cell_type": "code",
      "metadata": {
        "id": "JRQhfIZTre19",
        "colab_type": "code",
        "colab": {}
      },
      "source": [
        ""
      ],
      "execution_count": 0,
      "outputs": []
    },
    {
      "cell_type": "code",
      "metadata": {
        "id": "4aoj3wDpF1vB",
        "colab_type": "code",
        "colab": {}
      },
      "source": [
        ""
      ],
      "execution_count": 0,
      "outputs": []
    },
    {
      "cell_type": "code",
      "metadata": {
        "id": "xGhsA9flEYas",
        "colab_type": "code",
        "colab": {}
      },
      "source": [
        "model_ft.layer4.requires_grad_=False"
      ],
      "execution_count": 0,
      "outputs": []
    }
  ]
}