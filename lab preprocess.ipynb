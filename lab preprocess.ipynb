{
 "cells": [
  {
   "cell_type": "code",
   "execution_count": 1,
   "metadata": {},
   "outputs": [
    {
     "name": "stdout",
     "output_type": "stream",
     "text": [
      "<class 'pandas.core.frame.DataFrame'>\n",
      "RangeIndex: 1460 entries, 0 to 1459\n",
      "Data columns (total 81 columns):\n",
      "Id               1460 non-null int64\n",
      "MSSubClass       1460 non-null int64\n",
      "MSZoning         1460 non-null object\n",
      "LotFrontage      1201 non-null float64\n",
      "LotArea          1460 non-null int64\n",
      "Street           1460 non-null object\n",
      "Alley            91 non-null object\n",
      "LotShape         1460 non-null object\n",
      "LandContour      1460 non-null object\n",
      "Utilities        1460 non-null object\n",
      "LotConfig        1460 non-null object\n",
      "LandSlope        1460 non-null object\n",
      "Neighborhood     1460 non-null object\n",
      "Condition1       1460 non-null object\n",
      "Condition2       1460 non-null object\n",
      "BldgType         1460 non-null object\n",
      "HouseStyle       1460 non-null object\n",
      "OverallQual      1460 non-null int64\n",
      "OverallCond      1460 non-null int64\n",
      "YearBuilt        1460 non-null int64\n",
      "YearRemodAdd     1460 non-null int64\n",
      "RoofStyle        1460 non-null object\n",
      "RoofMatl         1460 non-null object\n",
      "Exterior1st      1460 non-null object\n",
      "Exterior2nd      1460 non-null object\n",
      "MasVnrType       1452 non-null object\n",
      "MasVnrArea       1452 non-null float64\n",
      "ExterQual        1460 non-null object\n",
      "ExterCond        1460 non-null object\n",
      "Foundation       1460 non-null object\n",
      "BsmtQual         1423 non-null object\n",
      "BsmtCond         1423 non-null object\n",
      "BsmtExposure     1422 non-null object\n",
      "BsmtFinType1     1423 non-null object\n",
      "BsmtFinSF1       1460 non-null int64\n",
      "BsmtFinType2     1422 non-null object\n",
      "BsmtFinSF2       1460 non-null int64\n",
      "BsmtUnfSF        1460 non-null int64\n",
      "TotalBsmtSF      1460 non-null int64\n",
      "Heating          1460 non-null object\n",
      "HeatingQC        1460 non-null object\n",
      "CentralAir       1460 non-null object\n",
      "Electrical       1459 non-null object\n",
      "1stFlrSF         1460 non-null int64\n",
      "2ndFlrSF         1460 non-null int64\n",
      "LowQualFinSF     1460 non-null int64\n",
      "GrLivArea        1460 non-null int64\n",
      "BsmtFullBath     1460 non-null int64\n",
      "BsmtHalfBath     1460 non-null int64\n",
      "FullBath         1460 non-null int64\n",
      "HalfBath         1460 non-null int64\n",
      "BedroomAbvGr     1460 non-null int64\n",
      "KitchenAbvGr     1460 non-null int64\n",
      "KitchenQual      1460 non-null object\n",
      "TotRmsAbvGrd     1460 non-null int64\n",
      "Functional       1460 non-null object\n",
      "Fireplaces       1460 non-null int64\n",
      "FireplaceQu      770 non-null object\n",
      "GarageType       1379 non-null object\n",
      "GarageYrBlt      1379 non-null float64\n",
      "GarageFinish     1379 non-null object\n",
      "GarageCars       1460 non-null int64\n",
      "GarageArea       1460 non-null int64\n",
      "GarageQual       1379 non-null object\n",
      "GarageCond       1379 non-null object\n",
      "PavedDrive       1460 non-null object\n",
      "WoodDeckSF       1460 non-null int64\n",
      "OpenPorchSF      1460 non-null int64\n",
      "EnclosedPorch    1460 non-null int64\n",
      "3SsnPorch        1460 non-null int64\n",
      "ScreenPorch      1460 non-null int64\n",
      "PoolArea         1460 non-null int64\n",
      "PoolQC           7 non-null object\n",
      "Fence            281 non-null object\n",
      "MiscFeature      54 non-null object\n",
      "MiscVal          1460 non-null int64\n",
      "MoSold           1460 non-null int64\n",
      "YrSold           1460 non-null int64\n",
      "SaleType         1460 non-null object\n",
      "SaleCondition    1460 non-null object\n",
      "SaleCategory     1460 non-null int64\n",
      "dtypes: float64(3), int64(35), object(43)\n",
      "memory usage: 924.0+ KB\n"
     ]
    }
   ],
   "source": [
    "import pandas as pd\n",
    "db=pd.read_csv('data.csv', sep=';')\n",
    "db.info()"
   ]
  },
  {
   "cell_type": "code",
   "execution_count": 2,
   "metadata": {},
   "outputs": [
    {
     "data": {
      "text/plain": [
       "(1460, 81)"
      ]
     },
     "execution_count": 2,
     "metadata": {},
     "output_type": "execute_result"
    }
   ],
   "source": [
    "db.head(5)\n",
    "db.shape"
   ]
  },
  {
   "cell_type": "code",
   "execution_count": 3,
   "metadata": {},
   "outputs": [
    {
     "data": {
      "text/plain": [
       "NaN     1369\n",
       "Grvl      50\n",
       "Pave      41\n",
       "Name: Alley, dtype: int64"
      ]
     },
     "execution_count": 3,
     "metadata": {},
     "output_type": "execute_result"
    }
   ],
   "source": [
    "db['Alley'].value_counts(dropna=False)"
   ]
  },
  {
   "cell_type": "code",
   "execution_count": 4,
   "metadata": {},
   "outputs": [
    {
     "data": {
      "text/plain": [
       "NaN    1453\n",
       "Gd        3\n",
       "Fa        2\n",
       "Ex        2\n",
       "Name: PoolQC, dtype: int64"
      ]
     },
     "execution_count": 4,
     "metadata": {},
     "output_type": "execute_result"
    }
   ],
   "source": [
    "db['PoolQC'].value_counts(dropna=False)"
   ]
  },
  {
   "cell_type": "code",
   "execution_count": 5,
   "metadata": {},
   "outputs": [
    {
     "data": {
      "text/plain": [
       "NaN      0.807534\n",
       "MnPrv    0.107534\n",
       "GdPrv    0.040411\n",
       "GdWo     0.036986\n",
       "MnWw     0.007534\n",
       "Name: Fence, dtype: float64"
      ]
     },
     "execution_count": 5,
     "metadata": {},
     "output_type": "execute_result"
    }
   ],
   "source": [
    "db['Fence'].value_counts(dropna=False, normalize=True)"
   ]
  },
  {
   "cell_type": "code",
   "execution_count": 6,
   "metadata": {},
   "outputs": [
    {
     "data": {
      "text/plain": [
       "NaN     1406\n",
       "Shed      49\n",
       "Othr       2\n",
       "Gar2       2\n",
       "TenC       1\n",
       "Name: MiscFeature, dtype: int64"
      ]
     },
     "execution_count": 6,
     "metadata": {},
     "output_type": "execute_result"
    }
   ],
   "source": [
    "db['MiscFeature'].value_counts(dropna=False)"
   ]
  },
  {
   "cell_type": "markdown",
   "metadata": {},
   "source": [
    "выше указанные столбцы с пропущенными значениями можно удалить, тк процент пропущенных значений в них больше 80"
   ]
  },
  {
   "cell_type": "code",
   "execution_count": 7,
   "metadata": {},
   "outputs": [],
   "source": [
    "db=db.drop(['Alley','PoolQC','Fence','MiscFeature'],axis=1)"
   ]
  },
  {
   "cell_type": "code",
   "execution_count": 8,
   "metadata": {},
   "outputs": [
    {
     "data": {
      "text/plain": [
       "2    824\n",
       "1    369\n",
       "3    181\n",
       "0     81\n",
       "4      5\n",
       "Name: GarageCars, dtype: int64"
      ]
     },
     "execution_count": 8,
     "metadata": {},
     "output_type": "execute_result"
    }
   ],
   "source": [
    "db['GarageCars'].value_counts(dropna=False)"
   ]
  },
  {
   "cell_type": "code",
   "execution_count": 9,
   "metadata": {},
   "outputs": [
    {
     "name": "stdout",
     "output_type": "stream",
     "text": [
      "[0, 0, 0, 'LotFrontage', 0, 0, 0, 0, 0, 0, 0, 0, 0, 0, 0, 0, 0, 0, 0, 0, 0, 0, 0, 0, 'MasVnrType', 'MasVnrArea', 0, 0, 0, 'BsmtQual', 'BsmtCond', 'BsmtExposure', 'BsmtFinType1', 0, 'BsmtFinType2', 0, 0, 0, 0, 0, 0, 'Electrical', 0, 0, 0, 0, 0, 0, 0, 0, 0, 0, 0, 0, 0, 0, 'FireplaceQu', 'GarageType', 'GarageYrBlt', 'GarageFinish', 0, 0, 'GarageQual', 'GarageCond', 0, 0, 0, 0, 0, 0, 0, 0, 0, 0, 0, 0, 0]\n"
     ]
    }
   ],
   "source": [
    "import numpy as np\n",
    "res=[]\n",
    "for i in db.columns:\n",
    "    res1=[]\n",
    "    for j in db[i].value_counts(dropna=False).keys():\n",
    "        if isinstance(j, str)==True:\n",
    "            res1.append(0)\n",
    "        else:\n",
    "            if np.isnan(j)==True:\n",
    "                res1.append(1)\n",
    "            else:\n",
    "                res1.append(0)\n",
    "    if sum(res1)>0:\n",
    "        res.append(i)\n",
    "    else:\n",
    "        res.append(0)\n",
    "print (res)"
   ]
  },
  {
   "cell_type": "code",
   "execution_count": 10,
   "metadata": {},
   "outputs": [
    {
     "data": {
      "text/plain": [
       "['LotFrontage',\n",
       " 'MasVnrType',\n",
       " 'MasVnrArea',\n",
       " 'BsmtQual',\n",
       " 'BsmtCond',\n",
       " 'BsmtExposure',\n",
       " 'BsmtFinType1',\n",
       " 'BsmtFinType2',\n",
       " 'Electrical',\n",
       " 'FireplaceQu',\n",
       " 'GarageType',\n",
       " 'GarageYrBlt',\n",
       " 'GarageFinish',\n",
       " 'GarageQual',\n",
       " 'GarageCond']"
      ]
     },
     "execution_count": 10,
     "metadata": {},
     "output_type": "execute_result"
    }
   ],
   "source": [
    "res=[x for x in res if x!=0]\n",
    "res"
   ]
  },
  {
   "cell_type": "markdown",
   "metadata": {},
   "source": [
    "в переменных с названиями с 'Garage' всего 81 строка с пропущенными значениями, можно удалить. Но в переменных с Garage, где есть данные, стоят нули. Или гаража нет, или нет данных про гараж. 100 процентно не ясно. Поэтому удалим, но при большем количесве времени и большем количестве нан значения, лучше рассмотреть ситуацию подробнее"
   ]
  },
  {
   "cell_type": "code",
   "execution_count": 11,
   "metadata": {},
   "outputs": [],
   "source": [
    "db=db.drop(np.where(np.isnan(db['GarageYrBlt'])==True)[0])"
   ]
  },
  {
   "cell_type": "markdown",
   "metadata": {},
   "source": [
    "удалилась почему-то только  21 строка, после обработки всех нан значений, просто дропнем оставшиеся"
   ]
  },
  {
   "cell_type": "code",
   "execution_count": 12,
   "metadata": {},
   "outputs": [],
   "source": [
    "db[res[0]]=db[res[0]].fillna(db[res[0]].mean())"
   ]
  },
  {
   "cell_type": "markdown",
   "metadata": {},
   "source": [
    "вторая переменная - если вообще нет камина- это отдельная категория"
   ]
  },
  {
   "cell_type": "code",
   "execution_count": 13,
   "metadata": {},
   "outputs": [],
   "source": [
    "db['FireplaceQu']=db['FireplaceQu'].fillna('w/o fireplace')"
   ]
  },
  {
   "cell_type": "code",
   "execution_count": 14,
   "metadata": {},
   "outputs": [
    {
     "data": {
      "text/plain": [
       "Gd     601\n",
       "TA     595\n",
       "Ex     121\n",
       "Fa      32\n",
       "NaN     30\n",
       "Name: BsmtQual, dtype: int64"
      ]
     },
     "execution_count": 14,
     "metadata": {},
     "output_type": "execute_result"
    }
   ],
   "source": [
    "db['BsmtQual'].value_counts(dropna=False)"
   ]
  },
  {
   "cell_type": "markdown",
   "metadata": {},
   "source": [
    "'MasVnrType' + Area + все BSMT просто удалим нан значения. Их немного Mas-8 BSMT-30"
   ]
  },
  {
   "cell_type": "markdown",
   "metadata": {},
   "source": [
    "некоторые категориальные переменные порядковые, в таких случаях я предпочитаю заменять цифрами в соответсвии с порядками (плохо-1, хорошо-2) и исследовать их как количетсвенные.\n",
    "Возможно я не права\n",
    "Но тк категориальных переменных много, а времени мало, исп WOE как самый информативный метод (в моем понимании)"
   ]
  },
  {
   "cell_type": "code",
   "execution_count": 15,
   "metadata": {},
   "outputs": [
    {
     "data": {
      "text/html": [
       "<div>\n",
       "<style scoped>\n",
       "    .dataframe tbody tr th:only-of-type {\n",
       "        vertical-align: middle;\n",
       "    }\n",
       "\n",
       "    .dataframe tbody tr th {\n",
       "        vertical-align: top;\n",
       "    }\n",
       "\n",
       "    .dataframe thead th {\n",
       "        text-align: right;\n",
       "    }\n",
       "</style>\n",
       "<table border=\"1\" class=\"dataframe\">\n",
       "  <thead>\n",
       "    <tr style=\"text-align: right;\">\n",
       "      <th></th>\n",
       "      <th>Id</th>\n",
       "      <th>MSSubClass</th>\n",
       "      <th>MSZoning</th>\n",
       "      <th>LotFrontage</th>\n",
       "      <th>LotArea</th>\n",
       "      <th>Street</th>\n",
       "      <th>LotShape</th>\n",
       "      <th>LandContour</th>\n",
       "      <th>Utilities</th>\n",
       "      <th>LotConfig</th>\n",
       "      <th>...</th>\n",
       "      <th>EnclosedPorch</th>\n",
       "      <th>3SsnPorch</th>\n",
       "      <th>ScreenPorch</th>\n",
       "      <th>PoolArea</th>\n",
       "      <th>MiscVal</th>\n",
       "      <th>MoSold</th>\n",
       "      <th>YrSold</th>\n",
       "      <th>SaleType</th>\n",
       "      <th>SaleCondition</th>\n",
       "      <th>SaleCategory</th>\n",
       "    </tr>\n",
       "  </thead>\n",
       "  <tbody>\n",
       "    <tr>\n",
       "      <th>0</th>\n",
       "      <td>1</td>\n",
       "      <td>60</td>\n",
       "      <td>RL</td>\n",
       "      <td>65.0</td>\n",
       "      <td>8450</td>\n",
       "      <td>Pave</td>\n",
       "      <td>Reg</td>\n",
       "      <td>Lvl</td>\n",
       "      <td>AllPub</td>\n",
       "      <td>Inside</td>\n",
       "      <td>...</td>\n",
       "      <td>0</td>\n",
       "      <td>0</td>\n",
       "      <td>0</td>\n",
       "      <td>0</td>\n",
       "      <td>0</td>\n",
       "      <td>2</td>\n",
       "      <td>2008</td>\n",
       "      <td>WD</td>\n",
       "      <td>Normal</td>\n",
       "      <td>1</td>\n",
       "    </tr>\n",
       "    <tr>\n",
       "      <th>1</th>\n",
       "      <td>2</td>\n",
       "      <td>20</td>\n",
       "      <td>RL</td>\n",
       "      <td>80.0</td>\n",
       "      <td>9600</td>\n",
       "      <td>Pave</td>\n",
       "      <td>Reg</td>\n",
       "      <td>Lvl</td>\n",
       "      <td>AllPub</td>\n",
       "      <td>FR2</td>\n",
       "      <td>...</td>\n",
       "      <td>0</td>\n",
       "      <td>0</td>\n",
       "      <td>0</td>\n",
       "      <td>0</td>\n",
       "      <td>0</td>\n",
       "      <td>5</td>\n",
       "      <td>2007</td>\n",
       "      <td>WD</td>\n",
       "      <td>Normal</td>\n",
       "      <td>0</td>\n",
       "    </tr>\n",
       "    <tr>\n",
       "      <th>2</th>\n",
       "      <td>3</td>\n",
       "      <td>60</td>\n",
       "      <td>RL</td>\n",
       "      <td>68.0</td>\n",
       "      <td>11250</td>\n",
       "      <td>Pave</td>\n",
       "      <td>IR1</td>\n",
       "      <td>Lvl</td>\n",
       "      <td>AllPub</td>\n",
       "      <td>Inside</td>\n",
       "      <td>...</td>\n",
       "      <td>0</td>\n",
       "      <td>0</td>\n",
       "      <td>0</td>\n",
       "      <td>0</td>\n",
       "      <td>0</td>\n",
       "      <td>9</td>\n",
       "      <td>2008</td>\n",
       "      <td>WD</td>\n",
       "      <td>Normal</td>\n",
       "      <td>1</td>\n",
       "    </tr>\n",
       "    <tr>\n",
       "      <th>3</th>\n",
       "      <td>4</td>\n",
       "      <td>70</td>\n",
       "      <td>RL</td>\n",
       "      <td>60.0</td>\n",
       "      <td>9550</td>\n",
       "      <td>Pave</td>\n",
       "      <td>IR1</td>\n",
       "      <td>Lvl</td>\n",
       "      <td>AllPub</td>\n",
       "      <td>Corner</td>\n",
       "      <td>...</td>\n",
       "      <td>272</td>\n",
       "      <td>0</td>\n",
       "      <td>0</td>\n",
       "      <td>0</td>\n",
       "      <td>0</td>\n",
       "      <td>2</td>\n",
       "      <td>2006</td>\n",
       "      <td>WD</td>\n",
       "      <td>Abnorml</td>\n",
       "      <td>0</td>\n",
       "    </tr>\n",
       "    <tr>\n",
       "      <th>4</th>\n",
       "      <td>5</td>\n",
       "      <td>60</td>\n",
       "      <td>RL</td>\n",
       "      <td>84.0</td>\n",
       "      <td>14260</td>\n",
       "      <td>Pave</td>\n",
       "      <td>IR1</td>\n",
       "      <td>Lvl</td>\n",
       "      <td>AllPub</td>\n",
       "      <td>FR2</td>\n",
       "      <td>...</td>\n",
       "      <td>0</td>\n",
       "      <td>0</td>\n",
       "      <td>0</td>\n",
       "      <td>0</td>\n",
       "      <td>0</td>\n",
       "      <td>12</td>\n",
       "      <td>2008</td>\n",
       "      <td>WD</td>\n",
       "      <td>Normal</td>\n",
       "      <td>1</td>\n",
       "    </tr>\n",
       "  </tbody>\n",
       "</table>\n",
       "<p>5 rows × 77 columns</p>\n",
       "</div>"
      ],
      "text/plain": [
       "   Id  MSSubClass MSZoning  LotFrontage  LotArea Street LotShape LandContour  \\\n",
       "0   1          60       RL         65.0     8450   Pave      Reg         Lvl   \n",
       "1   2          20       RL         80.0     9600   Pave      Reg         Lvl   \n",
       "2   3          60       RL         68.0    11250   Pave      IR1         Lvl   \n",
       "3   4          70       RL         60.0     9550   Pave      IR1         Lvl   \n",
       "4   5          60       RL         84.0    14260   Pave      IR1         Lvl   \n",
       "\n",
       "  Utilities LotConfig      ...      EnclosedPorch 3SsnPorch ScreenPorch  \\\n",
       "0    AllPub    Inside      ...                  0         0           0   \n",
       "1    AllPub       FR2      ...                  0         0           0   \n",
       "2    AllPub    Inside      ...                  0         0           0   \n",
       "3    AllPub    Corner      ...                272         0           0   \n",
       "4    AllPub       FR2      ...                  0         0           0   \n",
       "\n",
       "  PoolArea MiscVal MoSold  YrSold  SaleType  SaleCondition  SaleCategory  \n",
       "0        0       0      2    2008        WD         Normal             1  \n",
       "1        0       0      5    2007        WD         Normal             0  \n",
       "2        0       0      9    2008        WD         Normal             1  \n",
       "3        0       0      2    2006        WD        Abnorml             0  \n",
       "4        0       0     12    2008        WD         Normal             1  \n",
       "\n",
       "[5 rows x 77 columns]"
      ]
     },
     "execution_count": 15,
     "metadata": {},
     "output_type": "execute_result"
    }
   ],
   "source": [
    "db.head(5)"
   ]
  },
  {
   "cell_type": "code",
   "execution_count": 16,
   "metadata": {},
   "outputs": [],
   "source": [
    "res1=[]\n",
    "for i in db.columns:\n",
    "    str_is=db[i].value_counts(dropna=False).keys()[0]\n",
    "    if isinstance(str_is, str)==True:\n",
    "        res1.append(i)\n",
    "    else:\n",
    "        res1.append(0)"
   ]
  },
  {
   "cell_type": "code",
   "execution_count": 17,
   "metadata": {},
   "outputs": [
    {
     "data": {
      "text/plain": [
       "['MSZoning',\n",
       " 'Street',\n",
       " 'LotShape',\n",
       " 'LandContour',\n",
       " 'Utilities',\n",
       " 'LotConfig',\n",
       " 'LandSlope',\n",
       " 'Neighborhood',\n",
       " 'Condition1',\n",
       " 'Condition2',\n",
       " 'BldgType',\n",
       " 'HouseStyle',\n",
       " 'RoofStyle',\n",
       " 'RoofMatl',\n",
       " 'Exterior1st',\n",
       " 'Exterior2nd',\n",
       " 'MasVnrType',\n",
       " 'ExterQual',\n",
       " 'ExterCond',\n",
       " 'Foundation',\n",
       " 'BsmtQual',\n",
       " 'BsmtCond',\n",
       " 'BsmtExposure',\n",
       " 'BsmtFinType1',\n",
       " 'BsmtFinType2',\n",
       " 'Heating',\n",
       " 'HeatingQC',\n",
       " 'CentralAir',\n",
       " 'Electrical',\n",
       " 'KitchenQual',\n",
       " 'Functional',\n",
       " 'FireplaceQu',\n",
       " 'GarageType',\n",
       " 'GarageFinish',\n",
       " 'GarageQual',\n",
       " 'GarageCond',\n",
       " 'PavedDrive',\n",
       " 'SaleType',\n",
       " 'SaleCondition']"
      ]
     },
     "execution_count": 17,
     "metadata": {},
     "output_type": "execute_result"
    }
   ],
   "source": [
    "res1=[x for x in res1 if x!=0]\n",
    "res1"
   ]
  },
  {
   "cell_type": "code",
   "execution_count": 18,
   "metadata": {},
   "outputs": [],
   "source": [
    "def get_woe_v1(db, col, target_col):\n",
    "    all_good = len(db[db[target_col] == 1][col])\n",
    "    all_bad = len(db[db[target_col] == 0][col])\n",
    "    odds_series = (\n",
    "        db[db[target_col] == 1][col].value_counts()\n",
    "        /\n",
    "        db[db[target_col] == 0][col].value_counts()\n",
    "    )\n",
    "    odds_series = odds_series / all_good * all_bad\n",
    "    category_woe_dict = np.log(odds_series).to_dict()\n",
    "    db[col + '_woe'] = db[col].apply(category_woe_dict.get)\n",
    "    return db"
   ]
  },
  {
   "cell_type": "code",
   "execution_count": 19,
   "metadata": {},
   "outputs": [],
   "source": [
    "res1.append('MSSubClass')\n",
    "for i in res1:\n",
    "    get_woe_v1(db, i, 'SaleCategory')"
   ]
  },
  {
   "cell_type": "code",
   "execution_count": 20,
   "metadata": {},
   "outputs": [
    {
     "data": {
      "text/html": [
       "<div>\n",
       "<style scoped>\n",
       "    .dataframe tbody tr th:only-of-type {\n",
       "        vertical-align: middle;\n",
       "    }\n",
       "\n",
       "    .dataframe tbody tr th {\n",
       "        vertical-align: top;\n",
       "    }\n",
       "\n",
       "    .dataframe thead th {\n",
       "        text-align: right;\n",
       "    }\n",
       "</style>\n",
       "<table border=\"1\" class=\"dataframe\">\n",
       "  <thead>\n",
       "    <tr style=\"text-align: right;\">\n",
       "      <th></th>\n",
       "      <th>Id</th>\n",
       "      <th>MSSubClass</th>\n",
       "      <th>MSZoning</th>\n",
       "      <th>LotFrontage</th>\n",
       "      <th>LotArea</th>\n",
       "      <th>Street</th>\n",
       "      <th>LotShape</th>\n",
       "      <th>LandContour</th>\n",
       "      <th>Utilities</th>\n",
       "      <th>LotConfig</th>\n",
       "      <th>...</th>\n",
       "      <th>Functional_woe</th>\n",
       "      <th>FireplaceQu_woe</th>\n",
       "      <th>GarageType_woe</th>\n",
       "      <th>GarageFinish_woe</th>\n",
       "      <th>GarageQual_woe</th>\n",
       "      <th>GarageCond_woe</th>\n",
       "      <th>PavedDrive_woe</th>\n",
       "      <th>SaleType_woe</th>\n",
       "      <th>SaleCondition_woe</th>\n",
       "      <th>MSSubClass_woe</th>\n",
       "    </tr>\n",
       "  </thead>\n",
       "  <tbody>\n",
       "    <tr>\n",
       "      <th>0</th>\n",
       "      <td>1</td>\n",
       "      <td>60</td>\n",
       "      <td>RL</td>\n",
       "      <td>65.0</td>\n",
       "      <td>8450</td>\n",
       "      <td>Pave</td>\n",
       "      <td>Reg</td>\n",
       "      <td>Lvl</td>\n",
       "      <td>AllPub</td>\n",
       "      <td>Inside</td>\n",
       "      <td>...</td>\n",
       "      <td>0.063781</td>\n",
       "      <td>-1.110044</td>\n",
       "      <td>0.385609</td>\n",
       "      <td>0.485524</td>\n",
       "      <td>0.032916</td>\n",
       "      <td>0.04735</td>\n",
       "      <td>0.077899</td>\n",
       "      <td>-0.168447</td>\n",
       "      <td>-0.134170</td>\n",
       "      <td>1.223338</td>\n",
       "    </tr>\n",
       "    <tr>\n",
       "      <th>1</th>\n",
       "      <td>2</td>\n",
       "      <td>20</td>\n",
       "      <td>RL</td>\n",
       "      <td>80.0</td>\n",
       "      <td>9600</td>\n",
       "      <td>Pave</td>\n",
       "      <td>Reg</td>\n",
       "      <td>Lvl</td>\n",
       "      <td>AllPub</td>\n",
       "      <td>FR2</td>\n",
       "      <td>...</td>\n",
       "      <td>0.063781</td>\n",
       "      <td>0.416206</td>\n",
       "      <td>0.385609</td>\n",
       "      <td>0.485524</td>\n",
       "      <td>0.032916</td>\n",
       "      <td>0.04735</td>\n",
       "      <td>0.077899</td>\n",
       "      <td>-0.168447</td>\n",
       "      <td>-0.134170</td>\n",
       "      <td>0.056517</td>\n",
       "    </tr>\n",
       "    <tr>\n",
       "      <th>2</th>\n",
       "      <td>3</td>\n",
       "      <td>60</td>\n",
       "      <td>RL</td>\n",
       "      <td>68.0</td>\n",
       "      <td>11250</td>\n",
       "      <td>Pave</td>\n",
       "      <td>IR1</td>\n",
       "      <td>Lvl</td>\n",
       "      <td>AllPub</td>\n",
       "      <td>Inside</td>\n",
       "      <td>...</td>\n",
       "      <td>0.063781</td>\n",
       "      <td>0.416206</td>\n",
       "      <td>0.385609</td>\n",
       "      <td>0.485524</td>\n",
       "      <td>0.032916</td>\n",
       "      <td>0.04735</td>\n",
       "      <td>0.077899</td>\n",
       "      <td>-0.168447</td>\n",
       "      <td>-0.134170</td>\n",
       "      <td>1.223338</td>\n",
       "    </tr>\n",
       "    <tr>\n",
       "      <th>3</th>\n",
       "      <td>4</td>\n",
       "      <td>70</td>\n",
       "      <td>RL</td>\n",
       "      <td>60.0</td>\n",
       "      <td>9550</td>\n",
       "      <td>Pave</td>\n",
       "      <td>IR1</td>\n",
       "      <td>Lvl</td>\n",
       "      <td>AllPub</td>\n",
       "      <td>Corner</td>\n",
       "      <td>...</td>\n",
       "      <td>0.063781</td>\n",
       "      <td>0.887988</td>\n",
       "      <td>-1.980155</td>\n",
       "      <td>-1.462501</td>\n",
       "      <td>0.032916</td>\n",
       "      <td>0.04735</td>\n",
       "      <td>0.077899</td>\n",
       "      <td>-0.168447</td>\n",
       "      <td>-0.957611</td>\n",
       "      <td>-0.340638</td>\n",
       "    </tr>\n",
       "    <tr>\n",
       "      <th>4</th>\n",
       "      <td>5</td>\n",
       "      <td>60</td>\n",
       "      <td>RL</td>\n",
       "      <td>84.0</td>\n",
       "      <td>14260</td>\n",
       "      <td>Pave</td>\n",
       "      <td>IR1</td>\n",
       "      <td>Lvl</td>\n",
       "      <td>AllPub</td>\n",
       "      <td>FR2</td>\n",
       "      <td>...</td>\n",
       "      <td>0.063781</td>\n",
       "      <td>0.416206</td>\n",
       "      <td>0.385609</td>\n",
       "      <td>0.485524</td>\n",
       "      <td>0.032916</td>\n",
       "      <td>0.04735</td>\n",
       "      <td>0.077899</td>\n",
       "      <td>-0.168447</td>\n",
       "      <td>-0.134170</td>\n",
       "      <td>1.223338</td>\n",
       "    </tr>\n",
       "  </tbody>\n",
       "</table>\n",
       "<p>5 rows × 117 columns</p>\n",
       "</div>"
      ],
      "text/plain": [
       "   Id  MSSubClass MSZoning  LotFrontage  LotArea Street LotShape LandContour  \\\n",
       "0   1          60       RL         65.0     8450   Pave      Reg         Lvl   \n",
       "1   2          20       RL         80.0     9600   Pave      Reg         Lvl   \n",
       "2   3          60       RL         68.0    11250   Pave      IR1         Lvl   \n",
       "3   4          70       RL         60.0     9550   Pave      IR1         Lvl   \n",
       "4   5          60       RL         84.0    14260   Pave      IR1         Lvl   \n",
       "\n",
       "  Utilities LotConfig       ...       Functional_woe FireplaceQu_woe  \\\n",
       "0    AllPub    Inside       ...             0.063781       -1.110044   \n",
       "1    AllPub       FR2       ...             0.063781        0.416206   \n",
       "2    AllPub    Inside       ...             0.063781        0.416206   \n",
       "3    AllPub    Corner       ...             0.063781        0.887988   \n",
       "4    AllPub       FR2       ...             0.063781        0.416206   \n",
       "\n",
       "  GarageType_woe GarageFinish_woe GarageQual_woe GarageCond_woe  \\\n",
       "0       0.385609         0.485524       0.032916        0.04735   \n",
       "1       0.385609         0.485524       0.032916        0.04735   \n",
       "2       0.385609         0.485524       0.032916        0.04735   \n",
       "3      -1.980155        -1.462501       0.032916        0.04735   \n",
       "4       0.385609         0.485524       0.032916        0.04735   \n",
       "\n",
       "   PavedDrive_woe  SaleType_woe  SaleCondition_woe  MSSubClass_woe  \n",
       "0        0.077899     -0.168447          -0.134170        1.223338  \n",
       "1        0.077899     -0.168447          -0.134170        0.056517  \n",
       "2        0.077899     -0.168447          -0.134170        1.223338  \n",
       "3        0.077899     -0.168447          -0.957611       -0.340638  \n",
       "4        0.077899     -0.168447          -0.134170        1.223338  \n",
       "\n",
       "[5 rows x 117 columns]"
      ]
     },
     "execution_count": 20,
     "metadata": {},
     "output_type": "execute_result"
    }
   ],
   "source": [
    "db.head(5)"
   ]
  },
  {
   "cell_type": "code",
   "execution_count": 21,
   "metadata": {},
   "outputs": [],
   "source": [
    "db1=db.drop(res1, axis=1)"
   ]
  },
  {
   "cell_type": "code",
   "execution_count": 22,
   "metadata": {},
   "outputs": [
    {
     "data": {
      "text/html": [
       "<div>\n",
       "<style scoped>\n",
       "    .dataframe tbody tr th:only-of-type {\n",
       "        vertical-align: middle;\n",
       "    }\n",
       "\n",
       "    .dataframe tbody tr th {\n",
       "        vertical-align: top;\n",
       "    }\n",
       "\n",
       "    .dataframe thead th {\n",
       "        text-align: right;\n",
       "    }\n",
       "</style>\n",
       "<table border=\"1\" class=\"dataframe\">\n",
       "  <thead>\n",
       "    <tr style=\"text-align: right;\">\n",
       "      <th></th>\n",
       "      <th>Id</th>\n",
       "      <th>LotFrontage</th>\n",
       "      <th>LotArea</th>\n",
       "      <th>OverallQual</th>\n",
       "      <th>OverallCond</th>\n",
       "      <th>YearBuilt</th>\n",
       "      <th>YearRemodAdd</th>\n",
       "      <th>MasVnrArea</th>\n",
       "      <th>BsmtFinSF1</th>\n",
       "      <th>BsmtFinSF2</th>\n",
       "      <th>...</th>\n",
       "      <th>Functional_woe</th>\n",
       "      <th>FireplaceQu_woe</th>\n",
       "      <th>GarageType_woe</th>\n",
       "      <th>GarageFinish_woe</th>\n",
       "      <th>GarageQual_woe</th>\n",
       "      <th>GarageCond_woe</th>\n",
       "      <th>PavedDrive_woe</th>\n",
       "      <th>SaleType_woe</th>\n",
       "      <th>SaleCondition_woe</th>\n",
       "      <th>MSSubClass_woe</th>\n",
       "    </tr>\n",
       "  </thead>\n",
       "  <tbody>\n",
       "    <tr>\n",
       "      <th>0</th>\n",
       "      <td>1</td>\n",
       "      <td>65.0</td>\n",
       "      <td>8450</td>\n",
       "      <td>7</td>\n",
       "      <td>5</td>\n",
       "      <td>2003</td>\n",
       "      <td>2003</td>\n",
       "      <td>196.0</td>\n",
       "      <td>706</td>\n",
       "      <td>0</td>\n",
       "      <td>...</td>\n",
       "      <td>0.063781</td>\n",
       "      <td>-1.110044</td>\n",
       "      <td>0.385609</td>\n",
       "      <td>0.485524</td>\n",
       "      <td>0.032916</td>\n",
       "      <td>0.04735</td>\n",
       "      <td>0.077899</td>\n",
       "      <td>-0.168447</td>\n",
       "      <td>-0.134170</td>\n",
       "      <td>1.223338</td>\n",
       "    </tr>\n",
       "    <tr>\n",
       "      <th>1</th>\n",
       "      <td>2</td>\n",
       "      <td>80.0</td>\n",
       "      <td>9600</td>\n",
       "      <td>6</td>\n",
       "      <td>8</td>\n",
       "      <td>1976</td>\n",
       "      <td>1976</td>\n",
       "      <td>0.0</td>\n",
       "      <td>978</td>\n",
       "      <td>0</td>\n",
       "      <td>...</td>\n",
       "      <td>0.063781</td>\n",
       "      <td>0.416206</td>\n",
       "      <td>0.385609</td>\n",
       "      <td>0.485524</td>\n",
       "      <td>0.032916</td>\n",
       "      <td>0.04735</td>\n",
       "      <td>0.077899</td>\n",
       "      <td>-0.168447</td>\n",
       "      <td>-0.134170</td>\n",
       "      <td>0.056517</td>\n",
       "    </tr>\n",
       "    <tr>\n",
       "      <th>2</th>\n",
       "      <td>3</td>\n",
       "      <td>68.0</td>\n",
       "      <td>11250</td>\n",
       "      <td>7</td>\n",
       "      <td>5</td>\n",
       "      <td>2001</td>\n",
       "      <td>2002</td>\n",
       "      <td>162.0</td>\n",
       "      <td>486</td>\n",
       "      <td>0</td>\n",
       "      <td>...</td>\n",
       "      <td>0.063781</td>\n",
       "      <td>0.416206</td>\n",
       "      <td>0.385609</td>\n",
       "      <td>0.485524</td>\n",
       "      <td>0.032916</td>\n",
       "      <td>0.04735</td>\n",
       "      <td>0.077899</td>\n",
       "      <td>-0.168447</td>\n",
       "      <td>-0.134170</td>\n",
       "      <td>1.223338</td>\n",
       "    </tr>\n",
       "    <tr>\n",
       "      <th>3</th>\n",
       "      <td>4</td>\n",
       "      <td>60.0</td>\n",
       "      <td>9550</td>\n",
       "      <td>7</td>\n",
       "      <td>5</td>\n",
       "      <td>1915</td>\n",
       "      <td>1970</td>\n",
       "      <td>0.0</td>\n",
       "      <td>216</td>\n",
       "      <td>0</td>\n",
       "      <td>...</td>\n",
       "      <td>0.063781</td>\n",
       "      <td>0.887988</td>\n",
       "      <td>-1.980155</td>\n",
       "      <td>-1.462501</td>\n",
       "      <td>0.032916</td>\n",
       "      <td>0.04735</td>\n",
       "      <td>0.077899</td>\n",
       "      <td>-0.168447</td>\n",
       "      <td>-0.957611</td>\n",
       "      <td>-0.340638</td>\n",
       "    </tr>\n",
       "    <tr>\n",
       "      <th>4</th>\n",
       "      <td>5</td>\n",
       "      <td>84.0</td>\n",
       "      <td>14260</td>\n",
       "      <td>8</td>\n",
       "      <td>5</td>\n",
       "      <td>2000</td>\n",
       "      <td>2000</td>\n",
       "      <td>350.0</td>\n",
       "      <td>655</td>\n",
       "      <td>0</td>\n",
       "      <td>...</td>\n",
       "      <td>0.063781</td>\n",
       "      <td>0.416206</td>\n",
       "      <td>0.385609</td>\n",
       "      <td>0.485524</td>\n",
       "      <td>0.032916</td>\n",
       "      <td>0.04735</td>\n",
       "      <td>0.077899</td>\n",
       "      <td>-0.168447</td>\n",
       "      <td>-0.134170</td>\n",
       "      <td>1.223338</td>\n",
       "    </tr>\n",
       "  </tbody>\n",
       "</table>\n",
       "<p>5 rows × 77 columns</p>\n",
       "</div>"
      ],
      "text/plain": [
       "   Id  LotFrontage  LotArea  OverallQual  OverallCond  YearBuilt  \\\n",
       "0   1         65.0     8450            7            5       2003   \n",
       "1   2         80.0     9600            6            8       1976   \n",
       "2   3         68.0    11250            7            5       2001   \n",
       "3   4         60.0     9550            7            5       1915   \n",
       "4   5         84.0    14260            8            5       2000   \n",
       "\n",
       "   YearRemodAdd  MasVnrArea  BsmtFinSF1  BsmtFinSF2       ...        \\\n",
       "0          2003       196.0         706           0       ...         \n",
       "1          1976         0.0         978           0       ...         \n",
       "2          2002       162.0         486           0       ...         \n",
       "3          1970         0.0         216           0       ...         \n",
       "4          2000       350.0         655           0       ...         \n",
       "\n",
       "   Functional_woe  FireplaceQu_woe  GarageType_woe  GarageFinish_woe  \\\n",
       "0        0.063781        -1.110044        0.385609          0.485524   \n",
       "1        0.063781         0.416206        0.385609          0.485524   \n",
       "2        0.063781         0.416206        0.385609          0.485524   \n",
       "3        0.063781         0.887988       -1.980155         -1.462501   \n",
       "4        0.063781         0.416206        0.385609          0.485524   \n",
       "\n",
       "   GarageQual_woe  GarageCond_woe  PavedDrive_woe  SaleType_woe  \\\n",
       "0        0.032916         0.04735        0.077899     -0.168447   \n",
       "1        0.032916         0.04735        0.077899     -0.168447   \n",
       "2        0.032916         0.04735        0.077899     -0.168447   \n",
       "3        0.032916         0.04735        0.077899     -0.168447   \n",
       "4        0.032916         0.04735        0.077899     -0.168447   \n",
       "\n",
       "   SaleCondition_woe  MSSubClass_woe  \n",
       "0          -0.134170        1.223338  \n",
       "1          -0.134170        0.056517  \n",
       "2          -0.134170        1.223338  \n",
       "3          -0.957611       -0.340638  \n",
       "4          -0.134170        1.223338  \n",
       "\n",
       "[5 rows x 77 columns]"
      ]
     },
     "execution_count": 22,
     "metadata": {},
     "output_type": "execute_result"
    }
   ],
   "source": [
    "db1.head(5)"
   ]
  },
  {
   "cell_type": "code",
   "execution_count": 23,
   "metadata": {},
   "outputs": [
    {
     "data": {
      "text/html": [
       "<div>\n",
       "<style scoped>\n",
       "    .dataframe tbody tr th:only-of-type {\n",
       "        vertical-align: middle;\n",
       "    }\n",
       "\n",
       "    .dataframe tbody tr th {\n",
       "        vertical-align: top;\n",
       "    }\n",
       "\n",
       "    .dataframe thead th {\n",
       "        text-align: right;\n",
       "    }\n",
       "</style>\n",
       "<table border=\"1\" class=\"dataframe\">\n",
       "  <thead>\n",
       "    <tr style=\"text-align: right;\">\n",
       "      <th></th>\n",
       "      <th>Id</th>\n",
       "      <th>LotFrontage</th>\n",
       "      <th>LotArea</th>\n",
       "      <th>OverallQual</th>\n",
       "      <th>OverallCond</th>\n",
       "      <th>YearBuilt</th>\n",
       "      <th>YearRemodAdd</th>\n",
       "      <th>MasVnrArea</th>\n",
       "      <th>BsmtFinSF1</th>\n",
       "      <th>BsmtFinSF2</th>\n",
       "      <th>...</th>\n",
       "      <th>Functional_woe</th>\n",
       "      <th>FireplaceQu_woe</th>\n",
       "      <th>GarageType_woe</th>\n",
       "      <th>GarageFinish_woe</th>\n",
       "      <th>GarageQual_woe</th>\n",
       "      <th>GarageCond_woe</th>\n",
       "      <th>PavedDrive_woe</th>\n",
       "      <th>SaleType_woe</th>\n",
       "      <th>SaleCondition_woe</th>\n",
       "      <th>MSSubClass_woe</th>\n",
       "    </tr>\n",
       "  </thead>\n",
       "  <tbody>\n",
       "    <tr>\n",
       "      <th>count</th>\n",
       "      <td>1379.000000</td>\n",
       "      <td>1379.000000</td>\n",
       "      <td>1379.000000</td>\n",
       "      <td>1379.000000</td>\n",
       "      <td>1379.000000</td>\n",
       "      <td>1379.000000</td>\n",
       "      <td>1379.000000</td>\n",
       "      <td>1371.000000</td>\n",
       "      <td>1379.000000</td>\n",
       "      <td>1379.000000</td>\n",
       "      <td>...</td>\n",
       "      <td>1374.000000</td>\n",
       "      <td>1361.000000</td>\n",
       "      <td>1364.000000</td>\n",
       "      <td>1379.000000</td>\n",
       "      <td>1376.000000</td>\n",
       "      <td>1370.000000</td>\n",
       "      <td>1379.000000</td>\n",
       "      <td>1376.000000</td>\n",
       "      <td>1378.000000</td>\n",
       "      <td>1293.000000</td>\n",
       "    </tr>\n",
       "    <tr>\n",
       "      <th>mean</th>\n",
       "      <td>731.879623</td>\n",
       "      <td>70.683230</td>\n",
       "      <td>10695.812183</td>\n",
       "      <td>6.187092</td>\n",
       "      <td>5.577955</td>\n",
       "      <td>1972.958666</td>\n",
       "      <td>1985.435098</td>\n",
       "      <td>108.997082</td>\n",
       "      <td>455.578680</td>\n",
       "      <td>48.102248</td>\n",
       "      <td>...</td>\n",
       "      <td>-0.036669</td>\n",
       "      <td>-0.133348</td>\n",
       "      <td>-0.238583</td>\n",
       "      <td>-0.238241</td>\n",
       "      <td>-0.016880</td>\n",
       "      <td>-0.027391</td>\n",
       "      <td>-0.054610</td>\n",
       "      <td>-0.038538</td>\n",
       "      <td>-0.031172</td>\n",
       "      <td>-0.103276</td>\n",
       "    </tr>\n",
       "    <tr>\n",
       "      <th>std</th>\n",
       "      <td>421.059059</td>\n",
       "      <td>21.931281</td>\n",
       "      <td>10214.702133</td>\n",
       "      <td>1.345780</td>\n",
       "      <td>1.081031</td>\n",
       "      <td>29.379883</td>\n",
       "      <td>20.444852</td>\n",
       "      <td>184.545459</td>\n",
       "      <td>459.691379</td>\n",
       "      <td>164.324665</td>\n",
       "      <td>...</td>\n",
       "      <td>0.463011</td>\n",
       "      <td>0.971371</td>\n",
       "      <td>1.134548</td>\n",
       "      <td>1.099553</td>\n",
       "      <td>0.313355</td>\n",
       "      <td>0.442156</td>\n",
       "      <td>0.520352</td>\n",
       "      <td>0.609258</td>\n",
       "      <td>0.587049</td>\n",
       "      <td>1.083338</td>\n",
       "    </tr>\n",
       "    <tr>\n",
       "      <th>min</th>\n",
       "      <td>1.000000</td>\n",
       "      <td>21.000000</td>\n",
       "      <td>1300.000000</td>\n",
       "      <td>2.000000</td>\n",
       "      <td>2.000000</td>\n",
       "      <td>1880.000000</td>\n",
       "      <td>1950.000000</td>\n",
       "      <td>0.000000</td>\n",
       "      <td>0.000000</td>\n",
       "      <td>0.000000</td>\n",
       "      <td>...</td>\n",
       "      <td>-2.652482</td>\n",
       "      <td>-1.110044</td>\n",
       "      <td>-1.980155</td>\n",
       "      <td>-1.462501</td>\n",
       "      <td>-1.616390</td>\n",
       "      <td>-2.744856</td>\n",
       "      <td>-2.514332</td>\n",
       "      <td>-1.495762</td>\n",
       "      <td>-0.957611</td>\n",
       "      <td>-2.602885</td>\n",
       "    </tr>\n",
       "    <tr>\n",
       "      <th>25%</th>\n",
       "      <td>366.500000</td>\n",
       "      <td>60.000000</td>\n",
       "      <td>7741.000000</td>\n",
       "      <td>5.000000</td>\n",
       "      <td>5.000000</td>\n",
       "      <td>1955.000000</td>\n",
       "      <td>1968.000000</td>\n",
       "      <td>0.000000</td>\n",
       "      <td>0.000000</td>\n",
       "      <td>0.000000</td>\n",
       "      <td>...</td>\n",
       "      <td>0.063781</td>\n",
       "      <td>-1.110044</td>\n",
       "      <td>-1.980155</td>\n",
       "      <td>-1.462501</td>\n",
       "      <td>0.032916</td>\n",
       "      <td>0.047350</td>\n",
       "      <td>0.077899</td>\n",
       "      <td>-0.168447</td>\n",
       "      <td>-0.134170</td>\n",
       "      <td>-0.340638</td>\n",
       "    </tr>\n",
       "    <tr>\n",
       "      <th>50%</th>\n",
       "      <td>734.000000</td>\n",
       "      <td>70.683230</td>\n",
       "      <td>9591.000000</td>\n",
       "      <td>6.000000</td>\n",
       "      <td>5.000000</td>\n",
       "      <td>1976.000000</td>\n",
       "      <td>1994.000000</td>\n",
       "      <td>0.000000</td>\n",
       "      <td>400.000000</td>\n",
       "      <td>0.000000</td>\n",
       "      <td>...</td>\n",
       "      <td>0.063781</td>\n",
       "      <td>0.416206</td>\n",
       "      <td>0.385609</td>\n",
       "      <td>0.485524</td>\n",
       "      <td>0.032916</td>\n",
       "      <td>0.047350</td>\n",
       "      <td>0.077899</td>\n",
       "      <td>-0.168447</td>\n",
       "      <td>-0.134170</td>\n",
       "      <td>0.056517</td>\n",
       "    </tr>\n",
       "    <tr>\n",
       "      <th>75%</th>\n",
       "      <td>1094.500000</td>\n",
       "      <td>79.000000</td>\n",
       "      <td>11708.500000</td>\n",
       "      <td>7.000000</td>\n",
       "      <td>6.000000</td>\n",
       "      <td>2001.000000</td>\n",
       "      <td>2004.000000</td>\n",
       "      <td>171.500000</td>\n",
       "      <td>732.000000</td>\n",
       "      <td>0.000000</td>\n",
       "      <td>...</td>\n",
       "      <td>0.063781</td>\n",
       "      <td>0.887988</td>\n",
       "      <td>0.385609</td>\n",
       "      <td>0.998259</td>\n",
       "      <td>0.032916</td>\n",
       "      <td>0.047350</td>\n",
       "      <td>0.077899</td>\n",
       "      <td>-0.168447</td>\n",
       "      <td>-0.134170</td>\n",
       "      <td>0.385609</td>\n",
       "    </tr>\n",
       "    <tr>\n",
       "      <th>max</th>\n",
       "      <td>1460.000000</td>\n",
       "      <td>313.000000</td>\n",
       "      <td>215245.000000</td>\n",
       "      <td>10.000000</td>\n",
       "      <td>9.000000</td>\n",
       "      <td>2010.000000</td>\n",
       "      <td>2010.000000</td>\n",
       "      <td>1600.000000</td>\n",
       "      <td>5644.000000</td>\n",
       "      <td>1474.000000</td>\n",
       "      <td>...</td>\n",
       "      <td>0.063781</td>\n",
       "      <td>2.727415</td>\n",
       "      <td>1.390569</td>\n",
       "      <td>0.998259</td>\n",
       "      <td>0.781505</td>\n",
       "      <td>0.047350</td>\n",
       "      <td>0.077899</td>\n",
       "      <td>1.750905</td>\n",
       "      <td>1.703494</td>\n",
       "      <td>1.223338</td>\n",
       "    </tr>\n",
       "  </tbody>\n",
       "</table>\n",
       "<p>8 rows × 77 columns</p>\n",
       "</div>"
      ],
      "text/plain": [
       "                Id  LotFrontage        LotArea  OverallQual  OverallCond  \\\n",
       "count  1379.000000  1379.000000    1379.000000  1379.000000  1379.000000   \n",
       "mean    731.879623    70.683230   10695.812183     6.187092     5.577955   \n",
       "std     421.059059    21.931281   10214.702133     1.345780     1.081031   \n",
       "min       1.000000    21.000000    1300.000000     2.000000     2.000000   \n",
       "25%     366.500000    60.000000    7741.000000     5.000000     5.000000   \n",
       "50%     734.000000    70.683230    9591.000000     6.000000     5.000000   \n",
       "75%    1094.500000    79.000000   11708.500000     7.000000     6.000000   \n",
       "max    1460.000000   313.000000  215245.000000    10.000000     9.000000   \n",
       "\n",
       "         YearBuilt  YearRemodAdd   MasVnrArea   BsmtFinSF1   BsmtFinSF2  \\\n",
       "count  1379.000000   1379.000000  1371.000000  1379.000000  1379.000000   \n",
       "mean   1972.958666   1985.435098   108.997082   455.578680    48.102248   \n",
       "std      29.379883     20.444852   184.545459   459.691379   164.324665   \n",
       "min    1880.000000   1950.000000     0.000000     0.000000     0.000000   \n",
       "25%    1955.000000   1968.000000     0.000000     0.000000     0.000000   \n",
       "50%    1976.000000   1994.000000     0.000000   400.000000     0.000000   \n",
       "75%    2001.000000   2004.000000   171.500000   732.000000     0.000000   \n",
       "max    2010.000000   2010.000000  1600.000000  5644.000000  1474.000000   \n",
       "\n",
       "            ...        Functional_woe  FireplaceQu_woe  GarageType_woe  \\\n",
       "count       ...           1374.000000      1361.000000     1364.000000   \n",
       "mean        ...             -0.036669        -0.133348       -0.238583   \n",
       "std         ...              0.463011         0.971371        1.134548   \n",
       "min         ...             -2.652482        -1.110044       -1.980155   \n",
       "25%         ...              0.063781        -1.110044       -1.980155   \n",
       "50%         ...              0.063781         0.416206        0.385609   \n",
       "75%         ...              0.063781         0.887988        0.385609   \n",
       "max         ...              0.063781         2.727415        1.390569   \n",
       "\n",
       "       GarageFinish_woe  GarageQual_woe  GarageCond_woe  PavedDrive_woe  \\\n",
       "count       1379.000000     1376.000000     1370.000000     1379.000000   \n",
       "mean          -0.238241       -0.016880       -0.027391       -0.054610   \n",
       "std            1.099553        0.313355        0.442156        0.520352   \n",
       "min           -1.462501       -1.616390       -2.744856       -2.514332   \n",
       "25%           -1.462501        0.032916        0.047350        0.077899   \n",
       "50%            0.485524        0.032916        0.047350        0.077899   \n",
       "75%            0.998259        0.032916        0.047350        0.077899   \n",
       "max            0.998259        0.781505        0.047350        0.077899   \n",
       "\n",
       "       SaleType_woe  SaleCondition_woe  MSSubClass_woe  \n",
       "count   1376.000000        1378.000000     1293.000000  \n",
       "mean      -0.038538          -0.031172       -0.103276  \n",
       "std        0.609258           0.587049        1.083338  \n",
       "min       -1.495762          -0.957611       -2.602885  \n",
       "25%       -0.168447          -0.134170       -0.340638  \n",
       "50%       -0.168447          -0.134170        0.056517  \n",
       "75%       -0.168447          -0.134170        0.385609  \n",
       "max        1.750905           1.703494        1.223338  \n",
       "\n",
       "[8 rows x 77 columns]"
      ]
     },
     "execution_count": 23,
     "metadata": {},
     "output_type": "execute_result"
    }
   ],
   "source": [
    "db1.describe()"
   ]
  },
  {
   "cell_type": "code",
   "execution_count": 24,
   "metadata": {},
   "outputs": [],
   "source": [
    "corr_matrix = db1.corr()"
   ]
  },
  {
   "cell_type": "code",
   "execution_count": 25,
   "metadata": {},
   "outputs": [],
   "source": [
    "good_corr=corr_matrix['SaleCategory'][corr_matrix['SaleCategory']>0.5]"
   ]
  },
  {
   "cell_type": "code",
   "execution_count": 26,
   "metadata": {},
   "outputs": [
    {
     "data": {
      "text/plain": [
       "Index(['OverallQual', 'GrLivArea', 'GarageCars', 'GarageArea', 'SaleCategory',\n",
       "       'Neighborhood_woe', 'ExterQual_woe', 'BsmtQual_woe', 'KitchenQual_woe'],\n",
       "      dtype='object')"
      ]
     },
     "execution_count": 26,
     "metadata": {},
     "output_type": "execute_result"
    }
   ],
   "source": [
    "good_corr.index"
   ]
  },
  {
   "cell_type": "code",
   "execution_count": 27,
   "metadata": {},
   "outputs": [
    {
     "data": {
      "text/plain": [
       "array([[<matplotlib.axes._subplots.AxesSubplot object at 0x000001D2C9813278>,\n",
       "        <matplotlib.axes._subplots.AxesSubplot object at 0x000001D2C9AA67F0>,\n",
       "        <matplotlib.axes._subplots.AxesSubplot object at 0x000001D2C9ACFE80>],\n",
       "       [<matplotlib.axes._subplots.AxesSubplot object at 0x000001D2C9AFF550>,\n",
       "        <matplotlib.axes._subplots.AxesSubplot object at 0x000001D2C9B25BE0>,\n",
       "        <matplotlib.axes._subplots.AxesSubplot object at 0x000001D2C9B25C18>],\n",
       "       [<matplotlib.axes._subplots.AxesSubplot object at 0x000001D2C9B7B940>,\n",
       "        <matplotlib.axes._subplots.AxesSubplot object at 0x000001D2C9BA5FD0>,\n",
       "        <matplotlib.axes._subplots.AxesSubplot object at 0x000001D2C9BD66A0>]],\n",
       "      dtype=object)"
      ]
     },
     "execution_count": 27,
     "metadata": {},
     "output_type": "execute_result"
    },
    {
     "data": {
      "image/png": "[encoded data removed]",
      "text/plain": [
       "<Figure size 1440x1080 with 9 Axes>"
      ]
     },
     "metadata": {
      "needs_background": "light"
     },
     "output_type": "display_data"
    }
   ],
   "source": [
    "%matplotlib inline\n",
    "import matplotlib.pyplot as plt\n",
    "db1[good_corr.index].hist(bins=50, figsize=(20,15))"
   ]
  },
  {
   "cell_type": "code",
   "execution_count": 28,
   "metadata": {},
   "outputs": [],
   "source": [
    "db2=db1.dropna()"
   ]
  },
  {
   "cell_type": "code",
   "execution_count": 29,
   "metadata": {},
   "outputs": [
    {
     "data": {
      "text/plain": [
       "(1025, 77)"
      ]
     },
     "execution_count": 29,
     "metadata": {},
     "output_type": "execute_result"
    }
   ],
   "source": [
    "db2.shape"
   ]
  },
  {
   "cell_type": "code",
   "execution_count": 30,
   "metadata": {},
   "outputs": [],
   "source": [
    "db_factors=db2.drop('SaleCategory', axis=1)"
   ]
  },
  {
   "cell_type": "code",
   "execution_count": 31,
   "metadata": {},
   "outputs": [
    {
     "name": "stdout",
     "output_type": "stream",
     "text": [
      "n-components=1, explained variance 0.987\n",
      "n-components=2, explained variance 0.990\n",
      "n-components=3, explained variance 0.993\n",
      "n-components=4, explained variance 0.996\n",
      "n-components=5, explained variance 0.998\n",
      "n-components=6, explained variance 0.999\n",
      "n-components=7, explained variance 0.999\n",
      "n-components=8, explained variance 0.999\n",
      "n-components=9, explained variance 1.000\n",
      "n-components=10, explained variance 1.000\n",
      "n-components=11, explained variance 1.000\n",
      "n-components=12, explained variance 1.000\n",
      "n-components=13, explained variance 1.000\n",
      "n-components=14, explained variance 1.000\n",
      "n-components=15, explained variance 1.000\n",
      "n-components=16, explained variance 1.000\n",
      "n-components=17, explained variance 1.000\n",
      "n-components=18, explained variance 1.000\n",
      "n-components=19, explained variance 1.000\n",
      "n-components=20, explained variance 1.000\n",
      "n-components=21, explained variance 1.000\n",
      "n-components=22, explained variance 1.000\n",
      "n-components=23, explained variance 1.000\n",
      "n-components=24, explained variance 1.000\n",
      "n-components=25, explained variance 1.000\n",
      "n-components=26, explained variance 1.000\n",
      "n-components=27, explained variance 1.000\n",
      "n-components=28, explained variance 1.000\n",
      "n-components=29, explained variance 1.000\n",
      "n-components=30, explained variance 1.000\n",
      "n-components=31, explained variance 1.000\n",
      "n-components=32, explained variance 1.000\n",
      "n-components=33, explained variance 1.000\n",
      "n-components=34, explained variance 1.000\n",
      "n-components=35, explained variance 1.000\n",
      "n-components=36, explained variance 1.000\n",
      "n-components=37, explained variance 1.000\n",
      "n-components=38, explained variance 1.000\n",
      "n-components=39, explained variance 1.000\n",
      "n-components=40, explained variance 1.000\n",
      "n-components=41, explained variance 1.000\n",
      "n-components=42, explained variance 1.000\n",
      "n-components=43, explained variance 1.000\n",
      "n-components=44, explained variance 1.000\n",
      "n-components=45, explained variance 1.000\n",
      "n-components=46, explained variance 1.000\n",
      "n-components=47, explained variance 1.000\n",
      "n-components=48, explained variance 1.000\n",
      "n-components=49, explained variance 1.000\n",
      "n-components=50, explained variance 1.000\n",
      "n-components=51, explained variance 1.000\n",
      "n-components=52, explained variance 1.000\n",
      "n-components=53, explained variance 1.000\n",
      "n-components=54, explained variance 1.000\n",
      "n-components=55, explained variance 1.000\n",
      "n-components=56, explained variance 1.000\n",
      "n-components=57, explained variance 1.000\n",
      "n-components=58, explained variance 1.000\n",
      "n-components=59, explained variance 1.000\n",
      "n-components=60, explained variance 1.000\n",
      "n-components=61, explained variance 1.000\n",
      "n-components=62, explained variance 1.000\n",
      "n-components=63, explained variance 1.000\n",
      "n-components=64, explained variance 1.000\n",
      "n-components=65, explained variance 1.000\n",
      "n-components=66, explained variance 1.000\n",
      "n-components=67, explained variance 1.000\n",
      "n-components=68, explained variance 1.000\n",
      "n-components=69, explained variance 1.000\n",
      "n-components=70, explained variance 1.000\n",
      "n-components=71, explained variance 1.000\n",
      "n-components=72, explained variance 1.000\n",
      "n-components=73, explained variance 1.000\n",
      "n-components=74, explained variance 1.000\n",
      "n-components=75, explained variance 1.000\n",
      "n-components=76, explained variance 1.000\n"
     ]
    }
   ],
   "source": [
    "from sklearn.decomposition import PCA\n",
    "pca = PCA(n_components=db_factors.shape[1]).fit(db_factors)\n",
    "for i in range(1, db_factors.shape[1] + 1):\n",
    "    print(\"n-components=%s, explained variance %.3f\" % (i, sum(pca.explained_variance_ratio_[:i])))"
   ]
  },
  {
   "cell_type": "markdown",
   "metadata": {},
   "source": [
    "можно взять 9 компонентов"
   ]
  },
  {
   "cell_type": "code",
   "execution_count": 32,
   "metadata": {},
   "outputs": [],
   "source": [
    "from sklearn.model_selection import cross_val_score\n",
    "from sklearn.model_selection import KFold\n",
    "from sklearn import linear_model\n",
    "kf = KFold(n_splits=5)\n",
    "lasso = linear_model.Lasso()\n",
    "results = cross_val_score(lasso, db_factors, db2['SaleCategory'], cv=kf)"
   ]
  },
  {
   "cell_type": "code",
   "execution_count": 33,
   "metadata": {},
   "outputs": [
    {
     "data": {
      "text/plain": [
       "array([0.55412722, 0.41387787, 0.55616925, 0.51343208, 0.50697593])"
      ]
     },
     "execution_count": 33,
     "metadata": {},
     "output_type": "execute_result"
    }
   ],
   "source": [
    "results"
   ]
  },
  {
   "cell_type": "code",
   "execution_count": 34,
   "metadata": {},
   "outputs": [
    {
     "data": {
      "text/plain": [
       "0.8926829268292683"
      ]
     },
     "execution_count": 34,
     "metadata": {},
     "output_type": "execute_result"
    }
   ],
   "source": [
    "from sklearn.linear_model import LogisticRegression\n",
    "model = LogisticRegression(random_state=0, solver='lbfgs',multi_class='multinomial').fit(db_factors, db2['SaleCategory'])\n",
    "model.score(db_factors, db2['SaleCategory'])"
   ]
  },
  {
   "cell_type": "code",
   "execution_count": 36,
   "metadata": {},
   "outputs": [
    {
     "data": {
      "text/plain": [
       "0.8868292682926829"
      ]
     },
     "execution_count": 36,
     "metadata": {},
     "output_type": "execute_result"
    }
   ],
   "source": [
    "new_factors = PCA(n_components=9).fit_transform(db_factors)\n",
    "model2 = LogisticRegression(random_state=0, solver='lbfgs',multi_class='multinomial').fit(new_factors, db2['SaleCategory'])\n",
    "model2.score(new_factors, db2['SaleCategory'])"
   ]
  },
  {
   "cell_type": "code",
   "execution_count": 38,
   "metadata": {},
   "outputs": [
    {
     "name": "stdout",
     "output_type": "stream",
     "text": [
      "0.8926829268292683\n",
      "0.8842009499279284\n"
     ]
    }
   ],
   "source": [
    "y_predict=model.predict(db_factors)\n",
    "from sklearn.metrics import accuracy_score\n",
    "print(accuracy_score(db2['SaleCategory'], y_predict))\n",
    "from sklearn.metrics import recall_score\n",
    "print(recall_score(db2['SaleCategory'], y_predict, average='macro'))"
   ]
  },
  {
   "cell_type": "code",
   "execution_count": null,
   "metadata": {},
   "outputs": [],
   "source": [
    "from sklearn.ensemble import RandomForestClassifier\n",
    "clf = RandomForestClassifier(n_estimators=100, max_depth=2,random_state=0)\n",
    "model1=clf.fit(db_factors, db2['SaleCategory'])\n",
    "model1.score(db_factors, db2['SaleCategory'])"
   ]
  },
  {
   "cell_type": "code",
   "execution_count": null,
   "metadata": {},
   "outputs": [],
   "source": [
    "y_predict1=model1.predict(db_factors)\n",
    "accuracy_score(db2['SaleCategory'], y_predict1)\n",
    "recall_score(db2['SaleCategory'], y_predict1, average='macro')"
   ]
  }
 ],
 "metadata": {
  "kernelspec": {
   "display_name": "Python 3",
   "language": "python",
   "name": "python3"
  },
  "language_info": {
   "codemirror_mode": {
    "name": "ipython",
    "version": 3
   },
   "file_extension": ".py",
   "mimetype": "text/x-python",
   "name": "python",
   "nbconvert_exporter": "python",
   "pygments_lexer": "ipython3",
   "version": "3.7.0"
  }
 },
 "nbformat": 4,
 "nbformat_minor": 2
}
