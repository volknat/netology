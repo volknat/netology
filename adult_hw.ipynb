{
 "cells": [
  {
   "cell_type": "code",
   "execution_count": 1,
   "metadata": {},
   "outputs": [],
   "source": [
    "import pandas as pd\n",
    "db=pd.read_csv('adult.csv')"
   ]
  },
  {
   "cell_type": "code",
   "execution_count": 2,
   "metadata": {},
   "outputs": [
    {
     "name": "stdout",
     "output_type": "stream",
     "text": [
      "<class 'pandas.core.frame.DataFrame'>\n",
      "RangeIndex: 48842 entries, 0 to 48841\n",
      "Data columns (total 15 columns):\n",
      "age                48842 non-null int64\n",
      "workclass          48842 non-null object\n",
      "fnlwgt             48842 non-null int64\n",
      "education          48842 non-null object\n",
      "educational-num    48842 non-null int64\n",
      "marital-status     48842 non-null object\n",
      "occupation         48842 non-null object\n",
      "relationship       48842 non-null object\n",
      "race               48842 non-null object\n",
      "gender             48842 non-null object\n",
      "capital-gain       48842 non-null int64\n",
      "capital-loss       48842 non-null int64\n",
      "hours-per-week     48842 non-null int64\n",
      "native-country     48842 non-null object\n",
      "income             48842 non-null object\n",
      "dtypes: int64(6), object(9)\n",
      "memory usage: 5.6+ MB\n"
     ]
    }
   ],
   "source": [
    "db.info()"
   ]
  },
  {
   "cell_type": "code",
   "execution_count": 3,
   "metadata": {},
   "outputs": [
    {
     "data": {
      "text/plain": [
       "Prof-specialty       6172\n",
       "Craft-repair         6112\n",
       "Exec-managerial      6086\n",
       "Adm-clerical         5611\n",
       "Sales                5504\n",
       "Other-service        4923\n",
       "Machine-op-inspct    3022\n",
       "?                    2809\n",
       "Transport-moving     2355\n",
       "Handlers-cleaners    2072\n",
       "Farming-fishing      1490\n",
       "Tech-support         1446\n",
       "Protective-serv       983\n",
       "Priv-house-serv       242\n",
       "Armed-Forces           15\n",
       "Name: occupation, dtype: int64"
      ]
     },
     "execution_count": 3,
     "metadata": {},
     "output_type": "execute_result"
    }
   ],
   "source": [
    "db['occupation'].value_counts()"
   ]
  },
  {
   "cell_type": "code",
   "execution_count": 4,
   "metadata": {},
   "outputs": [],
   "source": [
    "res=[]\n",
    "for i in db.columns:\n",
    "    if '?' in db[i].value_counts().index.tolist():\n",
    "        res.append(db[i].value_counts()['?'])\n",
    "    else:\n",
    "        res.append(0)"
   ]
  },
  {
   "cell_type": "code",
   "execution_count": 5,
   "metadata": {},
   "outputs": [
    {
     "data": {
      "text/plain": [
       "[0, 2799, 0, 0, 0, 0, 2809, 0, 0, 0, 0, 0, 0, 857, 0]"
      ]
     },
     "execution_count": 5,
     "metadata": {},
     "output_type": "execute_result"
    }
   ],
   "source": [
    "res"
   ]
  },
  {
   "cell_type": "code",
   "execution_count": 6,
   "metadata": {},
   "outputs": [
    {
     "data": {
      "text/plain": [
       "?               2799\n",
       "Never-worked      10\n",
       "Name: workclass, dtype: int64"
      ]
     },
     "execution_count": 6,
     "metadata": {},
     "output_type": "execute_result"
    }
   ],
   "source": [
    "db[db['occupation']=='?']['workclass'].value_counts()"
   ]
  },
  {
   "cell_type": "code",
   "execution_count": 7,
   "metadata": {},
   "outputs": [
    {
     "data": {
      "text/plain": [
       "?    2799\n",
       "Name: occupation, dtype: int64"
      ]
     },
     "execution_count": 7,
     "metadata": {},
     "output_type": "execute_result"
    }
   ],
   "source": [
    "db[db['workclass']=='?']['occupation'].value_counts()"
   ]
  },
  {
   "cell_type": "markdown",
   "metadata": {},
   "source": [
    "примем решение удалить строки со знаками вопроса, их не так много"
   ]
  },
  {
   "cell_type": "code",
   "execution_count": 8,
   "metadata": {},
   "outputs": [
    {
     "data": {
      "text/plain": [
       "age                           29\n",
       "workclass                      ?\n",
       "fnlwgt                    227026\n",
       "education                HS-grad\n",
       "educational-num                9\n",
       "marital-status     Never-married\n",
       "occupation                     ?\n",
       "relationship           Unmarried\n",
       "race                       Black\n",
       "gender                      Male\n",
       "capital-gain                   0\n",
       "capital-loss                   0\n",
       "hours-per-week                40\n",
       "native-country     United-States\n",
       "income                     <=50K\n",
       "Name: 6, dtype: object"
      ]
     },
     "execution_count": 8,
     "metadata": {},
     "output_type": "execute_result"
    }
   ],
   "source": [
    "db.loc[6]"
   ]
  },
  {
   "cell_type": "code",
   "execution_count": 9,
   "metadata": {},
   "outputs": [],
   "source": [
    "for i in range(48842):\n",
    "    if '?' in db.loc[i].values.tolist():\n",
    "        db=db.drop(i, axis=0)"
   ]
  },
  {
   "cell_type": "code",
   "execution_count": 10,
   "metadata": {},
   "outputs": [
    {
     "name": "stdout",
     "output_type": "stream",
     "text": [
      "<class 'pandas.core.frame.DataFrame'>\n",
      "Int64Index: 45222 entries, 0 to 48841\n",
      "Data columns (total 15 columns):\n",
      "age                45222 non-null int64\n",
      "workclass          45222 non-null object\n",
      "fnlwgt             45222 non-null int64\n",
      "education          45222 non-null object\n",
      "educational-num    45222 non-null int64\n",
      "marital-status     45222 non-null object\n",
      "occupation         45222 non-null object\n",
      "relationship       45222 non-null object\n",
      "race               45222 non-null object\n",
      "gender             45222 non-null object\n",
      "capital-gain       45222 non-null int64\n",
      "capital-loss       45222 non-null int64\n",
      "hours-per-week     45222 non-null int64\n",
      "native-country     45222 non-null object\n",
      "income             45222 non-null object\n",
      "dtypes: int64(6), object(9)\n",
      "memory usage: 6.8+ MB\n"
     ]
    }
   ],
   "source": [
    "db.info()"
   ]
  },
  {
   "cell_type": "code",
   "execution_count": 11,
   "metadata": {},
   "outputs": [
    {
     "data": {
      "text/plain": [
       "<=50K    34014\n",
       ">50K     11208\n",
       "Name: income, dtype: int64"
      ]
     },
     "execution_count": 11,
     "metadata": {},
     "output_type": "execute_result"
    }
   ],
   "source": [
    "db['income'].value_counts()"
   ]
  },
  {
   "cell_type": "markdown",
   "metadata": {},
   "source": [
    "кодируем таргет, как 1 и 0"
   ]
  },
  {
   "cell_type": "code",
   "execution_count": 12,
   "metadata": {},
   "outputs": [],
   "source": [
    "income_res=[]\n",
    "for i in db['income'].values.tolist():\n",
    "    if i=='<=50K':\n",
    "        income_res.append(1)\n",
    "    else:\n",
    "        income_res.append(0)\n",
    "db['income_target']=income_res\n",
    "db=db.drop('income', axis=1)"
   ]
  },
  {
   "cell_type": "markdown",
   "metadata": {},
   "source": [
    "делим на тест и трейн"
   ]
  },
  {
   "cell_type": "code",
   "execution_count": 13,
   "metadata": {},
   "outputs": [],
   "source": [
    "from sklearn.model_selection import train_test_split\n",
    "train_set, test_set = train_test_split(db, test_size=0.2, random_state=42)"
   ]
  },
  {
   "cell_type": "code",
   "execution_count": 14,
   "metadata": {},
   "outputs": [
    {
     "name": "stdout",
     "output_type": "stream",
     "text": [
      "[0, 'workclass', 0, 'education', 0, 'marital-status', 'occupation', 'relationship', 'race', 'gender', 0, 0, 0, 'native-country', 0]\n"
     ]
    }
   ],
   "source": [
    "import numpy as np\n",
    "res2=[]\n",
    "for i in db.columns:\n",
    "    res1=[]\n",
    "    for j in db[i].values.tolist():\n",
    "        if isinstance(j, str)==True:\n",
    "            res1.append(1)\n",
    "        else:\n",
    "            res1.append(0)\n",
    "    if sum(res1)>0:\n",
    "        res2.append(i)\n",
    "    else:\n",
    "        res2.append(0)\n",
    "print (res2)"
   ]
  },
  {
   "cell_type": "code",
   "execution_count": 15,
   "metadata": {},
   "outputs": [],
   "source": [
    "category_columns=[x for x in res2 if x!=0]"
   ]
  },
  {
   "cell_type": "markdown",
   "metadata": {},
   "source": [
    "кодируем категориальные признаки"
   ]
  },
  {
   "cell_type": "code",
   "execution_count": 16,
   "metadata": {},
   "outputs": [],
   "source": [
    "def get_woe_v1(db, db_test, col, target_col):\n",
    "    all_good = len(db[db[target_col] == 1][col])\n",
    "    all_bad = len(db[db[target_col] == 0][col])\n",
    "    odds_series = (\n",
    "        db[db[target_col] == 1][col].value_counts()\n",
    "        /\n",
    "        db[db[target_col] == 0][col].value_counts()\n",
    "    )\n",
    "    odds_series = odds_series / all_good * all_bad\n",
    "    category_woe_dict = np.log(odds_series).to_dict()\n",
    "    db[col + '_woe'] = db[col].apply(category_woe_dict.get)\n",
    "    db_test[col + '_woe'] = db_test[col].apply(category_woe_dict.get)\n",
    "    return db, db_test"
   ]
  },
  {
   "cell_type": "code",
   "execution_count": 17,
   "metadata": {},
   "outputs": [
    {
     "name": "stderr",
     "output_type": "stream",
     "text": [
      "C:\\Users\\volko\\Anaconda3\\lib\\site-packages\\ipykernel_launcher.py:11: SettingWithCopyWarning: \n",
      "A value is trying to be set on a copy of a slice from a DataFrame.\n",
      "Try using .loc[row_indexer,col_indexer] = value instead\n",
      "\n",
      "See the caveats in the documentation: http://pandas.pydata.org/pandas-docs/stable/indexing.html#indexing-view-versus-copy\n",
      "  # This is added back by InteractiveShellApp.init_path()\n",
      "C:\\Users\\volko\\Anaconda3\\lib\\site-packages\\ipykernel_launcher.py:12: SettingWithCopyWarning: \n",
      "A value is trying to be set on a copy of a slice from a DataFrame.\n",
      "Try using .loc[row_indexer,col_indexer] = value instead\n",
      "\n",
      "See the caveats in the documentation: http://pandas.pydata.org/pandas-docs/stable/indexing.html#indexing-view-versus-copy\n",
      "  if sys.path[0] == '':\n"
     ]
    }
   ],
   "source": [
    "for i in category_columns:\n",
    "    get_woe_v1(train_set, test_set ,i, 'income_target')"
   ]
  },
  {
   "cell_type": "code",
   "execution_count": 18,
   "metadata": {},
   "outputs": [],
   "source": [
    "train_set=train_set.drop(category_columns, axis=1)\n",
    "test_set=test_set.drop(category_columns, axis=1)"
   ]
  },
  {
   "cell_type": "code",
   "execution_count": 19,
   "metadata": {},
   "outputs": [],
   "source": [
    "corr_matrix=train_set.corr()"
   ]
  },
  {
   "cell_type": "code",
   "execution_count": 20,
   "metadata": {},
   "outputs": [
    {
     "data": {
      "text/html": [
       "<div>\n",
       "<style scoped>\n",
       "    .dataframe tbody tr th:only-of-type {\n",
       "        vertical-align: middle;\n",
       "    }\n",
       "\n",
       "    .dataframe tbody tr th {\n",
       "        vertical-align: top;\n",
       "    }\n",
       "\n",
       "    .dataframe thead th {\n",
       "        text-align: right;\n",
       "    }\n",
       "</style>\n",
       "<table border=\"1\" class=\"dataframe\">\n",
       "  <thead>\n",
       "    <tr style=\"text-align: right;\">\n",
       "      <th></th>\n",
       "      <th>age</th>\n",
       "      <th>fnlwgt</th>\n",
       "      <th>educational-num</th>\n",
       "      <th>capital-gain</th>\n",
       "      <th>capital-loss</th>\n",
       "      <th>hours-per-week</th>\n",
       "      <th>income_target</th>\n",
       "      <th>workclass_woe</th>\n",
       "      <th>education_woe</th>\n",
       "      <th>marital-status_woe</th>\n",
       "      <th>occupation_woe</th>\n",
       "      <th>relationship_woe</th>\n",
       "      <th>race_woe</th>\n",
       "      <th>gender_woe</th>\n",
       "      <th>native-country_woe</th>\n",
       "    </tr>\n",
       "  </thead>\n",
       "  <tbody>\n",
       "    <tr>\n",
       "      <th>age</th>\n",
       "      <td>1.000000</td>\n",
       "      <td>-0.074184</td>\n",
       "      <td>0.039578</td>\n",
       "      <td>0.079746</td>\n",
       "      <td>0.059814</td>\n",
       "      <td>0.103438</td>\n",
       "      <td>-0.239593</td>\n",
       "      <td>-0.184865</td>\n",
       "      <td>-0.086794</td>\n",
       "      <td>-0.385446</td>\n",
       "      <td>-0.144186</td>\n",
       "      <td>-0.408481</td>\n",
       "      <td>-0.026356</td>\n",
       "      <td>-0.081418</td>\n",
       "      <td>-0.060128</td>\n",
       "    </tr>\n",
       "    <tr>\n",
       "      <th>fnlwgt</th>\n",
       "      <td>-0.074184</td>\n",
       "      <td>1.000000</td>\n",
       "      <td>-0.041268</td>\n",
       "      <td>-0.000201</td>\n",
       "      <td>-0.006288</td>\n",
       "      <td>-0.021149</td>\n",
       "      <td>0.005027</td>\n",
       "      <td>0.037004</td>\n",
       "      <td>0.037328</td>\n",
       "      <td>0.034522</td>\n",
       "      <td>0.010689</td>\n",
       "      <td>0.032467</td>\n",
       "      <td>0.103301</td>\n",
       "      <td>-0.027418</td>\n",
       "      <td>0.120438</td>\n",
       "    </tr>\n",
       "    <tr>\n",
       "      <th>educational-num</th>\n",
       "      <td>0.039578</td>\n",
       "      <td>-0.041268</td>\n",
       "      <td>1.000000</td>\n",
       "      <td>0.127142</td>\n",
       "      <td>0.081148</td>\n",
       "      <td>0.149340</td>\n",
       "      <td>-0.333502</td>\n",
       "      <td>-0.150889</td>\n",
       "      <td>-0.966184</td>\n",
       "      <td>-0.073788</td>\n",
       "      <td>-0.454160</td>\n",
       "      <td>-0.122541</td>\n",
       "      <td>-0.092575</td>\n",
       "      <td>-0.005935</td>\n",
       "      <td>-0.253661</td>\n",
       "    </tr>\n",
       "    <tr>\n",
       "      <th>capital-gain</th>\n",
       "      <td>0.079746</td>\n",
       "      <td>-0.000201</td>\n",
       "      <td>0.127142</td>\n",
       "      <td>1.000000</td>\n",
       "      <td>-0.032315</td>\n",
       "      <td>0.083739</td>\n",
       "      <td>-0.221154</td>\n",
       "      <td>-0.090947</td>\n",
       "      <td>-0.148052</td>\n",
       "      <td>-0.081119</td>\n",
       "      <td>-0.098178</td>\n",
       "      <td>-0.083861</td>\n",
       "      <td>-0.026603</td>\n",
       "      <td>-0.051509</td>\n",
       "      <td>-0.018453</td>\n",
       "    </tr>\n",
       "    <tr>\n",
       "      <th>capital-loss</th>\n",
       "      <td>0.059814</td>\n",
       "      <td>-0.006288</td>\n",
       "      <td>0.081148</td>\n",
       "      <td>-0.032315</td>\n",
       "      <td>1.000000</td>\n",
       "      <td>0.051973</td>\n",
       "      <td>-0.148969</td>\n",
       "      <td>-0.043774</td>\n",
       "      <td>-0.089599</td>\n",
       "      <td>-0.074451</td>\n",
       "      <td>-0.081657</td>\n",
       "      <td>-0.078864</td>\n",
       "      <td>-0.024563</td>\n",
       "      <td>-0.044163</td>\n",
       "      <td>-0.022906</td>\n",
       "    </tr>\n",
       "    <tr>\n",
       "      <th>hours-per-week</th>\n",
       "      <td>0.103438</td>\n",
       "      <td>-0.021149</td>\n",
       "      <td>0.149340</td>\n",
       "      <td>0.083739</td>\n",
       "      <td>0.051973</td>\n",
       "      <td>1.000000</td>\n",
       "      <td>-0.230053</td>\n",
       "      <td>-0.129021</td>\n",
       "      <td>-0.170677</td>\n",
       "      <td>-0.240760</td>\n",
       "      <td>-0.215435</td>\n",
       "      <td>-0.289865</td>\n",
       "      <td>-0.049973</td>\n",
       "      <td>-0.232458</td>\n",
       "      <td>-0.019033</td>\n",
       "    </tr>\n",
       "    <tr>\n",
       "      <th>income_target</th>\n",
       "      <td>-0.239593</td>\n",
       "      <td>0.005027</td>\n",
       "      <td>-0.333502</td>\n",
       "      <td>-0.221154</td>\n",
       "      <td>-0.148969</td>\n",
       "      <td>-0.230053</td>\n",
       "      <td>1.000000</td>\n",
       "      <td>0.165910</td>\n",
       "      <td>0.352802</td>\n",
       "      <td>0.444984</td>\n",
       "      <td>0.335405</td>\n",
       "      <td>0.435619</td>\n",
       "      <td>0.097773</td>\n",
       "      <td>0.217528</td>\n",
       "      <td>0.095822</td>\n",
       "    </tr>\n",
       "    <tr>\n",
       "      <th>workclass_woe</th>\n",
       "      <td>-0.184865</td>\n",
       "      <td>0.037004</td>\n",
       "      <td>-0.150889</td>\n",
       "      <td>-0.090947</td>\n",
       "      <td>-0.043774</td>\n",
       "      <td>-0.129021</td>\n",
       "      <td>0.165910</td>\n",
       "      <td>1.000000</td>\n",
       "      <td>0.163468</td>\n",
       "      <td>0.143794</td>\n",
       "      <td>0.181977</td>\n",
       "      <td>0.146810</td>\n",
       "      <td>0.021860</td>\n",
       "      <td>0.087234</td>\n",
       "      <td>0.054968</td>\n",
       "    </tr>\n",
       "    <tr>\n",
       "      <th>education_woe</th>\n",
       "      <td>-0.086794</td>\n",
       "      <td>0.037328</td>\n",
       "      <td>-0.966184</td>\n",
       "      <td>-0.148052</td>\n",
       "      <td>-0.089599</td>\n",
       "      <td>-0.170677</td>\n",
       "      <td>0.352802</td>\n",
       "      <td>0.163468</td>\n",
       "      <td>1.000000</td>\n",
       "      <td>0.100751</td>\n",
       "      <td>0.463618</td>\n",
       "      <td>0.154485</td>\n",
       "      <td>0.098757</td>\n",
       "      <td>0.021109</td>\n",
       "      <td>0.204705</td>\n",
       "    </tr>\n",
       "    <tr>\n",
       "      <th>marital-status_woe</th>\n",
       "      <td>-0.385446</td>\n",
       "      <td>0.034522</td>\n",
       "      <td>-0.073788</td>\n",
       "      <td>-0.081119</td>\n",
       "      <td>-0.074451</td>\n",
       "      <td>-0.240760</td>\n",
       "      <td>0.444984</td>\n",
       "      <td>0.143794</td>\n",
       "      <td>0.100751</td>\n",
       "      <td>1.000000</td>\n",
       "      <td>0.214432</td>\n",
       "      <td>0.892875</td>\n",
       "      <td>0.123564</td>\n",
       "      <td>0.400468</td>\n",
       "      <td>0.030330</td>\n",
       "    </tr>\n",
       "    <tr>\n",
       "      <th>occupation_woe</th>\n",
       "      <td>-0.144186</td>\n",
       "      <td>0.010689</td>\n",
       "      <td>-0.454160</td>\n",
       "      <td>-0.098178</td>\n",
       "      <td>-0.081657</td>\n",
       "      <td>-0.215435</td>\n",
       "      <td>0.335405</td>\n",
       "      <td>0.181977</td>\n",
       "      <td>0.463618</td>\n",
       "      <td>0.214432</td>\n",
       "      <td>1.000000</td>\n",
       "      <td>0.249708</td>\n",
       "      <td>0.124152</td>\n",
       "      <td>0.133390</td>\n",
       "      <td>0.133173</td>\n",
       "    </tr>\n",
       "    <tr>\n",
       "      <th>relationship_woe</th>\n",
       "      <td>-0.408481</td>\n",
       "      <td>0.032467</td>\n",
       "      <td>-0.122541</td>\n",
       "      <td>-0.083861</td>\n",
       "      <td>-0.078864</td>\n",
       "      <td>-0.289865</td>\n",
       "      <td>0.435619</td>\n",
       "      <td>0.146810</td>\n",
       "      <td>0.154485</td>\n",
       "      <td>0.892875</td>\n",
       "      <td>0.249708</td>\n",
       "      <td>1.000000</td>\n",
       "      <td>0.114653</td>\n",
       "      <td>0.380976</td>\n",
       "      <td>0.034345</td>\n",
       "    </tr>\n",
       "    <tr>\n",
       "      <th>race_woe</th>\n",
       "      <td>-0.026356</td>\n",
       "      <td>0.103301</td>\n",
       "      <td>-0.092575</td>\n",
       "      <td>-0.026603</td>\n",
       "      <td>-0.024563</td>\n",
       "      <td>-0.049973</td>\n",
       "      <td>0.097773</td>\n",
       "      <td>0.021860</td>\n",
       "      <td>0.098757</td>\n",
       "      <td>0.123564</td>\n",
       "      <td>0.124152</td>\n",
       "      <td>0.114653</td>\n",
       "      <td>1.000000</td>\n",
       "      <td>0.112052</td>\n",
       "      <td>0.041597</td>\n",
       "    </tr>\n",
       "    <tr>\n",
       "      <th>gender_woe</th>\n",
       "      <td>-0.081418</td>\n",
       "      <td>-0.027418</td>\n",
       "      <td>-0.005935</td>\n",
       "      <td>-0.051509</td>\n",
       "      <td>-0.044163</td>\n",
       "      <td>-0.232458</td>\n",
       "      <td>0.217528</td>\n",
       "      <td>0.087234</td>\n",
       "      <td>0.021109</td>\n",
       "      <td>0.400468</td>\n",
       "      <td>0.133390</td>\n",
       "      <td>0.380976</td>\n",
       "      <td>0.112052</td>\n",
       "      <td>1.000000</td>\n",
       "      <td>-0.004812</td>\n",
       "    </tr>\n",
       "    <tr>\n",
       "      <th>native-country_woe</th>\n",
       "      <td>-0.060128</td>\n",
       "      <td>0.120438</td>\n",
       "      <td>-0.253661</td>\n",
       "      <td>-0.018453</td>\n",
       "      <td>-0.022906</td>\n",
       "      <td>-0.019033</td>\n",
       "      <td>0.095822</td>\n",
       "      <td>0.054968</td>\n",
       "      <td>0.204705</td>\n",
       "      <td>0.030330</td>\n",
       "      <td>0.133173</td>\n",
       "      <td>0.034345</td>\n",
       "      <td>0.041597</td>\n",
       "      <td>-0.004812</td>\n",
       "      <td>1.000000</td>\n",
       "    </tr>\n",
       "  </tbody>\n",
       "</table>\n",
       "</div>"
      ],
      "text/plain": [
       "                         age    fnlwgt  educational-num  capital-gain  \\\n",
       "age                 1.000000 -0.074184         0.039578      0.079746   \n",
       "fnlwgt             -0.074184  1.000000        -0.041268     -0.000201   \n",
       "educational-num     0.039578 -0.041268         1.000000      0.127142   \n",
       "capital-gain        0.079746 -0.000201         0.127142      1.000000   \n",
       "capital-loss        0.059814 -0.006288         0.081148     -0.032315   \n",
       "hours-per-week      0.103438 -0.021149         0.149340      0.083739   \n",
       "income_target      -0.239593  0.005027        -0.333502     -0.221154   \n",
       "workclass_woe      -0.184865  0.037004        -0.150889     -0.090947   \n",
       "education_woe      -0.086794  0.037328        -0.966184     -0.148052   \n",
       "marital-status_woe -0.385446  0.034522        -0.073788     -0.081119   \n",
       "occupation_woe     -0.144186  0.010689        -0.454160     -0.098178   \n",
       "relationship_woe   -0.408481  0.032467        -0.122541     -0.083861   \n",
       "race_woe           -0.026356  0.103301        -0.092575     -0.026603   \n",
       "gender_woe         -0.081418 -0.027418        -0.005935     -0.051509   \n",
       "native-country_woe -0.060128  0.120438        -0.253661     -0.018453   \n",
       "\n",
       "                    capital-loss  hours-per-week  income_target  \\\n",
       "age                     0.059814        0.103438      -0.239593   \n",
       "fnlwgt                 -0.006288       -0.021149       0.005027   \n",
       "educational-num         0.081148        0.149340      -0.333502   \n",
       "capital-gain           -0.032315        0.083739      -0.221154   \n",
       "capital-loss            1.000000        0.051973      -0.148969   \n",
       "hours-per-week          0.051973        1.000000      -0.230053   \n",
       "income_target          -0.148969       -0.230053       1.000000   \n",
       "workclass_woe          -0.043774       -0.129021       0.165910   \n",
       "education_woe          -0.089599       -0.170677       0.352802   \n",
       "marital-status_woe     -0.074451       -0.240760       0.444984   \n",
       "occupation_woe         -0.081657       -0.215435       0.335405   \n",
       "relationship_woe       -0.078864       -0.289865       0.435619   \n",
       "race_woe               -0.024563       -0.049973       0.097773   \n",
       "gender_woe             -0.044163       -0.232458       0.217528   \n",
       "native-country_woe     -0.022906       -0.019033       0.095822   \n",
       "\n",
       "                    workclass_woe  education_woe  marital-status_woe  \\\n",
       "age                     -0.184865      -0.086794           -0.385446   \n",
       "fnlwgt                   0.037004       0.037328            0.034522   \n",
       "educational-num         -0.150889      -0.966184           -0.073788   \n",
       "capital-gain            -0.090947      -0.148052           -0.081119   \n",
       "capital-loss            -0.043774      -0.089599           -0.074451   \n",
       "hours-per-week          -0.129021      -0.170677           -0.240760   \n",
       "income_target            0.165910       0.352802            0.444984   \n",
       "workclass_woe            1.000000       0.163468            0.143794   \n",
       "education_woe            0.163468       1.000000            0.100751   \n",
       "marital-status_woe       0.143794       0.100751            1.000000   \n",
       "occupation_woe           0.181977       0.463618            0.214432   \n",
       "relationship_woe         0.146810       0.154485            0.892875   \n",
       "race_woe                 0.021860       0.098757            0.123564   \n",
       "gender_woe               0.087234       0.021109            0.400468   \n",
       "native-country_woe       0.054968       0.204705            0.030330   \n",
       "\n",
       "                    occupation_woe  relationship_woe  race_woe  gender_woe  \\\n",
       "age                      -0.144186         -0.408481 -0.026356   -0.081418   \n",
       "fnlwgt                    0.010689          0.032467  0.103301   -0.027418   \n",
       "educational-num          -0.454160         -0.122541 -0.092575   -0.005935   \n",
       "capital-gain             -0.098178         -0.083861 -0.026603   -0.051509   \n",
       "capital-loss             -0.081657         -0.078864 -0.024563   -0.044163   \n",
       "hours-per-week           -0.215435         -0.289865 -0.049973   -0.232458   \n",
       "income_target             0.335405          0.435619  0.097773    0.217528   \n",
       "workclass_woe             0.181977          0.146810  0.021860    0.087234   \n",
       "education_woe             0.463618          0.154485  0.098757    0.021109   \n",
       "marital-status_woe        0.214432          0.892875  0.123564    0.400468   \n",
       "occupation_woe            1.000000          0.249708  0.124152    0.133390   \n",
       "relationship_woe          0.249708          1.000000  0.114653    0.380976   \n",
       "race_woe                  0.124152          0.114653  1.000000    0.112052   \n",
       "gender_woe                0.133390          0.380976  0.112052    1.000000   \n",
       "native-country_woe        0.133173          0.034345  0.041597   -0.004812   \n",
       "\n",
       "                    native-country_woe  \n",
       "age                          -0.060128  \n",
       "fnlwgt                        0.120438  \n",
       "educational-num              -0.253661  \n",
       "capital-gain                 -0.018453  \n",
       "capital-loss                 -0.022906  \n",
       "hours-per-week               -0.019033  \n",
       "income_target                 0.095822  \n",
       "workclass_woe                 0.054968  \n",
       "education_woe                 0.204705  \n",
       "marital-status_woe            0.030330  \n",
       "occupation_woe                0.133173  \n",
       "relationship_woe              0.034345  \n",
       "race_woe                      0.041597  \n",
       "gender_woe                   -0.004812  \n",
       "native-country_woe            1.000000  "
      ]
     },
     "execution_count": 20,
     "metadata": {},
     "output_type": "execute_result"
    }
   ],
   "source": [
    "corr_matrix"
   ]
  },
  {
   "cell_type": "code",
   "execution_count": 21,
   "metadata": {},
   "outputs": [],
   "source": [
    "train_set=train_set.drop('educational-num', axis=1)\n",
    "test_set=test_set.drop('educational-num', axis=1)"
   ]
  },
  {
   "cell_type": "markdown",
   "metadata": {},
   "source": [
    "удалили коррелирующие факторы, мультколлинеарность не сильно выражена"
   ]
  },
  {
   "cell_type": "code",
   "execution_count": 22,
   "metadata": {},
   "outputs": [],
   "source": [
    "corr_target=corr_matrix['income_target'].abs().sort_values()"
   ]
  },
  {
   "cell_type": "code",
   "execution_count": 23,
   "metadata": {},
   "outputs": [],
   "source": [
    "corr_target_list=corr_target.index.tolist()"
   ]
  },
  {
   "cell_type": "code",
   "execution_count": 24,
   "metadata": {},
   "outputs": [
    {
     "data": {
      "text/plain": [
       "['fnlwgt',\n",
       " 'native-country_woe',\n",
       " 'race_woe',\n",
       " 'capital-loss',\n",
       " 'workclass_woe',\n",
       " 'gender_woe',\n",
       " 'capital-gain',\n",
       " 'hours-per-week',\n",
       " 'age',\n",
       " 'educational-num',\n",
       " 'occupation_woe',\n",
       " 'education_woe',\n",
       " 'relationship_woe',\n",
       " 'marital-status_woe',\n",
       " 'income_target']"
      ]
     },
     "execution_count": 24,
     "metadata": {},
     "output_type": "execute_result"
    }
   ],
   "source": [
    "corr_target_list"
   ]
  },
  {
   "cell_type": "code",
   "execution_count": 25,
   "metadata": {},
   "outputs": [],
   "source": [
    "corr_target_list.remove('marital-status_woe')"
   ]
  },
  {
   "cell_type": "code",
   "execution_count": 26,
   "metadata": {},
   "outputs": [],
   "source": [
    "corr_target_list.remove('educational-num')"
   ]
  },
  {
   "cell_type": "code",
   "execution_count": 27,
   "metadata": {},
   "outputs": [],
   "source": [
    "corr_target_list.remove('income_target')"
   ]
  },
  {
   "cell_type": "code",
   "execution_count": 28,
   "metadata": {},
   "outputs": [],
   "source": [
    "train_set=train_set.dropna()"
   ]
  },
  {
   "cell_type": "code",
   "execution_count": 29,
   "metadata": {},
   "outputs": [],
   "source": [
    "X=train_set.drop('income_target', axis=1)\n",
    "Y=train_set['income_target']"
   ]
  },
  {
   "cell_type": "code",
   "execution_count": 30,
   "metadata": {},
   "outputs": [
    {
     "name": "stdout",
     "output_type": "stream",
     "text": [
      "<class 'pandas.core.frame.DataFrame'>\n",
      "Int64Index: 36161 entries, 8605 to 17081\n",
      "Data columns (total 13 columns):\n",
      "age                   36161 non-null int64\n",
      "fnlwgt                36161 non-null int64\n",
      "capital-gain          36161 non-null int64\n",
      "capital-loss          36161 non-null int64\n",
      "hours-per-week        36161 non-null int64\n",
      "workclass_woe         36161 non-null float64\n",
      "education_woe         36161 non-null float64\n",
      "marital-status_woe    36161 non-null float64\n",
      "occupation_woe        36161 non-null float64\n",
      "relationship_woe      36161 non-null float64\n",
      "race_woe              36161 non-null float64\n",
      "gender_woe            36161 non-null float64\n",
      "native-country_woe    36161 non-null float64\n",
      "dtypes: float64(8), int64(5)\n",
      "memory usage: 3.9 MB\n"
     ]
    }
   ],
   "source": [
    "X.info()"
   ]
  },
  {
   "cell_type": "markdown",
   "metadata": {},
   "source": [
    "перебираем признаки"
   ]
  },
  {
   "cell_type": "code",
   "execution_count": 31,
   "metadata": {},
   "outputs": [],
   "source": [
    "from sklearn.linear_model import LogisticRegression\n",
    "from sklearn.metrics import roc_auc_score\n",
    "model = LogisticRegression(random_state=0, solver='lbfgs',multi_class='multinomial').fit(X, Y)\n",
    "y_predict=model.predict(X)\n",
    "model.score(X, Y)\n",
    "roc_auc1 = np.round(roc_auc_score(Y, y_predict), 2)\n",
    "roc_auc_metr=[]\n",
    "roc_auc_metr.append(roc_auc1)\n",
    "for i in corr_target_list:\n",
    "    X=X.drop(i, axis=1)\n",
    "    model = LogisticRegression(random_state=0, solver='lbfgs',multi_class='multinomial').fit(X, Y)\n",
    "    y_predict=model.predict(X)\n",
    "    roc_auc = np.round(roc_auc_score(Y, y_predict), 2)\n",
    "    roc_auc_metr.append(roc_auc)"
   ]
  },
  {
   "cell_type": "code",
   "execution_count": 32,
   "metadata": {},
   "outputs": [
    {
     "data": {
      "text/plain": [
       "[0.62, 0.75, 0.75, 0.76, 0.75, 0.74, 0.76, 0.73, 0.72, 0.72, 0.68, 0.5, 0.5]"
      ]
     },
     "execution_count": 32,
     "metadata": {},
     "output_type": "execute_result"
    }
   ],
   "source": [
    "roc_auc_metr"
   ]
  },
  {
   "cell_type": "code",
   "execution_count": 37,
   "metadata": {},
   "outputs": [],
   "source": [
    "X=train_set.drop(['income_target', 'fnlwgt','native-country_woe','race_woe'], axis=1)\n",
    "model = LogisticRegression(random_state=0, solver='lbfgs',multi_class='multinomial').fit(X, Y)\n",
    "y_predict=model.predict(X)\n",
    "score=model.score(X, Y)\n",
    "roc_auc = np.round(roc_auc_score(Y, y_predict), 2)"
   ]
  },
  {
   "cell_type": "code",
   "execution_count": 38,
   "metadata": {},
   "outputs": [
    {
     "name": "stdout",
     "output_type": "stream",
     "text": [
      "0.8383617709687232 0.76\n"
     ]
    }
   ],
   "source": [
    "print (score, roc_auc)"
   ]
  },
  {
   "cell_type": "code",
   "execution_count": 39,
   "metadata": {},
   "outputs": [],
   "source": [
    "X_test=test_set.drop(['income_target', 'fnlwgt','native-country_woe','race_woe'], axis=1)\n",
    "Y_test=test_set['income_target']\n",
    "model = LogisticRegression(random_state=0, solver='lbfgs',multi_class='multinomial').fit(X_test, Y_test)\n",
    "y_predict_test=model.predict(X_test)\n",
    "score_test=model.score(X_test, Y_test)\n",
    "roc_auc_test = np.round(roc_auc_score(Y_test, y_predict_test), 2)"
   ]
  },
  {
   "cell_type": "code",
   "execution_count": 40,
   "metadata": {},
   "outputs": [
    {
     "name": "stdout",
     "output_type": "stream",
     "text": [
      "0.8441127694859039 0.75\n"
     ]
    }
   ],
   "source": [
    "print (score_test, roc_auc_test)"
   ]
  },
  {
   "cell_type": "code",
   "execution_count": null,
   "metadata": {},
   "outputs": [],
   "source": []
  }
 ],
 "metadata": {
  "kernelspec": {
   "display_name": "Python 3",
   "language": "python",
   "name": "python3"
  },
  "language_info": {
   "codemirror_mode": {
    "name": "ipython",
    "version": 3
   },
   "file_extension": ".py",
   "mimetype": "text/x-python",
   "name": "python",
   "nbconvert_exporter": "python",
   "pygments_lexer": "ipython3",
   "version": "3.7.0"
  }
 },
 "nbformat": 4,
 "nbformat_minor": 2
}
