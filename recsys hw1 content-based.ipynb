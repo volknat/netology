{
 "cells": [
  {
   "cell_type": "code",
   "execution_count": 1,
   "metadata": {},
   "outputs": [],
   "source": [
    "import pandas as pd\n",
    "import numpy as np\n",
    "\n",
    "from tqdm import tqdm_notebook, tqdm\n",
    "\n",
    "from sklearn.feature_extraction.text import TfidfTransformer, CountVectorizer\n",
    "from sklearn.neighbors import NearestNeighbors\n",
    "\n",
    "%matplotlib inline"
   ]
  },
  {
   "cell_type": "code",
   "execution_count": 2,
   "metadata": {},
   "outputs": [],
   "source": [
    "links = pd.read_csv('ml-latest/links.csv')\n",
    "movies = pd.read_csv('ml-latest/movies.csv')\n",
    "ratings = pd.read_csv('ml-latest/ratings.csv')\n",
    "tags = pd.read_csv('ml-latest/tags.csv')"
   ]
  },
  {
   "cell_type": "code",
   "execution_count": 3,
   "metadata": {},
   "outputs": [],
   "source": [
    "def change_string(s):\n",
    "    return ' '.join(s.replace(' ', '').replace('-', '').split('|'))"
   ]
  },
  {
   "cell_type": "code",
   "execution_count": 4,
   "metadata": {},
   "outputs": [],
   "source": [
    "tags.dropna(inplace=True)"
   ]
  },
  {
   "cell_type": "code",
   "execution_count": 5,
   "metadata": {},
   "outputs": [],
   "source": [
    "tags['tag']=[x.lower() for x in tags['tag'].values]"
   ]
  },
  {
   "cell_type": "markdown",
   "metadata": {},
   "source": [
    "Для каждого фильма берем 30 тегов, которые давали ему пользователи"
   ]
  },
  {
   "cell_type": "code",
   "execution_count": 6,
   "metadata": {},
   "outputs": [
    {
     "name": "stderr",
     "output_type": "stream",
     "text": [
      "100%|███████████████████████████████████████████████████████████████████████████| 45981/45981 [04:24<00:00, 173.94it/s]\n"
     ]
    }
   ],
   "source": [
    "films_tag={}\n",
    "for i in tqdm(set(tags['movieId'])):\n",
    "    table=tags[tags['movieId']==i]\n",
    "    a=table['tag'].value_counts()[:30].index.tolist()\n",
    "    a=' '.join(a)\n",
    "    films_tag[i]=a"
   ]
  },
  {
   "cell_type": "code",
   "execution_count": 7,
   "metadata": {},
   "outputs": [],
   "source": [
    "films_tag=pd.DataFrame.from_dict(films_tag, orient='index')"
   ]
  },
  {
   "cell_type": "code",
   "execution_count": 8,
   "metadata": {},
   "outputs": [],
   "source": [
    "films_tag.reset_index(inplace=True)"
   ]
  },
  {
   "cell_type": "code",
   "execution_count": 9,
   "metadata": {},
   "outputs": [],
   "source": [
    "movies_with_tags=movies.merge(films_tag, right_on='index', left_on='movieId')"
   ]
  },
  {
   "cell_type": "code",
   "execution_count": 10,
   "metadata": {},
   "outputs": [],
   "source": [
    "movies_with_tags['tag']=movies_with_tags[0]"
   ]
  },
  {
   "cell_type": "code",
   "execution_count": 11,
   "metadata": {},
   "outputs": [],
   "source": [
    "movies_with_tags.drop([0, 'index'], axis=1, inplace=True)"
   ]
  },
  {
   "cell_type": "code",
   "execution_count": 12,
   "metadata": {},
   "outputs": [
    {
     "data": {
      "text/html": [
       "<div>\n",
       "<style scoped>\n",
       "    .dataframe tbody tr th:only-of-type {\n",
       "        vertical-align: middle;\n",
       "    }\n",
       "\n",
       "    .dataframe tbody tr th {\n",
       "        vertical-align: top;\n",
       "    }\n",
       "\n",
       "    .dataframe thead th {\n",
       "        text-align: right;\n",
       "    }\n",
       "</style>\n",
       "<table border=\"1\" class=\"dataframe\">\n",
       "  <thead>\n",
       "    <tr style=\"text-align: right;\">\n",
       "      <th></th>\n",
       "      <th>movieId</th>\n",
       "      <th>title</th>\n",
       "      <th>genres</th>\n",
       "      <th>tag</th>\n",
       "    </tr>\n",
       "  </thead>\n",
       "  <tbody>\n",
       "    <tr>\n",
       "      <th>0</th>\n",
       "      <td>1</td>\n",
       "      <td>Toy Story (1995)</td>\n",
       "      <td>Adventure|Animation|Children|Comedy|Fantasy</td>\n",
       "      <td>pixar animation disney tom hanks funny compute...</td>\n",
       "    </tr>\n",
       "    <tr>\n",
       "      <th>1</th>\n",
       "      <td>2</td>\n",
       "      <td>Jumanji (1995)</td>\n",
       "      <td>Adventure|Children|Fantasy</td>\n",
       "      <td>robin williams fantasy time travel board game ...</td>\n",
       "    </tr>\n",
       "    <tr>\n",
       "      <th>2</th>\n",
       "      <td>3</td>\n",
       "      <td>Grumpier Old Men (1995)</td>\n",
       "      <td>Comedy|Romance</td>\n",
       "      <td>jack lemmon walter matthau fishing sequel old ...</td>\n",
       "    </tr>\n",
       "    <tr>\n",
       "      <th>3</th>\n",
       "      <td>4</td>\n",
       "      <td>Waiting to Exhale (1995)</td>\n",
       "      <td>Comedy|Drama|Romance</td>\n",
       "      <td>chick flick characters girl movie divorce reve...</td>\n",
       "    </tr>\n",
       "    <tr>\n",
       "      <th>4</th>\n",
       "      <td>5</td>\n",
       "      <td>Father of the Bride Part II (1995)</td>\n",
       "      <td>Comedy</td>\n",
       "      <td>steve martin pregnancy family comedy wedding c...</td>\n",
       "    </tr>\n",
       "  </tbody>\n",
       "</table>\n",
       "</div>"
      ],
      "text/plain": [
       "   movieId                               title  \\\n",
       "0        1                    Toy Story (1995)   \n",
       "1        2                      Jumanji (1995)   \n",
       "2        3             Grumpier Old Men (1995)   \n",
       "3        4            Waiting to Exhale (1995)   \n",
       "4        5  Father of the Bride Part II (1995)   \n",
       "\n",
       "                                        genres  \\\n",
       "0  Adventure|Animation|Children|Comedy|Fantasy   \n",
       "1                   Adventure|Children|Fantasy   \n",
       "2                               Comedy|Romance   \n",
       "3                         Comedy|Drama|Romance   \n",
       "4                                       Comedy   \n",
       "\n",
       "                                                 tag  \n",
       "0  pixar animation disney tom hanks funny compute...  \n",
       "1  robin williams fantasy time travel board game ...  \n",
       "2  jack lemmon walter matthau fishing sequel old ...  \n",
       "3  chick flick characters girl movie divorce reve...  \n",
       "4  steve martin pregnancy family comedy wedding c...  "
      ]
     },
     "execution_count": 12,
     "metadata": {},
     "output_type": "execute_result"
    }
   ],
   "source": [
    "movies_with_tags.head(5)"
   ]
  },
  {
   "cell_type": "code",
   "execution_count": 13,
   "metadata": {},
   "outputs": [],
   "source": [
    "movie_genres = [change_string(g) for g in movies_with_tags.genres.values]\n",
    "movies_with_tags['genres']=movie_genres"
   ]
  },
  {
   "cell_type": "code",
   "execution_count": 14,
   "metadata": {},
   "outputs": [],
   "source": [
    "movies_with_tags['genres_tags']=movies_with_tags['genres']+' '+movies_with_tags['tag']"
   ]
  },
  {
   "cell_type": "code",
   "execution_count": 15,
   "metadata": {},
   "outputs": [
    {
     "data": {
      "text/html": [
       "<div>\n",
       "<style scoped>\n",
       "    .dataframe tbody tr th:only-of-type {\n",
       "        vertical-align: middle;\n",
       "    }\n",
       "\n",
       "    .dataframe tbody tr th {\n",
       "        vertical-align: top;\n",
       "    }\n",
       "\n",
       "    .dataframe thead th {\n",
       "        text-align: right;\n",
       "    }\n",
       "</style>\n",
       "<table border=\"1\" class=\"dataframe\">\n",
       "  <thead>\n",
       "    <tr style=\"text-align: right;\">\n",
       "      <th></th>\n",
       "      <th>movieId</th>\n",
       "      <th>title</th>\n",
       "      <th>genres</th>\n",
       "      <th>tag</th>\n",
       "      <th>genres_tags</th>\n",
       "    </tr>\n",
       "  </thead>\n",
       "  <tbody>\n",
       "    <tr>\n",
       "      <th>0</th>\n",
       "      <td>1</td>\n",
       "      <td>Toy Story (1995)</td>\n",
       "      <td>Adventure Animation Children Comedy Fantasy</td>\n",
       "      <td>pixar animation disney tom hanks funny compute...</td>\n",
       "      <td>Adventure Animation Children Comedy Fantasy pi...</td>\n",
       "    </tr>\n",
       "    <tr>\n",
       "      <th>1</th>\n",
       "      <td>2</td>\n",
       "      <td>Jumanji (1995)</td>\n",
       "      <td>Adventure Children Fantasy</td>\n",
       "      <td>robin williams fantasy time travel board game ...</td>\n",
       "      <td>Adventure Children Fantasy robin williams fant...</td>\n",
       "    </tr>\n",
       "    <tr>\n",
       "      <th>2</th>\n",
       "      <td>3</td>\n",
       "      <td>Grumpier Old Men (1995)</td>\n",
       "      <td>Comedy Romance</td>\n",
       "      <td>jack lemmon walter matthau fishing sequel old ...</td>\n",
       "      <td>Comedy Romance jack lemmon walter matthau fish...</td>\n",
       "    </tr>\n",
       "    <tr>\n",
       "      <th>3</th>\n",
       "      <td>4</td>\n",
       "      <td>Waiting to Exhale (1995)</td>\n",
       "      <td>Comedy Drama Romance</td>\n",
       "      <td>chick flick characters girl movie divorce reve...</td>\n",
       "      <td>Comedy Drama Romance chick flick characters gi...</td>\n",
       "    </tr>\n",
       "    <tr>\n",
       "      <th>4</th>\n",
       "      <td>5</td>\n",
       "      <td>Father of the Bride Part II (1995)</td>\n",
       "      <td>Comedy</td>\n",
       "      <td>steve martin pregnancy family comedy wedding c...</td>\n",
       "      <td>Comedy steve martin pregnancy family comedy we...</td>\n",
       "    </tr>\n",
       "  </tbody>\n",
       "</table>\n",
       "</div>"
      ],
      "text/plain": [
       "   movieId                               title  \\\n",
       "0        1                    Toy Story (1995)   \n",
       "1        2                      Jumanji (1995)   \n",
       "2        3             Grumpier Old Men (1995)   \n",
       "3        4            Waiting to Exhale (1995)   \n",
       "4        5  Father of the Bride Part II (1995)   \n",
       "\n",
       "                                        genres  \\\n",
       "0  Adventure Animation Children Comedy Fantasy   \n",
       "1                   Adventure Children Fantasy   \n",
       "2                               Comedy Romance   \n",
       "3                         Comedy Drama Romance   \n",
       "4                                       Comedy   \n",
       "\n",
       "                                                 tag  \\\n",
       "0  pixar animation disney tom hanks funny compute...   \n",
       "1  robin williams fantasy time travel board game ...   \n",
       "2  jack lemmon walter matthau fishing sequel old ...   \n",
       "3  chick flick characters girl movie divorce reve...   \n",
       "4  steve martin pregnancy family comedy wedding c...   \n",
       "\n",
       "                                         genres_tags  \n",
       "0  Adventure Animation Children Comedy Fantasy pi...  \n",
       "1  Adventure Children Fantasy robin williams fant...  \n",
       "2  Comedy Romance jack lemmon walter matthau fish...  \n",
       "3  Comedy Drama Romance chick flick characters gi...  \n",
       "4  Comedy steve martin pregnancy family comedy we...  "
      ]
     },
     "execution_count": 15,
     "metadata": {},
     "output_type": "execute_result"
    }
   ],
   "source": [
    "movies_with_tags.head()"
   ]
  },
  {
   "cell_type": "markdown",
   "metadata": {},
   "source": [
    "для начала сделаем модель, предсказывающую среднюю оценку пользователей в зависимости от тегов и жанра"
   ]
  },
  {
   "cell_type": "code",
   "execution_count": 16,
   "metadata": {},
   "outputs": [],
   "source": [
    "av_rating=ratings.groupby(['movieId']).median().reset_index()"
   ]
  },
  {
   "cell_type": "code",
   "execution_count": 17,
   "metadata": {},
   "outputs": [],
   "source": [
    "movies_with_tags=movies_with_tags.merge(av_rating, on='movieId', how='left')"
   ]
  },
  {
   "cell_type": "code",
   "execution_count": 18,
   "metadata": {},
   "outputs": [],
   "source": [
    "movies_with_tags.dropna(inplace=True)"
   ]
  },
  {
   "cell_type": "code",
   "execution_count": 19,
   "metadata": {},
   "outputs": [],
   "source": [
    "count_vect = CountVectorizer()\n",
    "tfidf_transformer = TfidfTransformer()"
   ]
  },
  {
   "cell_type": "code",
   "execution_count": 20,
   "metadata": {},
   "outputs": [],
   "source": [
    "from sklearn.model_selection import train_test_split"
   ]
  },
  {
   "cell_type": "code",
   "execution_count": 21,
   "metadata": {},
   "outputs": [],
   "source": [
    "from sklearn.neighbors import KNeighborsRegressor\n",
    "y=movies_with_tags['rating']\n",
    "X_train_counts_genres_tags= count_vect.fit_transform(movies_with_tags['genres_tags'])\n",
    "X_train_tfidf = tfidf_transformer.fit_transform(X_train_counts_genres_tags)\n",
    "X_train, X_test, y_train, y_test = train_test_split(X_train_tfidf, y, test_size=0.33, random_state=42)\n",
    "neigh = KNeighborsRegressor(n_neighbors=30, metric='euclidean')\n",
    "neigh.fit(X_train, y_train)\n",
    "y_pred=neigh.predict(X_test)"
   ]
  },
  {
   "cell_type": "code",
   "execution_count": 22,
   "metadata": {},
   "outputs": [
    {
     "data": {
      "text/plain": [
       "0.7011732859625841"
      ]
     },
     "execution_count": 22,
     "metadata": {},
     "output_type": "execute_result"
    }
   ],
   "source": [
    "from sklearn.metrics import mean_squared_error\n",
    "mean_squared_error(y_test, y_pred)**(1/2)"
   ]
  },
  {
   "cell_type": "markdown",
   "metadata": {},
   "source": [
    "на тестовой выборке мы получили целевое значение метрики, но она характеризует, насколько мы хорошо предсказываем средний рейтинг фильма. То есть мы всем можем рекомендовать фильмы, которые по прогнозам будут иметь высокий средний рейтинг. Посмотрим, как хорошо работает модель для конкретных пользователей. выберем фильмы, которым пользователи ставили хорошие оценки, подберем им ближайшего соседа, подтянем фильм-ближайший сосед, посмотрим какую оценку реально ему поставил пользователь, сравним их"
   ]
  },
  {
   "cell_type": "code",
   "execution_count": 23,
   "metadata": {},
   "outputs": [],
   "source": [
    "rating_top=ratings[ratings['rating']>=4]"
   ]
  },
  {
   "cell_type": "code",
   "execution_count": 24,
   "metadata": {},
   "outputs": [],
   "source": [
    "y_pred_1=neigh.predict(X_test)"
   ]
  },
  {
   "cell_type": "code",
   "execution_count": 25,
   "metadata": {},
   "outputs": [
    {
     "data": {
      "text/html": [
       "<div>\n",
       "<style scoped>\n",
       "    .dataframe tbody tr th:only-of-type {\n",
       "        vertical-align: middle;\n",
       "    }\n",
       "\n",
       "    .dataframe tbody tr th {\n",
       "        vertical-align: top;\n",
       "    }\n",
       "\n",
       "    .dataframe thead th {\n",
       "        text-align: right;\n",
       "    }\n",
       "</style>\n",
       "<table border=\"1\" class=\"dataframe\">\n",
       "  <thead>\n",
       "    <tr style=\"text-align: right;\">\n",
       "      <th></th>\n",
       "      <th>userId</th>\n",
       "      <th>movieId</th>\n",
       "      <th>rating</th>\n",
       "      <th>timestamp</th>\n",
       "    </tr>\n",
       "  </thead>\n",
       "  <tbody>\n",
       "    <tr>\n",
       "      <th>3</th>\n",
       "      <td>1</td>\n",
       "      <td>1257</td>\n",
       "      <td>4.5</td>\n",
       "      <td>1256677460</td>\n",
       "    </tr>\n",
       "    <tr>\n",
       "      <th>4</th>\n",
       "      <td>1</td>\n",
       "      <td>1449</td>\n",
       "      <td>4.5</td>\n",
       "      <td>1256677264</td>\n",
       "    </tr>\n",
       "    <tr>\n",
       "      <th>7</th>\n",
       "      <td>1</td>\n",
       "      <td>2134</td>\n",
       "      <td>4.5</td>\n",
       "      <td>1256677464</td>\n",
       "    </tr>\n",
       "    <tr>\n",
       "      <th>8</th>\n",
       "      <td>1</td>\n",
       "      <td>2478</td>\n",
       "      <td>4.0</td>\n",
       "      <td>1256677239</td>\n",
       "    </tr>\n",
       "    <tr>\n",
       "      <th>11</th>\n",
       "      <td>1</td>\n",
       "      <td>3020</td>\n",
       "      <td>4.0</td>\n",
       "      <td>1256677260</td>\n",
       "    </tr>\n",
       "  </tbody>\n",
       "</table>\n",
       "</div>"
      ],
      "text/plain": [
       "    userId  movieId  rating   timestamp\n",
       "3        1     1257     4.5  1256677460\n",
       "4        1     1449     4.5  1256677264\n",
       "7        1     2134     4.5  1256677464\n",
       "8        1     2478     4.0  1256677239\n",
       "11       1     3020     4.0  1256677260"
      ]
     },
     "execution_count": 25,
     "metadata": {},
     "output_type": "execute_result"
    }
   ],
   "source": [
    "rating_top.head()"
   ]
  },
  {
   "cell_type": "code",
   "execution_count": 26,
   "metadata": {},
   "outputs": [],
   "source": [
    "rec={}\n",
    "for i in rating_top['movieId'][:5000]:\n",
    "    try:\n",
    "        test=movies_with_tags[movies_with_tags['movieId']==i]['genres_tags']\n",
    "        predict = count_vect.transform(test)\n",
    "        X_tfidf2 = tfidf_transformer.transform(predict)\n",
    "        res = neigh.kneighbors(X_tfidf2, return_distance=True)\n",
    "        film=res[1].tolist()[0][res[0].tolist()[0].index(res[0].min())]\n",
    "    except:\n",
    "        film=0\n",
    "    rec[i]=film"
   ]
  },
  {
   "cell_type": "code",
   "execution_count": 27,
   "metadata": {},
   "outputs": [],
   "source": [
    "rec_pd=pd.DataFrame.from_dict(rec, orient='index')"
   ]
  },
  {
   "cell_type": "code",
   "execution_count": 28,
   "metadata": {},
   "outputs": [],
   "source": [
    "rec_pd=rec_pd.reset_index()"
   ]
  },
  {
   "cell_type": "code",
   "execution_count": 29,
   "metadata": {},
   "outputs": [],
   "source": [
    "rating_top=rating_top.merge(rec_pd, right_on='index', left_on='movieId', how='left')"
   ]
  },
  {
   "cell_type": "code",
   "execution_count": 30,
   "metadata": {},
   "outputs": [],
   "source": [
    "rating_top['recommendations']=rating_top[0]"
   ]
  },
  {
   "cell_type": "code",
   "execution_count": 31,
   "metadata": {},
   "outputs": [
    {
     "data": {
      "text/html": [
       "<div>\n",
       "<style scoped>\n",
       "    .dataframe tbody tr th:only-of-type {\n",
       "        vertical-align: middle;\n",
       "    }\n",
       "\n",
       "    .dataframe tbody tr th {\n",
       "        vertical-align: top;\n",
       "    }\n",
       "\n",
       "    .dataframe thead th {\n",
       "        text-align: right;\n",
       "    }\n",
       "</style>\n",
       "<table border=\"1\" class=\"dataframe\">\n",
       "  <thead>\n",
       "    <tr style=\"text-align: right;\">\n",
       "      <th></th>\n",
       "      <th>userId</th>\n",
       "      <th>movieId</th>\n",
       "      <th>rating</th>\n",
       "      <th>timestamp</th>\n",
       "      <th>index</th>\n",
       "      <th>0</th>\n",
       "      <th>recommendations</th>\n",
       "    </tr>\n",
       "  </thead>\n",
       "  <tbody>\n",
       "    <tr>\n",
       "      <th>0</th>\n",
       "      <td>1</td>\n",
       "      <td>1257</td>\n",
       "      <td>4.5</td>\n",
       "      <td>1256677460</td>\n",
       "      <td>1257.0</td>\n",
       "      <td>7582.0</td>\n",
       "      <td>7582.0</td>\n",
       "    </tr>\n",
       "    <tr>\n",
       "      <th>1</th>\n",
       "      <td>1</td>\n",
       "      <td>1449</td>\n",
       "      <td>4.5</td>\n",
       "      <td>1256677264</td>\n",
       "      <td>1449.0</td>\n",
       "      <td>1097.0</td>\n",
       "      <td>1097.0</td>\n",
       "    </tr>\n",
       "    <tr>\n",
       "      <th>2</th>\n",
       "      <td>1</td>\n",
       "      <td>2134</td>\n",
       "      <td>4.5</td>\n",
       "      <td>1256677464</td>\n",
       "      <td>2134.0</td>\n",
       "      <td>16471.0</td>\n",
       "      <td>16471.0</td>\n",
       "    </tr>\n",
       "    <tr>\n",
       "      <th>3</th>\n",
       "      <td>1</td>\n",
       "      <td>2478</td>\n",
       "      <td>4.0</td>\n",
       "      <td>1256677239</td>\n",
       "      <td>2478.0</td>\n",
       "      <td>19970.0</td>\n",
       "      <td>19970.0</td>\n",
       "    </tr>\n",
       "    <tr>\n",
       "      <th>4</th>\n",
       "      <td>1</td>\n",
       "      <td>3020</td>\n",
       "      <td>4.0</td>\n",
       "      <td>1256677260</td>\n",
       "      <td>3020.0</td>\n",
       "      <td>23661.0</td>\n",
       "      <td>23661.0</td>\n",
       "    </tr>\n",
       "  </tbody>\n",
       "</table>\n",
       "</div>"
      ],
      "text/plain": [
       "   userId  movieId  rating   timestamp   index        0  recommendations\n",
       "0       1     1257     4.5  1256677460  1257.0   7582.0           7582.0\n",
       "1       1     1449     4.5  1256677264  1449.0   1097.0           1097.0\n",
       "2       1     2134     4.5  1256677464  2134.0  16471.0          16471.0\n",
       "3       1     2478     4.0  1256677239  2478.0  19970.0          19970.0\n",
       "4       1     3020     4.0  1256677260  3020.0  23661.0          23661.0"
      ]
     },
     "execution_count": 31,
     "metadata": {},
     "output_type": "execute_result"
    }
   ],
   "source": [
    "rating_top.head()"
   ]
  },
  {
   "cell_type": "code",
   "execution_count": 32,
   "metadata": {},
   "outputs": [],
   "source": [
    "rating_top_rec=rating_top.merge(ratings, left_on=['userId','recommendations'], right_on=['userId', 'movieId'], how='left')"
   ]
  },
  {
   "cell_type": "code",
   "execution_count": 33,
   "metadata": {},
   "outputs": [],
   "source": [
    "rating_top_rec.dropna(inplace=True)"
   ]
  },
  {
   "cell_type": "code",
   "execution_count": 34,
   "metadata": {},
   "outputs": [
    {
     "data": {
      "text/plain": [
       "1.3243999666914437"
      ]
     },
     "execution_count": 34,
     "metadata": {},
     "output_type": "execute_result"
    }
   ],
   "source": [
    "mean_squared_error(rating_top_rec['rating_x'], rating_top_rec['rating_y'])**(1/2)"
   ]
  },
  {
   "cell_type": "markdown",
   "metadata": {},
   "source": [
    "метрика вышла за целевое значение, учитывая то, что в оценки участвовали и тестовые, и тренеровочные данные. \n",
    "Но в оценке учитываются случаи, когда реальная оценка по ближайшему соседу (рекомендуемого фильма) выше оценки изначального фильма. Поскольку данная ситуация положительная, уберем данные случаи"
   ]
  },
  {
   "cell_type": "code",
   "execution_count": 44,
   "metadata": {},
   "outputs": [
    {
     "name": "stderr",
     "output_type": "stream",
     "text": [
      "100%|███████████████████████████████████████████████████████████████████████| 145839/145839 [00:02<00:00, 61791.16it/s]\n"
     ]
    }
   ],
   "source": [
    "rating2=[]\n",
    "for x in tqdm(range(len(rating_top_rec['rating_x']))):\n",
    "    if rating_top_rec['rating_x'].values[x]<rating_top_rec['rating_y'].values[x]:\n",
    "        rating2.append(rating_top_rec['rating_y'].values[x])\n",
    "    else:\n",
    "        rating2.append(rating_top_rec['rating_x'].values[x])\n",
    "rating_top_rec['rating_x_2']=rating2"
   ]
  },
  {
   "cell_type": "code",
   "execution_count": 46,
   "metadata": {},
   "outputs": [
    {
     "data": {
      "text/plain": [
       "1.2936414167431567"
      ]
     },
     "execution_count": 46,
     "metadata": {},
     "output_type": "execute_result"
    }
   ],
   "source": [
    "mean_squared_error(rating_top_rec['rating_x_2'], rating_top_rec['rating_y'])**(1/2)"
   ]
  },
  {
   "cell_type": "markdown",
   "metadata": {},
   "source": [
    "лучше не стало"
   ]
  },
  {
   "cell_type": "markdown",
   "metadata": {},
   "source": [
    "Посмотрим, какие оценки должны были получиться, если бы  мы их предсказывали по факторам"
   ]
  },
  {
   "cell_type": "code",
   "execution_count": 49,
   "metadata": {},
   "outputs": [],
   "source": [
    "rating_top_rec2=rating_top.merge(movies_with_tags, left_on=['recommendations'], right_on=['movieId'], how='left')"
   ]
  },
  {
   "cell_type": "code",
   "execution_count": 50,
   "metadata": {},
   "outputs": [],
   "source": [
    "rating_top_rec2.dropna(inplace=True)"
   ]
  },
  {
   "cell_type": "code",
   "execution_count": 51,
   "metadata": {},
   "outputs": [],
   "source": [
    "rating_top_rec2=rating_top_rec2[-5000:]"
   ]
  },
  {
   "cell_type": "code",
   "execution_count": 52,
   "metadata": {},
   "outputs": [],
   "source": [
    "X_counts_genres_tags= count_vect.transform(rating_top_rec2['genres_tags'])\n",
    "X_tfidf = tfidf_transformer.transform(X_counts_genres_tags)\n",
    "y_pred=neigh.predict(X_tfidf)"
   ]
  },
  {
   "cell_type": "code",
   "execution_count": 53,
   "metadata": {},
   "outputs": [
    {
     "data": {
      "text/plain": [
       "0.5722010743125571"
      ]
     },
     "execution_count": 53,
     "metadata": {},
     "output_type": "execute_result"
    }
   ],
   "source": [
    "mean_squared_error(y_pred, rating_top_rec2['rating_y'])**(1/2)"
   ]
  },
  {
   "cell_type": "markdown",
   "metadata": {},
   "source": [
    "Видим, что мы попадаем в целевую метрику (но помним, что считали метрику и на тестовой, и на тренировочной выборке). Получается, модель нормального качества, но ближайшие соседи оказались не такими близкими"
   ]
  },
  {
   "cell_type": "markdown",
   "metadata": {},
   "source": [
    "Попробуем разделить людей на сегменты и включить номер сегмента в факторы."
   ]
  },
  {
   "cell_type": "code",
   "execution_count": 54,
   "metadata": {},
   "outputs": [],
   "source": [
    "ratings.dropna(inplace=True)"
   ]
  },
  {
   "cell_type": "code",
   "execution_count": 55,
   "metadata": {},
   "outputs": [],
   "source": [
    "\n",
    "ratings_piv=pd.pivot_table(ratings[:500000], columns=['movieId'], index=['userId'],values=['rating'], aggfunc=np.mean)"
   ]
  },
  {
   "cell_type": "code",
   "execution_count": 56,
   "metadata": {},
   "outputs": [],
   "source": [
    "ratings_piv=ratings_piv.fillna(0)\n",
    "ratings_piv=ratings_piv.reset_index()"
   ]
  },
  {
   "cell_type": "code",
   "execution_count": 57,
   "metadata": {},
   "outputs": [],
   "source": [
    "X=ratings_piv"
   ]
  },
  {
   "cell_type": "code",
   "execution_count": 58,
   "metadata": {},
   "outputs": [],
   "source": [
    "from sklearn.cluster import KMeans"
   ]
  },
  {
   "cell_type": "code",
   "execution_count": 59,
   "metadata": {},
   "outputs": [],
   "source": [
    "kmeans = KMeans(n_clusters=10, random_state=0).fit(X)\n",
    "cluster=kmeans.predict(X)"
   ]
  },
  {
   "cell_type": "code",
   "execution_count": 60,
   "metadata": {},
   "outputs": [],
   "source": [
    "ratings_cluster=ratings_piv.drop(ratings_piv.columns.tolist()[1:], axis=1)"
   ]
  },
  {
   "cell_type": "code",
   "execution_count": 61,
   "metadata": {},
   "outputs": [],
   "source": [
    "ratings_cluster['cluster']=cluster"
   ]
  },
  {
   "cell_type": "code",
   "execution_count": 62,
   "metadata": {},
   "outputs": [
    {
     "name": "stderr",
     "output_type": "stream",
     "text": [
      "C:\\Users\\volko\\Anaconda3\\lib\\site-packages\\pandas\\core\\reshape\\merge.py:544: UserWarning: merging between different levels can give an unintended result (1 levels on the left, 2 on the right)\n",
      "  warnings.warn(msg, UserWarning)\n"
     ]
    }
   ],
   "source": [
    "ratings_with_cluster=ratings.merge(ratings_cluster, left_on=['userId'], right_on=['userId'],how='left')"
   ]
  },
  {
   "cell_type": "code",
   "execution_count": 63,
   "metadata": {},
   "outputs": [],
   "source": [
    "ratings_with_cluster.dropna(inplace=True)"
   ]
  },
  {
   "cell_type": "code",
   "execution_count": 64,
   "metadata": {},
   "outputs": [
    {
     "data": {
      "text/html": [
       "<div>\n",
       "<style scoped>\n",
       "    .dataframe tbody tr th:only-of-type {\n",
       "        vertical-align: middle;\n",
       "    }\n",
       "\n",
       "    .dataframe tbody tr th {\n",
       "        vertical-align: top;\n",
       "    }\n",
       "\n",
       "    .dataframe thead th {\n",
       "        text-align: right;\n",
       "    }\n",
       "</style>\n",
       "<table border=\"1\" class=\"dataframe\">\n",
       "  <thead>\n",
       "    <tr style=\"text-align: right;\">\n",
       "      <th></th>\n",
       "      <th>movieId</th>\n",
       "      <th>title</th>\n",
       "      <th>genres</th>\n",
       "      <th>tag</th>\n",
       "      <th>genres_tags</th>\n",
       "      <th>userId</th>\n",
       "      <th>rating</th>\n",
       "      <th>timestamp</th>\n",
       "    </tr>\n",
       "  </thead>\n",
       "  <tbody>\n",
       "    <tr>\n",
       "      <th>0</th>\n",
       "      <td>1</td>\n",
       "      <td>Toy Story (1995)</td>\n",
       "      <td>Adventure Animation Children Comedy Fantasy</td>\n",
       "      <td>pixar animation disney tom hanks funny compute...</td>\n",
       "      <td>Adventure Animation Children Comedy Fantasy pi...</td>\n",
       "      <td>142225.0</td>\n",
       "      <td>4.0</td>\n",
       "      <td>1.111486e+09</td>\n",
       "    </tr>\n",
       "    <tr>\n",
       "      <th>1</th>\n",
       "      <td>2</td>\n",
       "      <td>Jumanji (1995)</td>\n",
       "      <td>Adventure Children Fantasy</td>\n",
       "      <td>robin williams fantasy time travel board game ...</td>\n",
       "      <td>Adventure Children Fantasy robin williams fant...</td>\n",
       "      <td>142878.0</td>\n",
       "      <td>3.0</td>\n",
       "      <td>1.100649e+09</td>\n",
       "    </tr>\n",
       "    <tr>\n",
       "      <th>2</th>\n",
       "      <td>3</td>\n",
       "      <td>Grumpier Old Men (1995)</td>\n",
       "      <td>Comedy Romance</td>\n",
       "      <td>jack lemmon walter matthau fishing sequel old ...</td>\n",
       "      <td>Comedy Romance jack lemmon walter matthau fish...</td>\n",
       "      <td>140423.0</td>\n",
       "      <td>3.0</td>\n",
       "      <td>8.660616e+08</td>\n",
       "    </tr>\n",
       "    <tr>\n",
       "      <th>3</th>\n",
       "      <td>4</td>\n",
       "      <td>Waiting to Exhale (1995)</td>\n",
       "      <td>Comedy Drama Romance</td>\n",
       "      <td>chick flick characters girl movie divorce reve...</td>\n",
       "      <td>Comedy Drama Romance chick flick characters gi...</td>\n",
       "      <td>139959.0</td>\n",
       "      <td>3.0</td>\n",
       "      <td>8.652759e+08</td>\n",
       "    </tr>\n",
       "    <tr>\n",
       "      <th>4</th>\n",
       "      <td>5</td>\n",
       "      <td>Father of the Bride Part II (1995)</td>\n",
       "      <td>Comedy</td>\n",
       "      <td>steve martin pregnancy family comedy wedding c...</td>\n",
       "      <td>Comedy steve martin pregnancy family comedy we...</td>\n",
       "      <td>141542.5</td>\n",
       "      <td>3.0</td>\n",
       "      <td>8.651261e+08</td>\n",
       "    </tr>\n",
       "  </tbody>\n",
       "</table>\n",
       "</div>"
      ],
      "text/plain": [
       "   movieId                               title  \\\n",
       "0        1                    Toy Story (1995)   \n",
       "1        2                      Jumanji (1995)   \n",
       "2        3             Grumpier Old Men (1995)   \n",
       "3        4            Waiting to Exhale (1995)   \n",
       "4        5  Father of the Bride Part II (1995)   \n",
       "\n",
       "                                        genres  \\\n",
       "0  Adventure Animation Children Comedy Fantasy   \n",
       "1                   Adventure Children Fantasy   \n",
       "2                               Comedy Romance   \n",
       "3                         Comedy Drama Romance   \n",
       "4                                       Comedy   \n",
       "\n",
       "                                                 tag  \\\n",
       "0  pixar animation disney tom hanks funny compute...   \n",
       "1  robin williams fantasy time travel board game ...   \n",
       "2  jack lemmon walter matthau fishing sequel old ...   \n",
       "3  chick flick characters girl movie divorce reve...   \n",
       "4  steve martin pregnancy family comedy wedding c...   \n",
       "\n",
       "                                         genres_tags    userId  rating  \\\n",
       "0  Adventure Animation Children Comedy Fantasy pi...  142225.0     4.0   \n",
       "1  Adventure Children Fantasy robin williams fant...  142878.0     3.0   \n",
       "2  Comedy Romance jack lemmon walter matthau fish...  140423.0     3.0   \n",
       "3  Comedy Drama Romance chick flick characters gi...  139959.0     3.0   \n",
       "4  Comedy steve martin pregnancy family comedy we...  141542.5     3.0   \n",
       "\n",
       "      timestamp  \n",
       "0  1.111486e+09  \n",
       "1  1.100649e+09  \n",
       "2  8.660616e+08  \n",
       "3  8.652759e+08  \n",
       "4  8.651261e+08  "
      ]
     },
     "execution_count": 64,
     "metadata": {},
     "output_type": "execute_result"
    }
   ],
   "source": [
    "movies_with_tags.head()"
   ]
  },
  {
   "cell_type": "code",
   "execution_count": 65,
   "metadata": {},
   "outputs": [],
   "source": [
    "ratings_with_cluster_tags=ratings_with_cluster.merge(movies_with_tags[['movieId','genres_tags' ]], right_on=['movieId'], left_on=['movieId'])"
   ]
  },
  {
   "cell_type": "code",
   "execution_count": 66,
   "metadata": {},
   "outputs": [],
   "source": [
    "ratings_with_cluster_tags['genres_tags']=[x.lower() for x in ratings_with_cluster_tags['genres_tags'].values]"
   ]
  },
  {
   "cell_type": "code",
   "execution_count": 67,
   "metadata": {},
   "outputs": [],
   "source": [
    "ratings_with_cluster_tags['cluster']=[str(x) for x in ratings_with_cluster_tags[ratings_with_cluster_tags.columns.tolist()[-2]].values]"
   ]
  },
  {
   "cell_type": "code",
   "execution_count": 68,
   "metadata": {},
   "outputs": [],
   "source": [
    "ratings_with_cluster_tags['genres_tags']=[x+' ' for x in ratings_with_cluster_tags['genres_tags'].values]"
   ]
  },
  {
   "cell_type": "code",
   "execution_count": 69,
   "metadata": {},
   "outputs": [],
   "source": [
    "ratings_with_cluster_tags['genres_tags']=ratings_with_cluster_tags['genres_tags']+ratings_with_cluster_tags['cluster']"
   ]
  },
  {
   "cell_type": "code",
   "execution_count": null,
   "metadata": {},
   "outputs": [],
   "source": [
    "y=ratings_with_cluster_tags['rating'][:70000]\n",
    "X_train_counts_genres_tags= count_vect.fit_transform(ratings_with_cluster_tags['genres_tags'][:70000])\n",
    "X_train_tfidf = tfidf_transformer.fit_transform(X_train_counts_genres_tags)\n",
    "X_train, X_test, y_train, y_test = train_test_split(X_train_tfidf, y, test_size=0.33, random_state=42)\n",
    "neigh = KNeighborsRegressor(n_neighbors=20)\n",
    "neigh.fit(X_train, y_train)\n",
    "y_pred=neigh.predict(X_test)"
   ]
  },
  {
   "cell_type": "code",
   "execution_count": 71,
   "metadata": {},
   "outputs": [
    {
     "data": {
      "text/plain": [
       "0.9819464625013196"
      ]
     },
     "execution_count": 71,
     "metadata": {},
     "output_type": "execute_result"
    }
   ],
   "source": [
    "mean_squared_error(y_test, y_pred)**(1/2)"
   ]
  },
  {
   "cell_type": "code",
   "execution_count": null,
   "metadata": {},
   "outputs": [],
   "source": []
  }
 ],
 "metadata": {
  "kernelspec": {
   "display_name": "Python 3",
   "language": "python",
   "name": "python3"
  },
  "language_info": {
   "codemirror_mode": {
    "name": "ipython",
    "version": 3
   },
   "file_extension": ".py",
   "mimetype": "text/x-python",
   "name": "python",
   "nbconvert_exporter": "python",
   "pygments_lexer": "ipython3",
   "version": "3.7.1"
  }
 },
 "nbformat": 4,
 "nbformat_minor": 2
}
